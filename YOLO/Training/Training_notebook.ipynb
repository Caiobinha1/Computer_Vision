{
 "cells": [
  {
   "cell_type": "code",
   "execution_count": null,
   "metadata": {},
   "outputs": [],
   "source": [
    "#This notebook was run on kaggle"
   ]
  },
  {
   "cell_type": "code",
   "execution_count": 2,
   "metadata": {
    "execution": {
     "iopub.execute_input": "2024-11-25T17:53:32.814611Z",
     "iopub.status.busy": "2024-11-25T17:53:32.814320Z",
     "iopub.status.idle": "2024-11-25T17:53:57.076644Z",
     "shell.execute_reply": "2024-11-25T17:53:57.075564Z",
     "shell.execute_reply.started": "2024-11-25T17:53:32.814586Z"
    },
    "trusted": true
   },
   "outputs": [
    {
     "name": "stdout",
     "output_type": "stream",
     "text": [
      "Ultralytics 8.3.37 🚀 Python-3.10.14 torch-2.4.0 CUDA:0 (Tesla T4, 15095MiB)\n",
      "Setup complete ✅ (4 CPUs, 31.4 GB RAM, 5933.9/8062.4 GB disk)\n",
      "Collecting roboflow\n",
      "  Downloading roboflow-1.1.49-py3-none-any.whl.metadata (9.7 kB)\n",
      "Requirement already satisfied: certifi in /opt/conda/lib/python3.10/site-packages (from roboflow) (2024.7.4)\n",
      "Requirement already satisfied: idna==3.7 in /opt/conda/lib/python3.10/site-packages (from roboflow) (3.7)\n",
      "Requirement already satisfied: cycler in /opt/conda/lib/python3.10/site-packages (from roboflow) (0.12.1)\n",
      "Requirement already satisfied: kiwisolver>=1.3.1 in /opt/conda/lib/python3.10/site-packages (from roboflow) (1.4.5)\n",
      "Requirement already satisfied: matplotlib in /opt/conda/lib/python3.10/site-packages (from roboflow) (3.7.5)\n",
      "Requirement already satisfied: numpy>=1.18.5 in /opt/conda/lib/python3.10/site-packages (from roboflow) (1.26.4)\n",
      "Requirement already satisfied: opencv-python-headless==4.10.0.84 in /opt/conda/lib/python3.10/site-packages (from roboflow) (4.10.0.84)\n",
      "Requirement already satisfied: Pillow>=7.1.2 in /opt/conda/lib/python3.10/site-packages (from roboflow) (9.5.0)\n",
      "Requirement already satisfied: python-dateutil in /opt/conda/lib/python3.10/site-packages (from roboflow) (2.9.0.post0)\n",
      "Requirement already satisfied: python-dotenv in /opt/conda/lib/python3.10/site-packages (from roboflow) (1.0.1)\n",
      "Requirement already satisfied: requests in /opt/conda/lib/python3.10/site-packages (from roboflow) (2.32.3)\n",
      "Requirement already satisfied: six in /opt/conda/lib/python3.10/site-packages (from roboflow) (1.16.0)\n",
      "Requirement already satisfied: urllib3>=1.26.6 in /opt/conda/lib/python3.10/site-packages (from roboflow) (1.26.18)\n",
      "Requirement already satisfied: tqdm>=4.41.0 in /opt/conda/lib/python3.10/site-packages (from roboflow) (4.66.4)\n",
      "Requirement already satisfied: PyYAML>=5.3.1 in /opt/conda/lib/python3.10/site-packages (from roboflow) (6.0.2)\n",
      "Requirement already satisfied: requests-toolbelt in /opt/conda/lib/python3.10/site-packages (from roboflow) (0.10.1)\n",
      "Collecting filetype (from roboflow)\n",
      "  Downloading filetype-1.2.0-py2.py3-none-any.whl.metadata (6.5 kB)\n",
      "Requirement already satisfied: contourpy>=1.0.1 in /opt/conda/lib/python3.10/site-packages (from matplotlib->roboflow) (1.2.1)\n",
      "Requirement already satisfied: fonttools>=4.22.0 in /opt/conda/lib/python3.10/site-packages (from matplotlib->roboflow) (4.53.0)\n",
      "Requirement already satisfied: packaging>=20.0 in /opt/conda/lib/python3.10/site-packages (from matplotlib->roboflow) (21.3)\n",
      "Requirement already satisfied: pyparsing>=2.3.1 in /opt/conda/lib/python3.10/site-packages (from matplotlib->roboflow) (3.1.2)\n",
      "Requirement already satisfied: charset-normalizer<4,>=2 in /opt/conda/lib/python3.10/site-packages (from requests->roboflow) (3.3.2)\n",
      "Downloading roboflow-1.1.49-py3-none-any.whl (80 kB)\n",
      "\u001b[2K   \u001b[90m━━━━━━━━━━━━━━━━━━━━━━━━━━━━━━━━━━━━━━━━\u001b[0m \u001b[32m80.9/80.9 kB\u001b[0m \u001b[31m3.0 MB/s\u001b[0m eta \u001b[36m0:00:00\u001b[0m\n",
      "\u001b[?25hDownloading filetype-1.2.0-py2.py3-none-any.whl (19 kB)\n",
      "Installing collected packages: filetype, roboflow\n",
      "Successfully installed filetype-1.2.0 roboflow-1.1.49\n"
     ]
    }
   ],
   "source": [
    "# Pip install method (recommended)\n",
    "%pip install ultralytics\n",
    "import ultralytics\n",
    "ultralytics.checks()\n",
    "\n",
    "!pip install roboflow"
   ]
  },
  {
   "cell_type": "code",
   "execution_count": 3,
   "metadata": {
    "_cell_guid": "b1076dfc-b9ad-4769-8c92-a6c4dae69d19",
    "_uuid": "8f2839f25d086af736a60e9eeb907d3b93b6e0e5",
    "execution": {
     "iopub.execute_input": "2024-11-25T17:54:49.292228Z",
     "iopub.status.busy": "2024-11-25T17:54:49.291162Z",
     "iopub.status.idle": "2024-11-25T17:54:49.365053Z",
     "shell.execute_reply": "2024-11-25T17:54:49.364453Z",
     "shell.execute_reply.started": "2024-11-25T17:54:49.292191Z"
    },
    "trusted": true
   },
   "outputs": [],
   "source": [
    "from ultralytics import YOLO\n",
    "import os\n",
    "from IPython.display import Image, display\n",
    "from roboflow import Roboflow"
   ]
  },
  {
   "cell_type": "code",
   "execution_count": 4,
   "metadata": {
    "execution": {
     "iopub.execute_input": "2024-11-25T17:54:52.202550Z",
     "iopub.status.busy": "2024-11-25T17:54:52.201896Z",
     "iopub.status.idle": "2024-11-25T17:55:03.224246Z",
     "shell.execute_reply": "2024-11-25T17:55:03.223616Z",
     "shell.execute_reply.started": "2024-11-25T17:54:52.202518Z"
    },
    "trusted": true
   },
   "outputs": [
    {
     "name": "stdout",
     "output_type": "stream",
     "text": [
      "loading Roboflow workspace...\n",
      "loading Roboflow project...\n"
     ]
    },
    {
     "name": "stderr",
     "output_type": "stream",
     "text": [
      "Downloading Dataset Version Zip in face-detection-5 to yolov11:: 100%|██████████| 270458/270458 [00:07<00:00, 37699.00it/s]"
     ]
    },
    {
     "name": "stdout",
     "output_type": "stream",
     "text": [
      "\n"
     ]
    },
    {
     "name": "stderr",
     "output_type": "stream",
     "text": [
      "\n",
      "Extracting Dataset Version Zip to face-detection-5 in yolov11:: 100%|██████████| 18794/18794 [00:01<00:00, 9415.87it/s] \n"
     ]
    }
   ],
   "source": [
    "\n",
    "# Initialize model\n",
    "rf = Roboflow(api_key=\"API_KEY\")\n",
    "project = rf.workspace(\"caio-yn7ed\").project(\"face-detection-f6kds\")\n",
    "version = project.version(5)\n",
    "dataset = version.download(\"yolov8\")\n",
    "                \n"
   ]
  },
  {
   "cell_type": "code",
   "execution_count": 5,
   "metadata": {
    "execution": {
     "iopub.execute_input": "2024-11-25T17:55:07.240977Z",
     "iopub.status.busy": "2024-11-25T17:55:07.240281Z",
     "iopub.status.idle": "2024-11-25T17:55:09.220729Z",
     "shell.execute_reply": "2024-11-25T17:55:09.219757Z",
     "shell.execute_reply.started": "2024-11-25T17:55:07.240942Z"
    },
    "trusted": true
   },
   "outputs": [],
   "source": [
    "os.makedirs('datasets',exist_ok = True)\n",
    "!cp -r face-detection-5 datasets/face-detection-5"
   ]
  },
  {
   "cell_type": "code",
   "execution_count": 6,
   "metadata": {
    "execution": {
     "iopub.execute_input": "2024-11-25T17:55:13.084712Z",
     "iopub.status.busy": "2024-11-25T17:55:13.084347Z",
     "iopub.status.idle": "2024-11-25T19:52:18.454554Z",
     "shell.execute_reply": "2024-11-25T19:52:18.453471Z",
     "shell.execute_reply.started": "2024-11-25T17:55:13.084682Z"
    },
    "trusted": true
   },
   "outputs": [
    {
     "name": "stdout",
     "output_type": "stream",
     "text": [
      "Downloading https://github.com/ultralytics/assets/releases/download/v8.3.0/yolo11s.pt to 'yolo11s.pt'...\n"
     ]
    },
    {
     "name": "stderr",
     "output_type": "stream",
     "text": [
      "100%|██████████| 18.4M/18.4M [00:00<00:00, 219MB/s]\n"
     ]
    },
    {
     "name": "stdout",
     "output_type": "stream",
     "text": [
      "Ultralytics 8.3.37 🚀 Python-3.10.14 torch-2.4.0 CUDA:0 (Tesla T4, 15095MiB)\n",
      "\u001b[34m\u001b[1mengine/trainer: \u001b[0mtask=detect, mode=train, model=yolo11s.pt, data=face-detection-5/data.yaml, epochs=100, time=None, patience=100, batch=64, imgsz=448, save=True, save_period=-1, cache=False, device=None, workers=8, project=YOLO_weights, name=face-detection-5output, exist_ok=True, pretrained=True, optimizer=auto, verbose=True, seed=0, deterministic=True, single_cls=False, rect=False, cos_lr=False, close_mosaic=10, resume=False, amp=True, fraction=1.0, profile=False, freeze=None, multi_scale=False, overlap_mask=True, mask_ratio=4, dropout=0.0, val=True, split=val, save_json=False, save_hybrid=False, conf=None, iou=0.7, max_det=300, half=False, dnn=False, plots=True, source=None, vid_stride=1, stream_buffer=False, visualize=False, augment=False, agnostic_nms=False, classes=None, retina_masks=False, embed=None, show=False, save_frames=False, save_txt=False, save_conf=False, save_crop=False, show_labels=True, show_conf=True, show_boxes=True, line_width=None, format=torchscript, keras=False, optimize=False, int8=False, dynamic=False, simplify=True, opset=None, workspace=None, nms=False, lr0=0.01, lrf=0.01, momentum=0.937, weight_decay=0.0005, warmup_epochs=3.0, warmup_momentum=0.8, warmup_bias_lr=0.1, box=7.5, cls=0.5, dfl=1.5, pose=12.0, kobj=1.0, label_smoothing=0.0, nbs=64, hsv_h=0.015, hsv_s=0.7, hsv_v=0.4, degrees=0.0, translate=0.1, scale=0.5, shear=0.0, perspective=0.0, flipud=0.0, fliplr=0.5, bgr=0.0, mosaic=1.0, mixup=0.0, copy_paste=0.0, copy_paste_mode=flip, auto_augment=randaugment, erasing=0.4, crop_fraction=1.0, cfg=None, tracker=botsort.yaml, save_dir=YOLO_weights/face-detection-5output\n",
      "Downloading https://ultralytics.com/assets/Arial.ttf to '/root/.config/Ultralytics/Arial.ttf'...\n"
     ]
    },
    {
     "name": "stderr",
     "output_type": "stream",
     "text": [
      "100%|██████████| 755k/755k [00:00<00:00, 22.1MB/s]\n",
      "2024-11-25 17:55:15,899\tINFO util.py:124 -- Outdated packages:\n",
      "  ipywidgets==7.7.1 found, needs ipywidgets>=8\n",
      "Run `pip install -U ipywidgets`, then restart the notebook server for rich notebook output.\n",
      "2024-11-25 17:55:16,650\tINFO util.py:124 -- Outdated packages:\n",
      "  ipywidgets==7.7.1 found, needs ipywidgets>=8\n",
      "Run `pip install -U ipywidgets`, then restart the notebook server for rich notebook output.\n"
     ]
    },
    {
     "name": "stdout",
     "output_type": "stream",
     "text": [
      "Overriding model.yaml nc=80 with nc=2\n",
      "\n",
      "                   from  n    params  module                                       arguments                     \n",
      "  0                  -1  1       928  ultralytics.nn.modules.conv.Conv             [3, 32, 3, 2]                 \n",
      "  1                  -1  1     18560  ultralytics.nn.modules.conv.Conv             [32, 64, 3, 2]                \n",
      "  2                  -1  1     26080  ultralytics.nn.modules.block.C3k2            [64, 128, 1, False, 0.25]     \n",
      "  3                  -1  1    147712  ultralytics.nn.modules.conv.Conv             [128, 128, 3, 2]              \n",
      "  4                  -1  1    103360  ultralytics.nn.modules.block.C3k2            [128, 256, 1, False, 0.25]    \n",
      "  5                  -1  1    590336  ultralytics.nn.modules.conv.Conv             [256, 256, 3, 2]              \n",
      "  6                  -1  1    346112  ultralytics.nn.modules.block.C3k2            [256, 256, 1, True]           \n",
      "  7                  -1  1   1180672  ultralytics.nn.modules.conv.Conv             [256, 512, 3, 2]              \n",
      "  8                  -1  1   1380352  ultralytics.nn.modules.block.C3k2            [512, 512, 1, True]           \n",
      "  9                  -1  1    656896  ultralytics.nn.modules.block.SPPF            [512, 512, 5]                 \n",
      " 10                  -1  1    990976  ultralytics.nn.modules.block.C2PSA           [512, 512, 1]                 \n",
      " 11                  -1  1         0  torch.nn.modules.upsampling.Upsample         [None, 2, 'nearest']          \n",
      " 12             [-1, 6]  1         0  ultralytics.nn.modules.conv.Concat           [1]                           \n",
      " 13                  -1  1    443776  ultralytics.nn.modules.block.C3k2            [768, 256, 1, False]          \n",
      " 14                  -1  1         0  torch.nn.modules.upsampling.Upsample         [None, 2, 'nearest']          \n",
      " 15             [-1, 4]  1         0  ultralytics.nn.modules.conv.Concat           [1]                           \n",
      " 16                  -1  1    127680  ultralytics.nn.modules.block.C3k2            [512, 128, 1, False]          \n",
      " 17                  -1  1    147712  ultralytics.nn.modules.conv.Conv             [128, 128, 3, 2]              \n",
      " 18            [-1, 13]  1         0  ultralytics.nn.modules.conv.Concat           [1]                           \n",
      " 19                  -1  1    345472  ultralytics.nn.modules.block.C3k2            [384, 256, 1, False]          \n",
      " 20                  -1  1    590336  ultralytics.nn.modules.conv.Conv             [256, 256, 3, 2]              \n",
      " 21            [-1, 10]  1         0  ultralytics.nn.modules.conv.Concat           [1]                           \n",
      " 22                  -1  1   1511424  ultralytics.nn.modules.block.C3k2            [768, 512, 1, True]           \n",
      " 23        [16, 19, 22]  1    820182  ultralytics.nn.modules.head.Detect           [2, [128, 256, 512]]          \n",
      "YOLO11s summary: 319 layers, 9,428,566 parameters, 9,428,550 gradients, 21.6 GFLOPs\n",
      "\n",
      "Transferred 493/499 items from pretrained weights\n",
      "\u001b[34m\u001b[1mTensorBoard: \u001b[0mStart with 'tensorboard --logdir YOLO_weights/face-detection-5output', view at http://localhost:6006/\n",
      "Freezing layer 'model.23.dfl.conv.weight'\n",
      "\u001b[34m\u001b[1mAMP: \u001b[0mrunning Automatic Mixed Precision (AMP) checks...\n",
      "Downloading https://github.com/ultralytics/assets/releases/download/v8.3.0/yolo11n.pt to 'yolo11n.pt'...\n"
     ]
    },
    {
     "name": "stderr",
     "output_type": "stream",
     "text": [
      "100%|██████████| 5.35M/5.35M [00:00<00:00, 107MB/s]\n"
     ]
    },
    {
     "name": "stdout",
     "output_type": "stream",
     "text": [
      "\u001b[34m\u001b[1mAMP: \u001b[0mchecks passed ✅\n"
     ]
    },
    {
     "name": "stderr",
     "output_type": "stream",
     "text": [
      "\u001b[34m\u001b[1mtrain: \u001b[0mScanning /kaggle/working/datasets/face-detection-5/train/labels... 6564 images, 0 backgrounds, 0 corrupt: 100%|██████████| 6564/6564 [00:04<00:00, 1385.12it/s]\n"
     ]
    },
    {
     "name": "stdout",
     "output_type": "stream",
     "text": [
      "\u001b[34m\u001b[1mtrain: \u001b[0mNew cache created: /kaggle/working/datasets/face-detection-5/train/labels.cache\n",
      "\u001b[34m\u001b[1malbumentations: \u001b[0mBlur(p=0.01, blur_limit=(3, 7)), MedianBlur(p=0.01, blur_limit=(3, 7)), ToGray(p=0.01), CLAHE(p=0.01, clip_limit=(1, 4.0), tile_grid_size=(8, 8))\n"
     ]
    },
    {
     "name": "stderr",
     "output_type": "stream",
     "text": [
      "A new version of Albumentations is available: 1.4.21 (you have 1.4.14). Upgrade using: pip install -U albumentations. To disable automatic update checks, set the environment variable NO_ALBUMENTATIONS_UPDATE to 1.\n",
      "os.fork() was called. os.fork() is incompatible with multithreaded code, and JAX is multithreaded, so this will likely lead to a deadlock.\n",
      "\u001b[34m\u001b[1mval: \u001b[0mScanning /kaggle/working/datasets/face-detection-5/valid/labels... 1885 images, 0 backgrounds, 0 corrupt: 100%|██████████| 1885/1885 [00:01<00:00, 1287.39it/s]"
     ]
    },
    {
     "name": "stdout",
     "output_type": "stream",
     "text": [
      "\u001b[34m\u001b[1mval: \u001b[0mNew cache created: /kaggle/working/datasets/face-detection-5/valid/labels.cache\n"
     ]
    },
    {
     "name": "stderr",
     "output_type": "stream",
     "text": [
      "\n"
     ]
    },
    {
     "name": "stdout",
     "output_type": "stream",
     "text": [
      "Plotting labels to YOLO_weights/face-detection-5output/labels.jpg... \n",
      "\u001b[34m\u001b[1moptimizer:\u001b[0m 'optimizer=auto' found, ignoring 'lr0=0.01' and 'momentum=0.937' and determining best 'optimizer', 'lr0' and 'momentum' automatically... \n",
      "\u001b[34m\u001b[1moptimizer:\u001b[0m SGD(lr=0.01, momentum=0.9) with parameter groups 81 weight(decay=0.0), 88 weight(decay=0.0005), 87 bias(decay=0.0)\n",
      "\u001b[34m\u001b[1mTensorBoard: \u001b[0mmodel graph visualization added ✅\n",
      "Image sizes 448 train, 448 val\n",
      "Using 2 dataloader workers\n",
      "Logging results to \u001b[1mYOLO_weights/face-detection-5output\u001b[0m\n",
      "Starting training for 100 epochs...\n",
      "\n",
      "      Epoch    GPU_mem   box_loss   cls_loss   dfl_loss  Instances       Size\n"
     ]
    },
    {
     "name": "stderr",
     "output_type": "stream",
     "text": [
      "      1/100      8.42G      1.565      1.627      1.369        149        448: 100%|██████████| 103/103 [00:52<00:00,  1.98it/s]\n",
      "                 Class     Images  Instances      Box(P          R      mAP50  mAP50-95): 100%|██████████| 15/15 [00:11<00:00,  1.34it/s]"
     ]
    },
    {
     "name": "stdout",
     "output_type": "stream",
     "text": [
      "                   all       1885       5692      0.922      0.736      0.835      0.613\n"
     ]
    },
    {
     "name": "stderr",
     "output_type": "stream",
     "text": [
      "\n"
     ]
    },
    {
     "name": "stdout",
     "output_type": "stream",
     "text": [
      "\n",
      "      Epoch    GPU_mem   box_loss   cls_loss   dfl_loss  Instances       Size\n"
     ]
    },
    {
     "name": "stderr",
     "output_type": "stream",
     "text": [
      "      2/100       8.7G      1.299     0.8429      1.104        147        448: 100%|██████████| 103/103 [00:53<00:00,  1.92it/s]\n",
      "                 Class     Images  Instances      Box(P          R      mAP50  mAP50-95): 100%|██████████| 15/15 [00:10<00:00,  1.38it/s]"
     ]
    },
    {
     "name": "stdout",
     "output_type": "stream",
     "text": [
      "                   all       1885       5692       0.88      0.349      0.433       0.28\n"
     ]
    },
    {
     "name": "stderr",
     "output_type": "stream",
     "text": [
      "\n"
     ]
    },
    {
     "name": "stdout",
     "output_type": "stream",
     "text": [
      "\n",
      "      Epoch    GPU_mem   box_loss   cls_loss   dfl_loss  Instances       Size\n"
     ]
    },
    {
     "name": "stderr",
     "output_type": "stream",
     "text": [
      "      3/100      8.09G      1.358     0.9323       1.13        151        448: 100%|██████████| 103/103 [00:58<00:00,  1.77it/s]\n",
      "                 Class     Images  Instances      Box(P          R      mAP50  mAP50-95): 100%|██████████| 15/15 [00:11<00:00,  1.28it/s]\n"
     ]
    },
    {
     "name": "stdout",
     "output_type": "stream",
     "text": [
      "                   all       1885       5692      0.857      0.255      0.287      0.159\n",
      "\n",
      "      Epoch    GPU_mem   box_loss   cls_loss   dfl_loss  Instances       Size\n"
     ]
    },
    {
     "name": "stderr",
     "output_type": "stream",
     "text": [
      "      4/100      8.41G      1.412      1.004      1.167        218        448: 100%|██████████| 103/103 [00:57<00:00,  1.78it/s]\n",
      "                 Class     Images  Instances      Box(P          R      mAP50  mAP50-95): 100%|██████████| 15/15 [00:11<00:00,  1.34it/s]\n"
     ]
    },
    {
     "name": "stdout",
     "output_type": "stream",
     "text": [
      "                   all       1885       5692      0.293      0.252      0.273      0.156\n",
      "\n",
      "      Epoch    GPU_mem   box_loss   cls_loss   dfl_loss  Instances       Size\n"
     ]
    },
    {
     "name": "stderr",
     "output_type": "stream",
     "text": [
      "      5/100       8.1G       1.39     0.9612      1.163        164        448: 100%|██████████| 103/103 [00:57<00:00,  1.78it/s]\n",
      "                 Class     Images  Instances      Box(P          R      mAP50  mAP50-95): 100%|██████████| 15/15 [00:11<00:00,  1.32it/s]\n"
     ]
    },
    {
     "name": "stdout",
     "output_type": "stream",
     "text": [
      "                   all       1885       5692      0.917      0.318      0.494      0.333\n",
      "\n",
      "      Epoch    GPU_mem   box_loss   cls_loss   dfl_loss  Instances       Size\n"
     ]
    },
    {
     "name": "stderr",
     "output_type": "stream",
     "text": [
      "      6/100      8.45G      1.354     0.9131      1.144        134        448: 100%|██████████| 103/103 [00:58<00:00,  1.77it/s]\n",
      "                 Class     Images  Instances      Box(P          R      mAP50  mAP50-95): 100%|██████████| 15/15 [00:11<00:00,  1.33it/s]"
     ]
    },
    {
     "name": "stdout",
     "output_type": "stream",
     "text": [
      "                   all       1885       5692      0.893        0.3      0.411      0.265\n"
     ]
    },
    {
     "name": "stderr",
     "output_type": "stream",
     "text": [
      "\n"
     ]
    },
    {
     "name": "stdout",
     "output_type": "stream",
     "text": [
      "\n",
      "      Epoch    GPU_mem   box_loss   cls_loss   dfl_loss  Instances       Size\n"
     ]
    },
    {
     "name": "stderr",
     "output_type": "stream",
     "text": [
      "      7/100      8.88G      1.333      0.879      1.132        186        448: 100%|██████████| 103/103 [00:57<00:00,  1.78it/s]\n",
      "                 Class     Images  Instances      Box(P          R      mAP50  mAP50-95): 100%|██████████| 15/15 [00:11<00:00,  1.34it/s]\n"
     ]
    },
    {
     "name": "stdout",
     "output_type": "stream",
     "text": [
      "                   all       1885       5692      0.754      0.611      0.708      0.486\n",
      "\n",
      "      Epoch    GPU_mem   box_loss   cls_loss   dfl_loss  Instances       Size\n"
     ]
    },
    {
     "name": "stderr",
     "output_type": "stream",
     "text": [
      "      8/100       8.7G      1.311     0.8454      1.121        132        448: 100%|██████████| 103/103 [00:57<00:00,  1.78it/s]\n",
      "                 Class     Images  Instances      Box(P          R      mAP50  mAP50-95): 100%|██████████| 15/15 [00:11<00:00,  1.35it/s]"
     ]
    },
    {
     "name": "stdout",
     "output_type": "stream",
     "text": [
      "                   all       1885       5692      0.696        0.6      0.671      0.391\n"
     ]
    },
    {
     "name": "stderr",
     "output_type": "stream",
     "text": [
      "\n"
     ]
    },
    {
     "name": "stdout",
     "output_type": "stream",
     "text": [
      "\n",
      "      Epoch    GPU_mem   box_loss   cls_loss   dfl_loss  Instances       Size\n"
     ]
    },
    {
     "name": "stderr",
     "output_type": "stream",
     "text": [
      "      9/100      8.07G      1.305      0.836      1.118        128        448: 100%|██████████| 103/103 [00:57<00:00,  1.78it/s]\n",
      "                 Class     Images  Instances      Box(P          R      mAP50  mAP50-95): 100%|██████████| 15/15 [00:11<00:00,  1.35it/s]"
     ]
    },
    {
     "name": "stdout",
     "output_type": "stream",
     "text": [
      "                   all       1885       5692      0.911      0.671      0.814      0.637\n"
     ]
    },
    {
     "name": "stderr",
     "output_type": "stream",
     "text": [
      "\n"
     ]
    },
    {
     "name": "stdout",
     "output_type": "stream",
     "text": [
      "\n",
      "      Epoch    GPU_mem   box_loss   cls_loss   dfl_loss  Instances       Size\n"
     ]
    },
    {
     "name": "stderr",
     "output_type": "stream",
     "text": [
      "     10/100      8.26G       1.29      0.813      1.114        197        448: 100%|██████████| 103/103 [00:57<00:00,  1.78it/s]\n",
      "                 Class     Images  Instances      Box(P          R      mAP50  mAP50-95): 100%|██████████| 15/15 [00:11<00:00,  1.34it/s]"
     ]
    },
    {
     "name": "stdout",
     "output_type": "stream",
     "text": [
      "                   all       1885       5692      0.909      0.772      0.846      0.634\n"
     ]
    },
    {
     "name": "stderr",
     "output_type": "stream",
     "text": [
      "\n"
     ]
    },
    {
     "name": "stdout",
     "output_type": "stream",
     "text": [
      "\n",
      "      Epoch    GPU_mem   box_loss   cls_loss   dfl_loss  Instances       Size\n"
     ]
    },
    {
     "name": "stderr",
     "output_type": "stream",
     "text": [
      "     11/100      8.51G      1.275     0.8025      1.107        166        448: 100%|██████████| 103/103 [00:57<00:00,  1.78it/s]\n",
      "                 Class     Images  Instances      Box(P          R      mAP50  mAP50-95): 100%|██████████| 15/15 [00:11<00:00,  1.35it/s]"
     ]
    },
    {
     "name": "stdout",
     "output_type": "stream",
     "text": [
      "                   all       1885       5692      0.901      0.787      0.874      0.677\n"
     ]
    },
    {
     "name": "stderr",
     "output_type": "stream",
     "text": [
      "\n"
     ]
    },
    {
     "name": "stdout",
     "output_type": "stream",
     "text": [
      "\n",
      "      Epoch    GPU_mem   box_loss   cls_loss   dfl_loss  Instances       Size\n"
     ]
    },
    {
     "name": "stderr",
     "output_type": "stream",
     "text": [
      "     12/100      8.49G      1.266     0.7837      1.101        117        448: 100%|██████████| 103/103 [00:57<00:00,  1.78it/s]\n",
      "                 Class     Images  Instances      Box(P          R      mAP50  mAP50-95): 100%|██████████| 15/15 [00:10<00:00,  1.36it/s]"
     ]
    },
    {
     "name": "stdout",
     "output_type": "stream",
     "text": [
      "                   all       1885       5692      0.934      0.761       0.87      0.678\n"
     ]
    },
    {
     "name": "stderr",
     "output_type": "stream",
     "text": [
      "\n"
     ]
    },
    {
     "name": "stdout",
     "output_type": "stream",
     "text": [
      "\n",
      "      Epoch    GPU_mem   box_loss   cls_loss   dfl_loss  Instances       Size\n"
     ]
    },
    {
     "name": "stderr",
     "output_type": "stream",
     "text": [
      "     13/100      8.24G      1.254     0.7758      1.095        123        448: 100%|██████████| 103/103 [00:57<00:00,  1.78it/s]\n",
      "                 Class     Images  Instances      Box(P          R      mAP50  mAP50-95): 100%|██████████| 15/15 [00:10<00:00,  1.37it/s]"
     ]
    },
    {
     "name": "stdout",
     "output_type": "stream",
     "text": [
      "                   all       1885       5692      0.852      0.773      0.827      0.649\n"
     ]
    },
    {
     "name": "stderr",
     "output_type": "stream",
     "text": [
      "\n"
     ]
    },
    {
     "name": "stdout",
     "output_type": "stream",
     "text": [
      "\n",
      "      Epoch    GPU_mem   box_loss   cls_loss   dfl_loss  Instances       Size\n"
     ]
    },
    {
     "name": "stderr",
     "output_type": "stream",
     "text": [
      "     14/100      8.72G       1.25      0.764      1.093        135        448: 100%|██████████| 103/103 [00:57<00:00,  1.78it/s]\n",
      "                 Class     Images  Instances      Box(P          R      mAP50  mAP50-95): 100%|██████████| 15/15 [00:10<00:00,  1.37it/s]"
     ]
    },
    {
     "name": "stdout",
     "output_type": "stream",
     "text": [
      "                   all       1885       5692      0.917       0.82      0.884      0.692\n"
     ]
    },
    {
     "name": "stderr",
     "output_type": "stream",
     "text": [
      "\n"
     ]
    },
    {
     "name": "stdout",
     "output_type": "stream",
     "text": [
      "\n",
      "      Epoch    GPU_mem   box_loss   cls_loss   dfl_loss  Instances       Size\n"
     ]
    },
    {
     "name": "stderr",
     "output_type": "stream",
     "text": [
      "     15/100      8.06G      1.236     0.7525       1.09        175        448: 100%|██████████| 103/103 [00:57<00:00,  1.78it/s]\n",
      "                 Class     Images  Instances      Box(P          R      mAP50  mAP50-95): 100%|██████████| 15/15 [00:11<00:00,  1.34it/s]"
     ]
    },
    {
     "name": "stdout",
     "output_type": "stream",
     "text": [
      "                   all       1885       5692       0.94      0.837      0.891      0.705\n"
     ]
    },
    {
     "name": "stderr",
     "output_type": "stream",
     "text": [
      "\n"
     ]
    },
    {
     "name": "stdout",
     "output_type": "stream",
     "text": [
      "\n",
      "      Epoch    GPU_mem   box_loss   cls_loss   dfl_loss  Instances       Size\n"
     ]
    },
    {
     "name": "stderr",
     "output_type": "stream",
     "text": [
      "     16/100      8.35G      1.239     0.7508      1.088        144        448: 100%|██████████| 103/103 [00:57<00:00,  1.79it/s]\n",
      "                 Class     Images  Instances      Box(P          R      mAP50  mAP50-95): 100%|██████████| 15/15 [00:11<00:00,  1.35it/s]"
     ]
    },
    {
     "name": "stdout",
     "output_type": "stream",
     "text": [
      "                   all       1885       5692      0.905      0.854      0.901      0.728\n"
     ]
    },
    {
     "name": "stderr",
     "output_type": "stream",
     "text": [
      "\n"
     ]
    },
    {
     "name": "stdout",
     "output_type": "stream",
     "text": [
      "\n",
      "      Epoch    GPU_mem   box_loss   cls_loss   dfl_loss  Instances       Size\n"
     ]
    },
    {
     "name": "stderr",
     "output_type": "stream",
     "text": [
      "     17/100      8.47G      1.232      0.736      1.083        155        448: 100%|██████████| 103/103 [00:57<00:00,  1.78it/s]\n",
      "                 Class     Images  Instances      Box(P          R      mAP50  mAP50-95): 100%|██████████| 15/15 [00:10<00:00,  1.37it/s]"
     ]
    },
    {
     "name": "stdout",
     "output_type": "stream",
     "text": [
      "                   all       1885       5692      0.935      0.789      0.882      0.697\n"
     ]
    },
    {
     "name": "stderr",
     "output_type": "stream",
     "text": [
      "\n"
     ]
    },
    {
     "name": "stdout",
     "output_type": "stream",
     "text": [
      "\n",
      "      Epoch    GPU_mem   box_loss   cls_loss   dfl_loss  Instances       Size\n"
     ]
    },
    {
     "name": "stderr",
     "output_type": "stream",
     "text": [
      "     18/100      8.11G      1.219     0.7216       1.08        174        448: 100%|██████████| 103/103 [00:57<00:00,  1.78it/s]\n",
      "                 Class     Images  Instances      Box(P          R      mAP50  mAP50-95): 100%|██████████| 15/15 [00:10<00:00,  1.38it/s]"
     ]
    },
    {
     "name": "stdout",
     "output_type": "stream",
     "text": [
      "                   all       1885       5692      0.927      0.805      0.872      0.703\n"
     ]
    },
    {
     "name": "stderr",
     "output_type": "stream",
     "text": [
      "\n"
     ]
    },
    {
     "name": "stdout",
     "output_type": "stream",
     "text": [
      "\n",
      "      Epoch    GPU_mem   box_loss   cls_loss   dfl_loss  Instances       Size\n"
     ]
    },
    {
     "name": "stderr",
     "output_type": "stream",
     "text": [
      "     19/100      8.39G      1.219     0.7252      1.081        149        448: 100%|██████████| 103/103 [00:57<00:00,  1.78it/s]\n",
      "                 Class     Images  Instances      Box(P          R      mAP50  mAP50-95): 100%|██████████| 15/15 [00:10<00:00,  1.39it/s]"
     ]
    },
    {
     "name": "stdout",
     "output_type": "stream",
     "text": [
      "                   all       1885       5692      0.921      0.777      0.871       0.69\n"
     ]
    },
    {
     "name": "stderr",
     "output_type": "stream",
     "text": [
      "\n"
     ]
    },
    {
     "name": "stdout",
     "output_type": "stream",
     "text": [
      "\n",
      "      Epoch    GPU_mem   box_loss   cls_loss   dfl_loss  Instances       Size\n"
     ]
    },
    {
     "name": "stderr",
     "output_type": "stream",
     "text": [
      "     20/100      8.33G       1.21       0.72      1.074         90        448: 100%|██████████| 103/103 [00:57<00:00,  1.78it/s]\n",
      "                 Class     Images  Instances      Box(P          R      mAP50  mAP50-95): 100%|██████████| 15/15 [00:10<00:00,  1.37it/s]"
     ]
    },
    {
     "name": "stdout",
     "output_type": "stream",
     "text": [
      "                   all       1885       5692       0.94      0.763       0.87      0.693\n"
     ]
    },
    {
     "name": "stderr",
     "output_type": "stream",
     "text": [
      "\n"
     ]
    },
    {
     "name": "stdout",
     "output_type": "stream",
     "text": [
      "\n",
      "      Epoch    GPU_mem   box_loss   cls_loss   dfl_loss  Instances       Size\n"
     ]
    },
    {
     "name": "stderr",
     "output_type": "stream",
     "text": [
      "     21/100      8.11G      1.196     0.7033      1.071        130        448: 100%|██████████| 103/103 [00:57<00:00,  1.78it/s]\n",
      "                 Class     Images  Instances      Box(P          R      mAP50  mAP50-95): 100%|██████████| 15/15 [00:11<00:00,  1.35it/s]"
     ]
    },
    {
     "name": "stdout",
     "output_type": "stream",
     "text": [
      "                   all       1885       5692      0.846      0.811      0.878      0.686\n"
     ]
    },
    {
     "name": "stderr",
     "output_type": "stream",
     "text": [
      "\n"
     ]
    },
    {
     "name": "stdout",
     "output_type": "stream",
     "text": [
      "\n",
      "      Epoch    GPU_mem   box_loss   cls_loss   dfl_loss  Instances       Size\n"
     ]
    },
    {
     "name": "stderr",
     "output_type": "stream",
     "text": [
      "     22/100      8.05G      1.195     0.6986      1.066        164        448: 100%|██████████| 103/103 [00:57<00:00,  1.78it/s]\n",
      "                 Class     Images  Instances      Box(P          R      mAP50  mAP50-95): 100%|██████████| 15/15 [00:10<00:00,  1.37it/s]"
     ]
    },
    {
     "name": "stdout",
     "output_type": "stream",
     "text": [
      "                   all       1885       5692      0.924      0.824      0.882       0.71\n"
     ]
    },
    {
     "name": "stderr",
     "output_type": "stream",
     "text": [
      "\n"
     ]
    },
    {
     "name": "stdout",
     "output_type": "stream",
     "text": [
      "\n",
      "      Epoch    GPU_mem   box_loss   cls_loss   dfl_loss  Instances       Size\n"
     ]
    },
    {
     "name": "stderr",
     "output_type": "stream",
     "text": [
      "     23/100      8.09G      1.189     0.6956      1.068        122        448: 100%|██████████| 103/103 [00:57<00:00,  1.78it/s]\n",
      "                 Class     Images  Instances      Box(P          R      mAP50  mAP50-95): 100%|██████████| 15/15 [00:10<00:00,  1.38it/s]"
     ]
    },
    {
     "name": "stdout",
     "output_type": "stream",
     "text": [
      "                   all       1885       5692      0.922      0.869      0.913      0.748\n"
     ]
    },
    {
     "name": "stderr",
     "output_type": "stream",
     "text": [
      "\n"
     ]
    },
    {
     "name": "stdout",
     "output_type": "stream",
     "text": [
      "\n",
      "      Epoch    GPU_mem   box_loss   cls_loss   dfl_loss  Instances       Size\n"
     ]
    },
    {
     "name": "stderr",
     "output_type": "stream",
     "text": [
      "     24/100      8.51G      1.196     0.6983      1.065        135        448: 100%|██████████| 103/103 [00:57<00:00,  1.78it/s]\n",
      "                 Class     Images  Instances      Box(P          R      mAP50  mAP50-95): 100%|██████████| 15/15 [00:10<00:00,  1.37it/s]"
     ]
    },
    {
     "name": "stdout",
     "output_type": "stream",
     "text": [
      "                   all       1885       5692      0.943      0.806      0.906      0.729\n"
     ]
    },
    {
     "name": "stderr",
     "output_type": "stream",
     "text": [
      "\n"
     ]
    },
    {
     "name": "stdout",
     "output_type": "stream",
     "text": [
      "\n",
      "      Epoch    GPU_mem   box_loss   cls_loss   dfl_loss  Instances       Size\n"
     ]
    },
    {
     "name": "stderr",
     "output_type": "stream",
     "text": [
      "     25/100      8.39G      1.187     0.6854      1.068        163        448: 100%|██████████| 103/103 [00:57<00:00,  1.78it/s]\n",
      "                 Class     Images  Instances      Box(P          R      mAP50  mAP50-95): 100%|██████████| 15/15 [00:11<00:00,  1.36it/s]"
     ]
    },
    {
     "name": "stdout",
     "output_type": "stream",
     "text": [
      "                   all       1885       5692      0.924       0.84       0.91      0.729\n"
     ]
    },
    {
     "name": "stderr",
     "output_type": "stream",
     "text": [
      "\n"
     ]
    },
    {
     "name": "stdout",
     "output_type": "stream",
     "text": [
      "\n",
      "      Epoch    GPU_mem   box_loss   cls_loss   dfl_loss  Instances       Size\n"
     ]
    },
    {
     "name": "stderr",
     "output_type": "stream",
     "text": [
      "     26/100      8.48G      1.174     0.6807      1.058        133        448: 100%|██████████| 103/103 [00:57<00:00,  1.78it/s]\n",
      "                 Class     Images  Instances      Box(P          R      mAP50  mAP50-95): 100%|██████████| 15/15 [00:11<00:00,  1.35it/s]"
     ]
    },
    {
     "name": "stdout",
     "output_type": "stream",
     "text": [
      "                   all       1885       5692      0.915      0.863        0.9      0.721\n"
     ]
    },
    {
     "name": "stderr",
     "output_type": "stream",
     "text": [
      "\n"
     ]
    },
    {
     "name": "stdout",
     "output_type": "stream",
     "text": [
      "\n",
      "      Epoch    GPU_mem   box_loss   cls_loss   dfl_loss  Instances       Size\n"
     ]
    },
    {
     "name": "stderr",
     "output_type": "stream",
     "text": [
      "     27/100      8.44G      1.184     0.6764       1.06        186        448: 100%|██████████| 103/103 [00:57<00:00,  1.78it/s]\n",
      "                 Class     Images  Instances      Box(P          R      mAP50  mAP50-95): 100%|██████████| 15/15 [00:10<00:00,  1.37it/s]"
     ]
    },
    {
     "name": "stdout",
     "output_type": "stream",
     "text": [
      "                   all       1885       5692      0.899      0.881      0.915       0.75\n"
     ]
    },
    {
     "name": "stderr",
     "output_type": "stream",
     "text": [
      "\n"
     ]
    },
    {
     "name": "stdout",
     "output_type": "stream",
     "text": [
      "\n",
      "      Epoch    GPU_mem   box_loss   cls_loss   dfl_loss  Instances       Size\n"
     ]
    },
    {
     "name": "stderr",
     "output_type": "stream",
     "text": [
      "     28/100      8.48G      1.171     0.6664      1.052        210        448: 100%|██████████| 103/103 [00:57<00:00,  1.78it/s]\n",
      "                 Class     Images  Instances      Box(P          R      mAP50  mAP50-95): 100%|██████████| 15/15 [00:11<00:00,  1.36it/s]"
     ]
    },
    {
     "name": "stdout",
     "output_type": "stream",
     "text": [
      "                   all       1885       5692       0.93      0.868      0.905      0.732\n"
     ]
    },
    {
     "name": "stderr",
     "output_type": "stream",
     "text": [
      "\n"
     ]
    },
    {
     "name": "stdout",
     "output_type": "stream",
     "text": [
      "\n",
      "      Epoch    GPU_mem   box_loss   cls_loss   dfl_loss  Instances       Size\n"
     ]
    },
    {
     "name": "stderr",
     "output_type": "stream",
     "text": [
      "     29/100       8.1G      1.162     0.6687      1.053        144        448: 100%|██████████| 103/103 [00:57<00:00,  1.78it/s]\n",
      "                 Class     Images  Instances      Box(P          R      mAP50  mAP50-95): 100%|██████████| 15/15 [00:10<00:00,  1.37it/s]"
     ]
    },
    {
     "name": "stdout",
     "output_type": "stream",
     "text": [
      "                   all       1885       5692      0.931      0.863       0.91      0.733\n"
     ]
    },
    {
     "name": "stderr",
     "output_type": "stream",
     "text": [
      "\n"
     ]
    },
    {
     "name": "stdout",
     "output_type": "stream",
     "text": [
      "\n",
      "      Epoch    GPU_mem   box_loss   cls_loss   dfl_loss  Instances       Size\n"
     ]
    },
    {
     "name": "stderr",
     "output_type": "stream",
     "text": [
      "     30/100       8.6G      1.156     0.6569      1.043        169        448: 100%|██████████| 103/103 [00:58<00:00,  1.77it/s]\n",
      "                 Class     Images  Instances      Box(P          R      mAP50  mAP50-95): 100%|██████████| 15/15 [00:10<00:00,  1.37it/s]"
     ]
    },
    {
     "name": "stdout",
     "output_type": "stream",
     "text": [
      "                   all       1885       5692      0.917      0.855      0.909       0.74\n"
     ]
    },
    {
     "name": "stderr",
     "output_type": "stream",
     "text": [
      "\n"
     ]
    },
    {
     "name": "stdout",
     "output_type": "stream",
     "text": [
      "\n",
      "      Epoch    GPU_mem   box_loss   cls_loss   dfl_loss  Instances       Size\n"
     ]
    },
    {
     "name": "stderr",
     "output_type": "stream",
     "text": [
      "     31/100      8.08G      1.165      0.653      1.049        131        448: 100%|██████████| 103/103 [00:57<00:00,  1.78it/s]\n",
      "                 Class     Images  Instances      Box(P          R      mAP50  mAP50-95): 100%|██████████| 15/15 [00:11<00:00,  1.34it/s]"
     ]
    },
    {
     "name": "stdout",
     "output_type": "stream",
     "text": [
      "                   all       1885       5692      0.929      0.872       0.91      0.724\n"
     ]
    },
    {
     "name": "stderr",
     "output_type": "stream",
     "text": [
      "\n"
     ]
    },
    {
     "name": "stdout",
     "output_type": "stream",
     "text": [
      "\n",
      "      Epoch    GPU_mem   box_loss   cls_loss   dfl_loss  Instances       Size\n"
     ]
    },
    {
     "name": "stderr",
     "output_type": "stream",
     "text": [
      "     32/100      8.09G       1.16     0.6541      1.051        189        448: 100%|██████████| 103/103 [00:58<00:00,  1.78it/s]\n",
      "                 Class     Images  Instances      Box(P          R      mAP50  mAP50-95): 100%|██████████| 15/15 [00:11<00:00,  1.35it/s]"
     ]
    },
    {
     "name": "stdout",
     "output_type": "stream",
     "text": [
      "                   all       1885       5692      0.709      0.862      0.896      0.728\n"
     ]
    },
    {
     "name": "stderr",
     "output_type": "stream",
     "text": [
      "\n"
     ]
    },
    {
     "name": "stdout",
     "output_type": "stream",
     "text": [
      "\n",
      "      Epoch    GPU_mem   box_loss   cls_loss   dfl_loss  Instances       Size\n"
     ]
    },
    {
     "name": "stderr",
     "output_type": "stream",
     "text": [
      "     33/100      8.17G      1.156     0.6495      1.048        162        448: 100%|██████████| 103/103 [00:57<00:00,  1.78it/s]\n",
      "                 Class     Images  Instances      Box(P          R      mAP50  mAP50-95): 100%|██████████| 15/15 [00:11<00:00,  1.36it/s]"
     ]
    },
    {
     "name": "stdout",
     "output_type": "stream",
     "text": [
      "                   all       1885       5692      0.941       0.87      0.907      0.744\n"
     ]
    },
    {
     "name": "stderr",
     "output_type": "stream",
     "text": [
      "\n"
     ]
    },
    {
     "name": "stdout",
     "output_type": "stream",
     "text": [
      "\n",
      "      Epoch    GPU_mem   box_loss   cls_loss   dfl_loss  Instances       Size\n"
     ]
    },
    {
     "name": "stderr",
     "output_type": "stream",
     "text": [
      "     34/100      8.06G      1.156     0.6512      1.048        120        448: 100%|██████████| 103/103 [00:57<00:00,  1.78it/s]\n",
      "                 Class     Images  Instances      Box(P          R      mAP50  mAP50-95): 100%|██████████| 15/15 [00:11<00:00,  1.35it/s]"
     ]
    },
    {
     "name": "stdout",
     "output_type": "stream",
     "text": [
      "                   all       1885       5692      0.909      0.845      0.913      0.742\n"
     ]
    },
    {
     "name": "stderr",
     "output_type": "stream",
     "text": [
      "\n"
     ]
    },
    {
     "name": "stdout",
     "output_type": "stream",
     "text": [
      "\n",
      "      Epoch    GPU_mem   box_loss   cls_loss   dfl_loss  Instances       Size\n"
     ]
    },
    {
     "name": "stderr",
     "output_type": "stream",
     "text": [
      "     35/100       8.1G       1.14     0.6454      1.043        133        448: 100%|██████████| 103/103 [00:58<00:00,  1.77it/s]\n",
      "                 Class     Images  Instances      Box(P          R      mAP50  mAP50-95): 100%|██████████| 15/15 [00:10<00:00,  1.37it/s]"
     ]
    },
    {
     "name": "stdout",
     "output_type": "stream",
     "text": [
      "                   all       1885       5692       0.93      0.836      0.907      0.751\n"
     ]
    },
    {
     "name": "stderr",
     "output_type": "stream",
     "text": [
      "\n"
     ]
    },
    {
     "name": "stdout",
     "output_type": "stream",
     "text": [
      "\n",
      "      Epoch    GPU_mem   box_loss   cls_loss   dfl_loss  Instances       Size\n"
     ]
    },
    {
     "name": "stderr",
     "output_type": "stream",
     "text": [
      "     36/100      8.51G      1.146     0.6344       1.04        143        448: 100%|██████████| 103/103 [00:58<00:00,  1.77it/s]\n",
      "                 Class     Images  Instances      Box(P          R      mAP50  mAP50-95): 100%|██████████| 15/15 [00:11<00:00,  1.35it/s]"
     ]
    },
    {
     "name": "stdout",
     "output_type": "stream",
     "text": [
      "                   all       1885       5692      0.939      0.877      0.921      0.764\n"
     ]
    },
    {
     "name": "stderr",
     "output_type": "stream",
     "text": [
      "\n"
     ]
    },
    {
     "name": "stdout",
     "output_type": "stream",
     "text": [
      "\n",
      "      Epoch    GPU_mem   box_loss   cls_loss   dfl_loss  Instances       Size\n"
     ]
    },
    {
     "name": "stderr",
     "output_type": "stream",
     "text": [
      "     37/100      8.07G      1.145     0.6445      1.039        165        448: 100%|██████████| 103/103 [00:57<00:00,  1.78it/s]\n",
      "                 Class     Images  Instances      Box(P          R      mAP50  mAP50-95): 100%|██████████| 15/15 [00:10<00:00,  1.37it/s]"
     ]
    },
    {
     "name": "stdout",
     "output_type": "stream",
     "text": [
      "                   all       1885       5692      0.929      0.886      0.922      0.763\n"
     ]
    },
    {
     "name": "stderr",
     "output_type": "stream",
     "text": [
      "\n"
     ]
    },
    {
     "name": "stdout",
     "output_type": "stream",
     "text": [
      "\n",
      "      Epoch    GPU_mem   box_loss   cls_loss   dfl_loss  Instances       Size\n"
     ]
    },
    {
     "name": "stderr",
     "output_type": "stream",
     "text": [
      "     38/100      8.51G      1.146     0.6336      1.045        134        448: 100%|██████████| 103/103 [00:57<00:00,  1.78it/s]\n",
      "                 Class     Images  Instances      Box(P          R      mAP50  mAP50-95): 100%|██████████| 15/15 [00:10<00:00,  1.38it/s]"
     ]
    },
    {
     "name": "stdout",
     "output_type": "stream",
     "text": [
      "                   all       1885       5692      0.947      0.834      0.911      0.744\n"
     ]
    },
    {
     "name": "stderr",
     "output_type": "stream",
     "text": [
      "\n"
     ]
    },
    {
     "name": "stdout",
     "output_type": "stream",
     "text": [
      "\n",
      "      Epoch    GPU_mem   box_loss   cls_loss   dfl_loss  Instances       Size\n"
     ]
    },
    {
     "name": "stderr",
     "output_type": "stream",
     "text": [
      "     39/100       8.5G      1.142     0.6274      1.042        215        448: 100%|██████████| 103/103 [00:57<00:00,  1.78it/s]\n",
      "                 Class     Images  Instances      Box(P          R      mAP50  mAP50-95): 100%|██████████| 15/15 [00:10<00:00,  1.38it/s]"
     ]
    },
    {
     "name": "stdout",
     "output_type": "stream",
     "text": [
      "                   all       1885       5692      0.946      0.872      0.914      0.749\n"
     ]
    },
    {
     "name": "stderr",
     "output_type": "stream",
     "text": [
      "\n"
     ]
    },
    {
     "name": "stdout",
     "output_type": "stream",
     "text": [
      "\n",
      "      Epoch    GPU_mem   box_loss   cls_loss   dfl_loss  Instances       Size\n"
     ]
    },
    {
     "name": "stderr",
     "output_type": "stream",
     "text": [
      "     40/100      8.24G      1.138     0.6229      1.034        167        448: 100%|██████████| 103/103 [00:57<00:00,  1.78it/s]\n",
      "                 Class     Images  Instances      Box(P          R      mAP50  mAP50-95): 100%|██████████| 15/15 [00:10<00:00,  1.38it/s]"
     ]
    },
    {
     "name": "stdout",
     "output_type": "stream",
     "text": [
      "                   all       1885       5692      0.906      0.901      0.926      0.772\n"
     ]
    },
    {
     "name": "stderr",
     "output_type": "stream",
     "text": [
      "\n"
     ]
    },
    {
     "name": "stdout",
     "output_type": "stream",
     "text": [
      "\n",
      "      Epoch    GPU_mem   box_loss   cls_loss   dfl_loss  Instances       Size\n"
     ]
    },
    {
     "name": "stderr",
     "output_type": "stream",
     "text": [
      "     41/100      8.08G      1.131     0.6187      1.036        204        448: 100%|██████████| 103/103 [00:57<00:00,  1.78it/s]\n",
      "                 Class     Images  Instances      Box(P          R      mAP50  mAP50-95): 100%|██████████| 15/15 [00:10<00:00,  1.37it/s]"
     ]
    },
    {
     "name": "stdout",
     "output_type": "stream",
     "text": [
      "                   all       1885       5692      0.912       0.87      0.924       0.74\n"
     ]
    },
    {
     "name": "stderr",
     "output_type": "stream",
     "text": [
      "\n"
     ]
    },
    {
     "name": "stdout",
     "output_type": "stream",
     "text": [
      "\n",
      "      Epoch    GPU_mem   box_loss   cls_loss   dfl_loss  Instances       Size\n"
     ]
    },
    {
     "name": "stderr",
     "output_type": "stream",
     "text": [
      "     42/100      8.32G      1.136     0.6242      1.039        160        448: 100%|██████████| 103/103 [00:57<00:00,  1.78it/s]\n",
      "                 Class     Images  Instances      Box(P          R      mAP50  mAP50-95): 100%|██████████| 15/15 [00:11<00:00,  1.36it/s]"
     ]
    },
    {
     "name": "stdout",
     "output_type": "stream",
     "text": [
      "                   all       1885       5692      0.929      0.884      0.922      0.754\n"
     ]
    },
    {
     "name": "stderr",
     "output_type": "stream",
     "text": [
      "\n"
     ]
    },
    {
     "name": "stdout",
     "output_type": "stream",
     "text": [
      "\n",
      "      Epoch    GPU_mem   box_loss   cls_loss   dfl_loss  Instances       Size\n"
     ]
    },
    {
     "name": "stderr",
     "output_type": "stream",
     "text": [
      "     43/100      8.74G      1.123     0.6141      1.036        170        448: 100%|██████████| 103/103 [00:58<00:00,  1.78it/s]\n",
      "                 Class     Images  Instances      Box(P          R      mAP50  mAP50-95): 100%|██████████| 15/15 [00:10<00:00,  1.37it/s]"
     ]
    },
    {
     "name": "stdout",
     "output_type": "stream",
     "text": [
      "                   all       1885       5692      0.947      0.876      0.924      0.767\n"
     ]
    },
    {
     "name": "stderr",
     "output_type": "stream",
     "text": [
      "\n"
     ]
    },
    {
     "name": "stdout",
     "output_type": "stream",
     "text": [
      "\n",
      "      Epoch    GPU_mem   box_loss   cls_loss   dfl_loss  Instances       Size\n"
     ]
    },
    {
     "name": "stderr",
     "output_type": "stream",
     "text": [
      "     44/100      8.11G      1.127     0.6132      1.036        172        448: 100%|██████████| 103/103 [00:58<00:00,  1.77it/s]\n",
      "                 Class     Images  Instances      Box(P          R      mAP50  mAP50-95): 100%|██████████| 15/15 [00:11<00:00,  1.36it/s]"
     ]
    },
    {
     "name": "stdout",
     "output_type": "stream",
     "text": [
      "                   all       1885       5692      0.923        0.9      0.926      0.771\n"
     ]
    },
    {
     "name": "stderr",
     "output_type": "stream",
     "text": [
      "\n"
     ]
    },
    {
     "name": "stdout",
     "output_type": "stream",
     "text": [
      "\n",
      "      Epoch    GPU_mem   box_loss   cls_loss   dfl_loss  Instances       Size\n"
     ]
    },
    {
     "name": "stderr",
     "output_type": "stream",
     "text": [
      "     45/100      8.46G      1.127     0.6128      1.035        143        448: 100%|██████████| 103/103 [00:58<00:00,  1.77it/s]\n",
      "                 Class     Images  Instances      Box(P          R      mAP50  mAP50-95): 100%|██████████| 15/15 [00:10<00:00,  1.37it/s]"
     ]
    },
    {
     "name": "stdout",
     "output_type": "stream",
     "text": [
      "                   all       1885       5692      0.916      0.896      0.926      0.769\n"
     ]
    },
    {
     "name": "stderr",
     "output_type": "stream",
     "text": [
      "\n"
     ]
    },
    {
     "name": "stdout",
     "output_type": "stream",
     "text": [
      "\n",
      "      Epoch    GPU_mem   box_loss   cls_loss   dfl_loss  Instances       Size\n"
     ]
    },
    {
     "name": "stderr",
     "output_type": "stream",
     "text": [
      "     46/100      8.41G      1.133     0.6109      1.037        186        448: 100%|██████████| 103/103 [00:58<00:00,  1.77it/s]\n",
      "                 Class     Images  Instances      Box(P          R      mAP50  mAP50-95): 100%|██████████| 15/15 [00:11<00:00,  1.36it/s]"
     ]
    },
    {
     "name": "stdout",
     "output_type": "stream",
     "text": [
      "                   all       1885       5692      0.925      0.891      0.927      0.764\n"
     ]
    },
    {
     "name": "stderr",
     "output_type": "stream",
     "text": [
      "\n"
     ]
    },
    {
     "name": "stdout",
     "output_type": "stream",
     "text": [
      "\n",
      "      Epoch    GPU_mem   box_loss   cls_loss   dfl_loss  Instances       Size\n"
     ]
    },
    {
     "name": "stderr",
     "output_type": "stream",
     "text": [
      "     47/100      8.48G      1.125     0.6109      1.035        180        448: 100%|██████████| 103/103 [00:58<00:00,  1.78it/s]\n",
      "                 Class     Images  Instances      Box(P          R      mAP50  mAP50-95): 100%|██████████| 15/15 [00:11<00:00,  1.33it/s]"
     ]
    },
    {
     "name": "stdout",
     "output_type": "stream",
     "text": [
      "                   all       1885       5692      0.947      0.851      0.923      0.768\n"
     ]
    },
    {
     "name": "stderr",
     "output_type": "stream",
     "text": [
      "\n"
     ]
    },
    {
     "name": "stdout",
     "output_type": "stream",
     "text": [
      "\n",
      "      Epoch    GPU_mem   box_loss   cls_loss   dfl_loss  Instances       Size\n"
     ]
    },
    {
     "name": "stderr",
     "output_type": "stream",
     "text": [
      "     48/100       8.8G      1.117     0.6061      1.028        143        448: 100%|██████████| 103/103 [00:58<00:00,  1.77it/s]\n",
      "                 Class     Images  Instances      Box(P          R      mAP50  mAP50-95): 100%|██████████| 15/15 [00:10<00:00,  1.37it/s]"
     ]
    },
    {
     "name": "stdout",
     "output_type": "stream",
     "text": [
      "                   all       1885       5692      0.951      0.851      0.917      0.769\n"
     ]
    },
    {
     "name": "stderr",
     "output_type": "stream",
     "text": [
      "\n"
     ]
    },
    {
     "name": "stdout",
     "output_type": "stream",
     "text": [
      "\n",
      "      Epoch    GPU_mem   box_loss   cls_loss   dfl_loss  Instances       Size\n"
     ]
    },
    {
     "name": "stderr",
     "output_type": "stream",
     "text": [
      "     49/100      8.45G       1.11     0.6023      1.026        173        448: 100%|██████████| 103/103 [00:58<00:00,  1.77it/s]\n",
      "                 Class     Images  Instances      Box(P          R      mAP50  mAP50-95): 100%|██████████| 15/15 [00:11<00:00,  1.36it/s]"
     ]
    },
    {
     "name": "stdout",
     "output_type": "stream",
     "text": [
      "                   all       1885       5692      0.943      0.893      0.929      0.768\n"
     ]
    },
    {
     "name": "stderr",
     "output_type": "stream",
     "text": [
      "\n"
     ]
    },
    {
     "name": "stdout",
     "output_type": "stream",
     "text": [
      "\n",
      "      Epoch    GPU_mem   box_loss   cls_loss   dfl_loss  Instances       Size\n"
     ]
    },
    {
     "name": "stderr",
     "output_type": "stream",
     "text": [
      "     50/100      8.39G      1.107     0.5927      1.027        145        448: 100%|██████████| 103/103 [00:57<00:00,  1.78it/s]\n",
      "                 Class     Images  Instances      Box(P          R      mAP50  mAP50-95): 100%|██████████| 15/15 [00:11<00:00,  1.36it/s]"
     ]
    },
    {
     "name": "stdout",
     "output_type": "stream",
     "text": [
      "                   all       1885       5692      0.928      0.884      0.921      0.768\n"
     ]
    },
    {
     "name": "stderr",
     "output_type": "stream",
     "text": [
      "\n"
     ]
    },
    {
     "name": "stdout",
     "output_type": "stream",
     "text": [
      "\n",
      "      Epoch    GPU_mem   box_loss   cls_loss   dfl_loss  Instances       Size\n"
     ]
    },
    {
     "name": "stderr",
     "output_type": "stream",
     "text": [
      "     51/100      8.51G      1.109      0.596       1.03        161        448: 100%|██████████| 103/103 [00:58<00:00,  1.77it/s]\n",
      "                 Class     Images  Instances      Box(P          R      mAP50  mAP50-95): 100%|██████████| 15/15 [00:11<00:00,  1.35it/s]"
     ]
    },
    {
     "name": "stdout",
     "output_type": "stream",
     "text": [
      "                   all       1885       5692      0.945      0.884      0.927      0.771\n"
     ]
    },
    {
     "name": "stderr",
     "output_type": "stream",
     "text": [
      "\n"
     ]
    },
    {
     "name": "stdout",
     "output_type": "stream",
     "text": [
      "\n",
      "      Epoch    GPU_mem   box_loss   cls_loss   dfl_loss  Instances       Size\n"
     ]
    },
    {
     "name": "stderr",
     "output_type": "stream",
     "text": [
      "     52/100      8.56G      1.106     0.5903      1.024        116        448: 100%|██████████| 103/103 [00:58<00:00,  1.77it/s]\n",
      "                 Class     Images  Instances      Box(P          R      mAP50  mAP50-95): 100%|██████████| 15/15 [00:11<00:00,  1.36it/s]"
     ]
    },
    {
     "name": "stdout",
     "output_type": "stream",
     "text": [
      "                   all       1885       5692      0.936      0.883      0.929      0.777\n"
     ]
    },
    {
     "name": "stderr",
     "output_type": "stream",
     "text": [
      "\n"
     ]
    },
    {
     "name": "stdout",
     "output_type": "stream",
     "text": [
      "\n",
      "      Epoch    GPU_mem   box_loss   cls_loss   dfl_loss  Instances       Size\n"
     ]
    },
    {
     "name": "stderr",
     "output_type": "stream",
     "text": [
      "     53/100      8.46G      1.111     0.5902      1.027        121        448: 100%|██████████| 103/103 [00:57<00:00,  1.78it/s]\n",
      "                 Class     Images  Instances      Box(P          R      mAP50  mAP50-95): 100%|██████████| 15/15 [00:10<00:00,  1.39it/s]"
     ]
    },
    {
     "name": "stdout",
     "output_type": "stream",
     "text": [
      "                   all       1885       5692      0.926      0.903       0.93      0.781\n"
     ]
    },
    {
     "name": "stderr",
     "output_type": "stream",
     "text": [
      "\n"
     ]
    },
    {
     "name": "stdout",
     "output_type": "stream",
     "text": [
      "\n",
      "      Epoch    GPU_mem   box_loss   cls_loss   dfl_loss  Instances       Size\n"
     ]
    },
    {
     "name": "stderr",
     "output_type": "stream",
     "text": [
      "     54/100      8.08G      1.092     0.5795       1.02        193        448: 100%|██████████| 103/103 [00:57<00:00,  1.78it/s]\n",
      "                 Class     Images  Instances      Box(P          R      mAP50  mAP50-95): 100%|██████████| 15/15 [00:10<00:00,  1.38it/s]"
     ]
    },
    {
     "name": "stdout",
     "output_type": "stream",
     "text": [
      "                   all       1885       5692      0.924      0.897       0.93      0.766\n"
     ]
    },
    {
     "name": "stderr",
     "output_type": "stream",
     "text": [
      "\n"
     ]
    },
    {
     "name": "stdout",
     "output_type": "stream",
     "text": [
      "\n",
      "      Epoch    GPU_mem   box_loss   cls_loss   dfl_loss  Instances       Size\n"
     ]
    },
    {
     "name": "stderr",
     "output_type": "stream",
     "text": [
      "     55/100      8.64G      1.099     0.5772      1.018        165        448: 100%|██████████| 103/103 [00:58<00:00,  1.77it/s]\n",
      "                 Class     Images  Instances      Box(P          R      mAP50  mAP50-95): 100%|██████████| 15/15 [00:10<00:00,  1.37it/s]"
     ]
    },
    {
     "name": "stdout",
     "output_type": "stream",
     "text": [
      "                   all       1885       5692      0.917      0.902      0.918      0.767\n"
     ]
    },
    {
     "name": "stderr",
     "output_type": "stream",
     "text": [
      "\n"
     ]
    },
    {
     "name": "stdout",
     "output_type": "stream",
     "text": [
      "\n",
      "      Epoch    GPU_mem   box_loss   cls_loss   dfl_loss  Instances       Size\n"
     ]
    },
    {
     "name": "stderr",
     "output_type": "stream",
     "text": [
      "     56/100      8.74G      1.094     0.5783       1.02        179        448: 100%|██████████| 103/103 [00:57<00:00,  1.78it/s]\n",
      "                 Class     Images  Instances      Box(P          R      mAP50  mAP50-95): 100%|██████████| 15/15 [00:11<00:00,  1.35it/s]"
     ]
    },
    {
     "name": "stdout",
     "output_type": "stream",
     "text": [
      "                   all       1885       5692      0.932      0.873      0.929      0.774\n"
     ]
    },
    {
     "name": "stderr",
     "output_type": "stream",
     "text": [
      "\n"
     ]
    },
    {
     "name": "stdout",
     "output_type": "stream",
     "text": [
      "\n",
      "      Epoch    GPU_mem   box_loss   cls_loss   dfl_loss  Instances       Size\n"
     ]
    },
    {
     "name": "stderr",
     "output_type": "stream",
     "text": [
      "     57/100      8.43G      1.094     0.5707      1.019        139        448: 100%|██████████| 103/103 [00:58<00:00,  1.77it/s]\n",
      "                 Class     Images  Instances      Box(P          R      mAP50  mAP50-95): 100%|██████████| 15/15 [00:11<00:00,  1.36it/s]"
     ]
    },
    {
     "name": "stdout",
     "output_type": "stream",
     "text": [
      "                   all       1885       5692      0.928      0.901      0.931      0.776\n"
     ]
    },
    {
     "name": "stderr",
     "output_type": "stream",
     "text": [
      "\n"
     ]
    },
    {
     "name": "stdout",
     "output_type": "stream",
     "text": [
      "\n",
      "      Epoch    GPU_mem   box_loss   cls_loss   dfl_loss  Instances       Size\n"
     ]
    },
    {
     "name": "stderr",
     "output_type": "stream",
     "text": [
      "     58/100      8.84G      1.087     0.5747      1.018        188        448: 100%|██████████| 103/103 [00:58<00:00,  1.77it/s]\n",
      "                 Class     Images  Instances      Box(P          R      mAP50  mAP50-95): 100%|██████████| 15/15 [00:11<00:00,  1.36it/s]"
     ]
    },
    {
     "name": "stdout",
     "output_type": "stream",
     "text": [
      "                   all       1885       5692      0.936      0.902      0.929      0.774\n"
     ]
    },
    {
     "name": "stderr",
     "output_type": "stream",
     "text": [
      "\n"
     ]
    },
    {
     "name": "stdout",
     "output_type": "stream",
     "text": [
      "\n",
      "      Epoch    GPU_mem   box_loss   cls_loss   dfl_loss  Instances       Size\n"
     ]
    },
    {
     "name": "stderr",
     "output_type": "stream",
     "text": [
      "     59/100      8.09G      1.096     0.5686       1.02        192        448: 100%|██████████| 103/103 [00:58<00:00,  1.78it/s]\n",
      "                 Class     Images  Instances      Box(P          R      mAP50  mAP50-95): 100%|██████████| 15/15 [00:10<00:00,  1.37it/s]"
     ]
    },
    {
     "name": "stdout",
     "output_type": "stream",
     "text": [
      "                   all       1885       5692      0.947      0.877      0.925      0.773\n"
     ]
    },
    {
     "name": "stderr",
     "output_type": "stream",
     "text": [
      "\n"
     ]
    },
    {
     "name": "stdout",
     "output_type": "stream",
     "text": [
      "\n",
      "      Epoch    GPU_mem   box_loss   cls_loss   dfl_loss  Instances       Size\n"
     ]
    },
    {
     "name": "stderr",
     "output_type": "stream",
     "text": [
      "     60/100      8.52G      1.084     0.5663      1.017        226        448: 100%|██████████| 103/103 [00:58<00:00,  1.78it/s]\n",
      "                 Class     Images  Instances      Box(P          R      mAP50  mAP50-95): 100%|██████████| 15/15 [00:10<00:00,  1.38it/s]"
     ]
    },
    {
     "name": "stdout",
     "output_type": "stream",
     "text": [
      "                   all       1885       5692       0.94      0.887      0.931      0.778\n"
     ]
    },
    {
     "name": "stderr",
     "output_type": "stream",
     "text": [
      "\n"
     ]
    },
    {
     "name": "stdout",
     "output_type": "stream",
     "text": [
      "\n",
      "      Epoch    GPU_mem   box_loss   cls_loss   dfl_loss  Instances       Size\n"
     ]
    },
    {
     "name": "stderr",
     "output_type": "stream",
     "text": [
      "     61/100      8.38G      1.084     0.5671      1.017        152        448: 100%|██████████| 103/103 [00:58<00:00,  1.77it/s]\n",
      "                 Class     Images  Instances      Box(P          R      mAP50  mAP50-95): 100%|██████████| 15/15 [00:10<00:00,  1.37it/s]"
     ]
    },
    {
     "name": "stdout",
     "output_type": "stream",
     "text": [
      "                   all       1885       5692      0.909      0.902      0.928      0.779\n"
     ]
    },
    {
     "name": "stderr",
     "output_type": "stream",
     "text": [
      "\n"
     ]
    },
    {
     "name": "stdout",
     "output_type": "stream",
     "text": [
      "\n",
      "      Epoch    GPU_mem   box_loss   cls_loss   dfl_loss  Instances       Size\n"
     ]
    },
    {
     "name": "stderr",
     "output_type": "stream",
     "text": [
      "     62/100      8.39G      1.073     0.5555      1.012        153        448: 100%|██████████| 103/103 [00:58<00:00,  1.77it/s]\n",
      "                 Class     Images  Instances      Box(P          R      mAP50  mAP50-95): 100%|██████████| 15/15 [00:10<00:00,  1.36it/s]"
     ]
    },
    {
     "name": "stdout",
     "output_type": "stream",
     "text": [
      "                   all       1885       5692      0.925      0.886      0.922      0.764\n"
     ]
    },
    {
     "name": "stderr",
     "output_type": "stream",
     "text": [
      "\n"
     ]
    },
    {
     "name": "stdout",
     "output_type": "stream",
     "text": [
      "\n",
      "      Epoch    GPU_mem   box_loss   cls_loss   dfl_loss  Instances       Size\n"
     ]
    },
    {
     "name": "stderr",
     "output_type": "stream",
     "text": [
      "     63/100      8.41G      1.081     0.5612       1.01        132        448: 100%|██████████| 103/103 [00:58<00:00,  1.77it/s]\n",
      "                 Class     Images  Instances      Box(P          R      mAP50  mAP50-95): 100%|██████████| 15/15 [00:11<00:00,  1.35it/s]"
     ]
    },
    {
     "name": "stdout",
     "output_type": "stream",
     "text": [
      "                   all       1885       5692      0.919      0.896       0.93      0.777\n"
     ]
    },
    {
     "name": "stderr",
     "output_type": "stream",
     "text": [
      "\n"
     ]
    },
    {
     "name": "stdout",
     "output_type": "stream",
     "text": [
      "\n",
      "      Epoch    GPU_mem   box_loss   cls_loss   dfl_loss  Instances       Size\n"
     ]
    },
    {
     "name": "stderr",
     "output_type": "stream",
     "text": [
      "     64/100      8.04G      1.077     0.5581      1.011        193        448: 100%|██████████| 103/103 [00:58<00:00,  1.77it/s]\n",
      "                 Class     Images  Instances      Box(P          R      mAP50  mAP50-95): 100%|██████████| 15/15 [00:10<00:00,  1.37it/s]"
     ]
    },
    {
     "name": "stdout",
     "output_type": "stream",
     "text": [
      "                   all       1885       5692       0.93      0.905      0.931      0.779\n"
     ]
    },
    {
     "name": "stderr",
     "output_type": "stream",
     "text": [
      "\n"
     ]
    },
    {
     "name": "stdout",
     "output_type": "stream",
     "text": [
      "\n",
      "      Epoch    GPU_mem   box_loss   cls_loss   dfl_loss  Instances       Size\n"
     ]
    },
    {
     "name": "stderr",
     "output_type": "stream",
     "text": [
      "     65/100       8.1G      1.069     0.5517      1.009        149        448: 100%|██████████| 103/103 [00:58<00:00,  1.77it/s]\n",
      "                 Class     Images  Instances      Box(P          R      mAP50  mAP50-95): 100%|██████████| 15/15 [00:11<00:00,  1.36it/s]"
     ]
    },
    {
     "name": "stdout",
     "output_type": "stream",
     "text": [
      "                   all       1885       5692      0.944      0.891      0.932      0.781\n"
     ]
    },
    {
     "name": "stderr",
     "output_type": "stream",
     "text": [
      "\n"
     ]
    },
    {
     "name": "stdout",
     "output_type": "stream",
     "text": [
      "\n",
      "      Epoch    GPU_mem   box_loss   cls_loss   dfl_loss  Instances       Size\n"
     ]
    },
    {
     "name": "stderr",
     "output_type": "stream",
     "text": [
      "     66/100      8.28G      1.076     0.5512      1.011        150        448: 100%|██████████| 103/103 [00:58<00:00,  1.77it/s]\n",
      "                 Class     Images  Instances      Box(P          R      mAP50  mAP50-95): 100%|██████████| 15/15 [00:10<00:00,  1.37it/s]"
     ]
    },
    {
     "name": "stdout",
     "output_type": "stream",
     "text": [
      "                   all       1885       5692      0.936      0.888      0.931      0.782\n"
     ]
    },
    {
     "name": "stderr",
     "output_type": "stream",
     "text": [
      "\n"
     ]
    },
    {
     "name": "stdout",
     "output_type": "stream",
     "text": [
      "\n",
      "      Epoch    GPU_mem   box_loss   cls_loss   dfl_loss  Instances       Size\n"
     ]
    },
    {
     "name": "stderr",
     "output_type": "stream",
     "text": [
      "     67/100      8.11G      1.065     0.5483      1.009        215        448: 100%|██████████| 103/103 [00:57<00:00,  1.78it/s]\n",
      "                 Class     Images  Instances      Box(P          R      mAP50  mAP50-95): 100%|██████████| 15/15 [00:11<00:00,  1.36it/s]"
     ]
    },
    {
     "name": "stdout",
     "output_type": "stream",
     "text": [
      "                   all       1885       5692      0.934      0.901      0.933      0.777\n"
     ]
    },
    {
     "name": "stderr",
     "output_type": "stream",
     "text": [
      "\n"
     ]
    },
    {
     "name": "stdout",
     "output_type": "stream",
     "text": [
      "\n",
      "      Epoch    GPU_mem   box_loss   cls_loss   dfl_loss  Instances       Size\n"
     ]
    },
    {
     "name": "stderr",
     "output_type": "stream",
     "text": [
      "     68/100      8.04G      1.068     0.5461       1.01        189        448: 100%|██████████| 103/103 [00:58<00:00,  1.77it/s]\n",
      "                 Class     Images  Instances      Box(P          R      mAP50  mAP50-95): 100%|██████████| 15/15 [00:10<00:00,  1.37it/s]"
     ]
    },
    {
     "name": "stdout",
     "output_type": "stream",
     "text": [
      "                   all       1885       5692      0.947      0.899      0.933      0.781\n"
     ]
    },
    {
     "name": "stderr",
     "output_type": "stream",
     "text": [
      "\n"
     ]
    },
    {
     "name": "stdout",
     "output_type": "stream",
     "text": [
      "\n",
      "      Epoch    GPU_mem   box_loss   cls_loss   dfl_loss  Instances       Size\n"
     ]
    },
    {
     "name": "stderr",
     "output_type": "stream",
     "text": [
      "     69/100      8.38G      1.063     0.5404      1.004        127        448: 100%|██████████| 103/103 [00:57<00:00,  1.78it/s]\n",
      "                 Class     Images  Instances      Box(P          R      mAP50  mAP50-95): 100%|██████████| 15/15 [00:10<00:00,  1.37it/s]"
     ]
    },
    {
     "name": "stdout",
     "output_type": "stream",
     "text": [
      "                   all       1885       5692      0.935      0.904      0.932      0.785\n"
     ]
    },
    {
     "name": "stderr",
     "output_type": "stream",
     "text": [
      "\n"
     ]
    },
    {
     "name": "stdout",
     "output_type": "stream",
     "text": [
      "\n",
      "      Epoch    GPU_mem   box_loss   cls_loss   dfl_loss  Instances       Size\n"
     ]
    },
    {
     "name": "stderr",
     "output_type": "stream",
     "text": [
      "     70/100      8.36G      1.056     0.5346      1.004        161        448: 100%|██████████| 103/103 [00:57<00:00,  1.78it/s]\n",
      "                 Class     Images  Instances      Box(P          R      mAP50  mAP50-95): 100%|██████████| 15/15 [00:10<00:00,  1.38it/s]"
     ]
    },
    {
     "name": "stdout",
     "output_type": "stream",
     "text": [
      "                   all       1885       5692       0.95      0.885      0.926      0.776\n"
     ]
    },
    {
     "name": "stderr",
     "output_type": "stream",
     "text": [
      "\n"
     ]
    },
    {
     "name": "stdout",
     "output_type": "stream",
     "text": [
      "\n",
      "      Epoch    GPU_mem   box_loss   cls_loss   dfl_loss  Instances       Size\n"
     ]
    },
    {
     "name": "stderr",
     "output_type": "stream",
     "text": [
      "     71/100      8.09G      1.042     0.5261      1.002        139        448: 100%|██████████| 103/103 [00:57<00:00,  1.78it/s]\n",
      "                 Class     Images  Instances      Box(P          R      mAP50  mAP50-95): 100%|██████████| 15/15 [00:10<00:00,  1.39it/s]"
     ]
    },
    {
     "name": "stdout",
     "output_type": "stream",
     "text": [
      "                   all       1885       5692      0.949      0.885       0.93      0.782\n"
     ]
    },
    {
     "name": "stderr",
     "output_type": "stream",
     "text": [
      "\n"
     ]
    },
    {
     "name": "stdout",
     "output_type": "stream",
     "text": [
      "\n",
      "      Epoch    GPU_mem   box_loss   cls_loss   dfl_loss  Instances       Size\n"
     ]
    },
    {
     "name": "stderr",
     "output_type": "stream",
     "text": [
      "     72/100       8.1G      1.049     0.5327      1.003        146        448: 100%|██████████| 103/103 [00:57<00:00,  1.78it/s]\n",
      "                 Class     Images  Instances      Box(P          R      mAP50  mAP50-95): 100%|██████████| 15/15 [00:10<00:00,  1.37it/s]"
     ]
    },
    {
     "name": "stdout",
     "output_type": "stream",
     "text": [
      "                   all       1885       5692      0.931      0.891      0.933      0.782\n"
     ]
    },
    {
     "name": "stderr",
     "output_type": "stream",
     "text": [
      "\n"
     ]
    },
    {
     "name": "stdout",
     "output_type": "stream",
     "text": [
      "\n",
      "      Epoch    GPU_mem   box_loss   cls_loss   dfl_loss  Instances       Size\n"
     ]
    },
    {
     "name": "stderr",
     "output_type": "stream",
     "text": [
      "     73/100      8.09G      1.049     0.5291      1.005        132        448: 100%|██████████| 103/103 [00:57<00:00,  1.78it/s]\n",
      "                 Class     Images  Instances      Box(P          R      mAP50  mAP50-95): 100%|██████████| 15/15 [00:11<00:00,  1.36it/s]"
     ]
    },
    {
     "name": "stdout",
     "output_type": "stream",
     "text": [
      "                   all       1885       5692      0.949      0.892      0.932      0.777\n"
     ]
    },
    {
     "name": "stderr",
     "output_type": "stream",
     "text": [
      "\n"
     ]
    },
    {
     "name": "stdout",
     "output_type": "stream",
     "text": [
      "\n",
      "      Epoch    GPU_mem   box_loss   cls_loss   dfl_loss  Instances       Size\n"
     ]
    },
    {
     "name": "stderr",
     "output_type": "stream",
     "text": [
      "     74/100      8.06G      1.041     0.5274      1.001        153        448: 100%|██████████| 103/103 [00:57<00:00,  1.78it/s]\n",
      "                 Class     Images  Instances      Box(P          R      mAP50  mAP50-95): 100%|██████████| 15/15 [00:10<00:00,  1.36it/s]"
     ]
    },
    {
     "name": "stdout",
     "output_type": "stream",
     "text": [
      "                   all       1885       5692      0.936      0.887      0.933      0.786\n"
     ]
    },
    {
     "name": "stderr",
     "output_type": "stream",
     "text": [
      "\n"
     ]
    },
    {
     "name": "stdout",
     "output_type": "stream",
     "text": [
      "\n",
      "      Epoch    GPU_mem   box_loss   cls_loss   dfl_loss  Instances       Size\n"
     ]
    },
    {
     "name": "stderr",
     "output_type": "stream",
     "text": [
      "     75/100      8.39G      1.052     0.5303     0.9982        149        448: 100%|██████████| 103/103 [00:58<00:00,  1.77it/s]\n",
      "                 Class     Images  Instances      Box(P          R      mAP50  mAP50-95): 100%|██████████| 15/15 [00:10<00:00,  1.37it/s]"
     ]
    },
    {
     "name": "stdout",
     "output_type": "stream",
     "text": [
      "                   all       1885       5692      0.939      0.892      0.928      0.781\n"
     ]
    },
    {
     "name": "stderr",
     "output_type": "stream",
     "text": [
      "\n"
     ]
    },
    {
     "name": "stdout",
     "output_type": "stream",
     "text": [
      "\n",
      "      Epoch    GPU_mem   box_loss   cls_loss   dfl_loss  Instances       Size\n"
     ]
    },
    {
     "name": "stderr",
     "output_type": "stream",
     "text": [
      "     76/100      8.04G      1.052     0.5303     0.9986        197        448: 100%|██████████| 103/103 [00:57<00:00,  1.78it/s]\n",
      "                 Class     Images  Instances      Box(P          R      mAP50  mAP50-95): 100%|██████████| 15/15 [00:10<00:00,  1.38it/s]"
     ]
    },
    {
     "name": "stdout",
     "output_type": "stream",
     "text": [
      "                   all       1885       5692      0.933      0.893      0.927       0.78\n"
     ]
    },
    {
     "name": "stderr",
     "output_type": "stream",
     "text": [
      "\n"
     ]
    },
    {
     "name": "stdout",
     "output_type": "stream",
     "text": [
      "\n",
      "      Epoch    GPU_mem   box_loss   cls_loss   dfl_loss  Instances       Size\n"
     ]
    },
    {
     "name": "stderr",
     "output_type": "stream",
     "text": [
      "     77/100      8.49G      1.048     0.5251     0.9933        140        448: 100%|██████████| 103/103 [00:58<00:00,  1.77it/s]\n",
      "                 Class     Images  Instances      Box(P          R      mAP50  mAP50-95): 100%|██████████| 15/15 [00:10<00:00,  1.37it/s]"
     ]
    },
    {
     "name": "stdout",
     "output_type": "stream",
     "text": [
      "                   all       1885       5692      0.947      0.877      0.926      0.776\n"
     ]
    },
    {
     "name": "stderr",
     "output_type": "stream",
     "text": [
      "\n"
     ]
    },
    {
     "name": "stdout",
     "output_type": "stream",
     "text": [
      "\n",
      "      Epoch    GPU_mem   box_loss   cls_loss   dfl_loss  Instances       Size\n"
     ]
    },
    {
     "name": "stderr",
     "output_type": "stream",
     "text": [
      "     78/100      8.06G      1.033      0.516     0.9946        186        448: 100%|██████████| 103/103 [00:57<00:00,  1.78it/s]\n",
      "                 Class     Images  Instances      Box(P          R      mAP50  mAP50-95): 100%|██████████| 15/15 [00:11<00:00,  1.35it/s]"
     ]
    },
    {
     "name": "stdout",
     "output_type": "stream",
     "text": [
      "                   all       1885       5692      0.948      0.891      0.927       0.78\n"
     ]
    },
    {
     "name": "stderr",
     "output_type": "stream",
     "text": [
      "\n"
     ]
    },
    {
     "name": "stdout",
     "output_type": "stream",
     "text": [
      "\n",
      "      Epoch    GPU_mem   box_loss   cls_loss   dfl_loss  Instances       Size\n"
     ]
    },
    {
     "name": "stderr",
     "output_type": "stream",
     "text": [
      "     79/100      8.81G      1.044     0.5167     0.9933        159        448: 100%|██████████| 103/103 [00:57<00:00,  1.78it/s]\n",
      "                 Class     Images  Instances      Box(P          R      mAP50  mAP50-95): 100%|██████████| 15/15 [00:11<00:00,  1.36it/s]"
     ]
    },
    {
     "name": "stdout",
     "output_type": "stream",
     "text": [
      "                   all       1885       5692      0.945      0.889      0.926      0.778\n"
     ]
    },
    {
     "name": "stderr",
     "output_type": "stream",
     "text": [
      "\n"
     ]
    },
    {
     "name": "stdout",
     "output_type": "stream",
     "text": [
      "\n",
      "      Epoch    GPU_mem   box_loss   cls_loss   dfl_loss  Instances       Size\n"
     ]
    },
    {
     "name": "stderr",
     "output_type": "stream",
     "text": [
      "     80/100      8.76G      1.034     0.5162     0.9947        197        448: 100%|██████████| 103/103 [00:58<00:00,  1.77it/s]\n",
      "                 Class     Images  Instances      Box(P          R      mAP50  mAP50-95): 100%|██████████| 15/15 [00:10<00:00,  1.37it/s]"
     ]
    },
    {
     "name": "stdout",
     "output_type": "stream",
     "text": [
      "                   all       1885       5692      0.932      0.892      0.927      0.777\n"
     ]
    },
    {
     "name": "stderr",
     "output_type": "stream",
     "text": [
      "\n"
     ]
    },
    {
     "name": "stdout",
     "output_type": "stream",
     "text": [
      "\n",
      "      Epoch    GPU_mem   box_loss   cls_loss   dfl_loss  Instances       Size\n"
     ]
    },
    {
     "name": "stderr",
     "output_type": "stream",
     "text": [
      "     81/100      8.48G      1.028     0.5107      0.993        159        448: 100%|██████████| 103/103 [00:58<00:00,  1.77it/s]\n",
      "                 Class     Images  Instances      Box(P          R      mAP50  mAP50-95): 100%|██████████| 15/15 [00:10<00:00,  1.37it/s]"
     ]
    },
    {
     "name": "stdout",
     "output_type": "stream",
     "text": [
      "                   all       1885       5692      0.923      0.892      0.932      0.785\n"
     ]
    },
    {
     "name": "stderr",
     "output_type": "stream",
     "text": [
      "\n"
     ]
    },
    {
     "name": "stdout",
     "output_type": "stream",
     "text": [
      "\n",
      "      Epoch    GPU_mem   box_loss   cls_loss   dfl_loss  Instances       Size\n"
     ]
    },
    {
     "name": "stderr",
     "output_type": "stream",
     "text": [
      "     82/100      8.39G      1.034     0.5103     0.9925        241        448: 100%|██████████| 103/103 [00:58<00:00,  1.77it/s]\n",
      "                 Class     Images  Instances      Box(P          R      mAP50  mAP50-95): 100%|██████████| 15/15 [00:10<00:00,  1.37it/s]"
     ]
    },
    {
     "name": "stdout",
     "output_type": "stream",
     "text": [
      "                   all       1885       5692      0.947       0.89      0.928      0.778\n"
     ]
    },
    {
     "name": "stderr",
     "output_type": "stream",
     "text": [
      "\n"
     ]
    },
    {
     "name": "stdout",
     "output_type": "stream",
     "text": [
      "\n",
      "      Epoch    GPU_mem   box_loss   cls_loss   dfl_loss  Instances       Size\n"
     ]
    },
    {
     "name": "stderr",
     "output_type": "stream",
     "text": [
      "     83/100      8.51G      1.023     0.5086     0.9881        152        448: 100%|██████████| 103/103 [00:58<00:00,  1.78it/s]\n",
      "                 Class     Images  Instances      Box(P          R      mAP50  mAP50-95): 100%|██████████| 15/15 [00:10<00:00,  1.36it/s]"
     ]
    },
    {
     "name": "stdout",
     "output_type": "stream",
     "text": [
      "                   all       1885       5692      0.924      0.899      0.934      0.786\n"
     ]
    },
    {
     "name": "stderr",
     "output_type": "stream",
     "text": [
      "\n"
     ]
    },
    {
     "name": "stdout",
     "output_type": "stream",
     "text": [
      "\n",
      "      Epoch    GPU_mem   box_loss   cls_loss   dfl_loss  Instances       Size\n"
     ]
    },
    {
     "name": "stderr",
     "output_type": "stream",
     "text": [
      "     84/100       8.1G      1.018     0.5023     0.9873        143        448: 100%|██████████| 103/103 [00:57<00:00,  1.78it/s]\n",
      "                 Class     Images  Instances      Box(P          R      mAP50  mAP50-95): 100%|██████████| 15/15 [00:10<00:00,  1.39it/s]"
     ]
    },
    {
     "name": "stdout",
     "output_type": "stream",
     "text": [
      "                   all       1885       5692      0.932       0.89      0.933      0.786\n"
     ]
    },
    {
     "name": "stderr",
     "output_type": "stream",
     "text": [
      "\n"
     ]
    },
    {
     "name": "stdout",
     "output_type": "stream",
     "text": [
      "\n",
      "      Epoch    GPU_mem   box_loss   cls_loss   dfl_loss  Instances       Size\n"
     ]
    },
    {
     "name": "stderr",
     "output_type": "stream",
     "text": [
      "     85/100      8.59G      1.011     0.4962     0.9864        204        448: 100%|██████████| 103/103 [00:57<00:00,  1.78it/s]\n",
      "                 Class     Images  Instances      Box(P          R      mAP50  mAP50-95): 100%|██████████| 15/15 [00:10<00:00,  1.39it/s]"
     ]
    },
    {
     "name": "stdout",
     "output_type": "stream",
     "text": [
      "                   all       1885       5692      0.946       0.88      0.933      0.787\n"
     ]
    },
    {
     "name": "stderr",
     "output_type": "stream",
     "text": [
      "\n"
     ]
    },
    {
     "name": "stdout",
     "output_type": "stream",
     "text": [
      "\n",
      "      Epoch    GPU_mem   box_loss   cls_loss   dfl_loss  Instances       Size\n"
     ]
    },
    {
     "name": "stderr",
     "output_type": "stream",
     "text": [
      "     86/100      8.69G      1.023     0.4987     0.9894        146        448: 100%|██████████| 103/103 [00:57<00:00,  1.78it/s]\n",
      "                 Class     Images  Instances      Box(P          R      mAP50  mAP50-95): 100%|██████████| 15/15 [00:10<00:00,  1.39it/s]"
     ]
    },
    {
     "name": "stdout",
     "output_type": "stream",
     "text": [
      "                   all       1885       5692      0.945      0.891      0.933      0.786\n"
     ]
    },
    {
     "name": "stderr",
     "output_type": "stream",
     "text": [
      "\n"
     ]
    },
    {
     "name": "stdout",
     "output_type": "stream",
     "text": [
      "\n",
      "      Epoch    GPU_mem   box_loss   cls_loss   dfl_loss  Instances       Size\n"
     ]
    },
    {
     "name": "stderr",
     "output_type": "stream",
     "text": [
      "     87/100      8.04G       1.02     0.4989     0.9861        155        448: 100%|██████████| 103/103 [00:57<00:00,  1.78it/s]\n",
      "                 Class     Images  Instances      Box(P          R      mAP50  mAP50-95): 100%|██████████| 15/15 [00:10<00:00,  1.38it/s]"
     ]
    },
    {
     "name": "stdout",
     "output_type": "stream",
     "text": [
      "                   all       1885       5692      0.947      0.891      0.933      0.785\n"
     ]
    },
    {
     "name": "stderr",
     "output_type": "stream",
     "text": [
      "\n"
     ]
    },
    {
     "name": "stdout",
     "output_type": "stream",
     "text": [
      "\n",
      "      Epoch    GPU_mem   box_loss   cls_loss   dfl_loss  Instances       Size\n"
     ]
    },
    {
     "name": "stderr",
     "output_type": "stream",
     "text": [
      "     88/100      8.32G      1.015     0.4911     0.9836        135        448: 100%|██████████| 103/103 [00:57<00:00,  1.78it/s]\n",
      "                 Class     Images  Instances      Box(P          R      mAP50  mAP50-95): 100%|██████████| 15/15 [00:10<00:00,  1.38it/s]"
     ]
    },
    {
     "name": "stdout",
     "output_type": "stream",
     "text": [
      "                   all       1885       5692      0.948      0.892      0.934      0.786\n"
     ]
    },
    {
     "name": "stderr",
     "output_type": "stream",
     "text": [
      "\n"
     ]
    },
    {
     "name": "stdout",
     "output_type": "stream",
     "text": [
      "\n",
      "      Epoch    GPU_mem   box_loss   cls_loss   dfl_loss  Instances       Size\n"
     ]
    },
    {
     "name": "stderr",
     "output_type": "stream",
     "text": [
      "     89/100      8.08G      1.004     0.4898     0.9839        137        448: 100%|██████████| 103/103 [00:57<00:00,  1.78it/s]\n",
      "                 Class     Images  Instances      Box(P          R      mAP50  mAP50-95): 100%|██████████| 15/15 [00:10<00:00,  1.38it/s]"
     ]
    },
    {
     "name": "stdout",
     "output_type": "stream",
     "text": [
      "                   all       1885       5692      0.948      0.906      0.934      0.786\n"
     ]
    },
    {
     "name": "stderr",
     "output_type": "stream",
     "text": [
      "\n"
     ]
    },
    {
     "name": "stdout",
     "output_type": "stream",
     "text": [
      "\n",
      "      Epoch    GPU_mem   box_loss   cls_loss   dfl_loss  Instances       Size\n"
     ]
    },
    {
     "name": "stderr",
     "output_type": "stream",
     "text": [
      "     90/100      8.72G      1.011     0.4941     0.9858        156        448: 100%|██████████| 103/103 [00:57<00:00,  1.78it/s]\n",
      "                 Class     Images  Instances      Box(P          R      mAP50  mAP50-95): 100%|██████████| 15/15 [00:10<00:00,  1.37it/s]"
     ]
    },
    {
     "name": "stdout",
     "output_type": "stream",
     "text": [
      "                   all       1885       5692      0.947      0.908      0.934      0.786\n"
     ]
    },
    {
     "name": "stderr",
     "output_type": "stream",
     "text": [
      "\n"
     ]
    },
    {
     "name": "stdout",
     "output_type": "stream",
     "text": [
      "Closing dataloader mosaic\n",
      "\u001b[34m\u001b[1malbumentations: \u001b[0mBlur(p=0.01, blur_limit=(3, 7)), MedianBlur(p=0.01, blur_limit=(3, 7)), ToGray(p=0.01), CLAHE(p=0.01, clip_limit=(1, 4.0), tile_grid_size=(8, 8))\n"
     ]
    },
    {
     "name": "stderr",
     "output_type": "stream",
     "text": [
      "os.fork() was called. os.fork() is incompatible with multithreaded code, and JAX is multithreaded, so this will likely lead to a deadlock.\n",
      "os.fork() was called. os.fork() is incompatible with multithreaded code, and JAX is multithreaded, so this will likely lead to a deadlock.\n"
     ]
    },
    {
     "name": "stdout",
     "output_type": "stream",
     "text": [
      "\n",
      "      Epoch    GPU_mem   box_loss   cls_loss   dfl_loss  Instances       Size\n"
     ]
    },
    {
     "name": "stderr",
     "output_type": "stream",
     "text": [
      "     91/100       8.5G     0.9943     0.4496     0.9685        102        448: 100%|██████████| 103/103 [00:58<00:00,  1.75it/s]\n",
      "                 Class     Images  Instances      Box(P          R      mAP50  mAP50-95): 100%|██████████| 15/15 [00:10<00:00,  1.37it/s]"
     ]
    },
    {
     "name": "stdout",
     "output_type": "stream",
     "text": [
      "                   all       1885       5692      0.934      0.889      0.933      0.786\n"
     ]
    },
    {
     "name": "stderr",
     "output_type": "stream",
     "text": [
      "\n"
     ]
    },
    {
     "name": "stdout",
     "output_type": "stream",
     "text": [
      "\n",
      "      Epoch    GPU_mem   box_loss   cls_loss   dfl_loss  Instances       Size\n"
     ]
    },
    {
     "name": "stderr",
     "output_type": "stream",
     "text": [
      "     92/100      8.46G     0.9879      0.439     0.9646         87        448: 100%|██████████| 103/103 [00:57<00:00,  1.80it/s]\n",
      "                 Class     Images  Instances      Box(P          R      mAP50  mAP50-95): 100%|██████████| 15/15 [00:10<00:00,  1.38it/s]"
     ]
    },
    {
     "name": "stdout",
     "output_type": "stream",
     "text": [
      "                   all       1885       5692      0.943      0.889      0.933      0.787\n"
     ]
    },
    {
     "name": "stderr",
     "output_type": "stream",
     "text": [
      "\n"
     ]
    },
    {
     "name": "stdout",
     "output_type": "stream",
     "text": [
      "\n",
      "      Epoch    GPU_mem   box_loss   cls_loss   dfl_loss  Instances       Size\n"
     ]
    },
    {
     "name": "stderr",
     "output_type": "stream",
     "text": [
      "     93/100      8.44G     0.9799     0.4349     0.9641        101        448: 100%|██████████| 103/103 [00:57<00:00,  1.80it/s]\n",
      "                 Class     Images  Instances      Box(P          R      mAP50  mAP50-95): 100%|██████████| 15/15 [00:10<00:00,  1.37it/s]"
     ]
    },
    {
     "name": "stdout",
     "output_type": "stream",
     "text": [
      "                   all       1885       5692      0.949      0.887      0.932      0.784\n"
     ]
    },
    {
     "name": "stderr",
     "output_type": "stream",
     "text": [
      "\n"
     ]
    },
    {
     "name": "stdout",
     "output_type": "stream",
     "text": [
      "\n",
      "      Epoch    GPU_mem   box_loss   cls_loss   dfl_loss  Instances       Size\n"
     ]
    },
    {
     "name": "stderr",
     "output_type": "stream",
     "text": [
      "     94/100      8.66G     0.9759     0.4312     0.9598         78        448: 100%|██████████| 103/103 [00:57<00:00,  1.80it/s]\n",
      "                 Class     Images  Instances      Box(P          R      mAP50  mAP50-95): 100%|██████████| 15/15 [00:11<00:00,  1.35it/s]"
     ]
    },
    {
     "name": "stdout",
     "output_type": "stream",
     "text": [
      "                   all       1885       5692      0.948      0.888      0.929      0.781\n"
     ]
    },
    {
     "name": "stderr",
     "output_type": "stream",
     "text": [
      "\n"
     ]
    },
    {
     "name": "stdout",
     "output_type": "stream",
     "text": [
      "\n",
      "      Epoch    GPU_mem   box_loss   cls_loss   dfl_loss  Instances       Size\n"
     ]
    },
    {
     "name": "stderr",
     "output_type": "stream",
     "text": [
      "     95/100      8.58G     0.9709     0.4273     0.9557        127        448: 100%|██████████| 103/103 [00:57<00:00,  1.79it/s]\n",
      "                 Class     Images  Instances      Box(P          R      mAP50  mAP50-95): 100%|██████████| 15/15 [00:10<00:00,  1.37it/s]"
     ]
    },
    {
     "name": "stdout",
     "output_type": "stream",
     "text": [
      "                   all       1885       5692       0.95      0.889      0.926      0.777\n"
     ]
    },
    {
     "name": "stderr",
     "output_type": "stream",
     "text": [
      "\n"
     ]
    },
    {
     "name": "stdout",
     "output_type": "stream",
     "text": [
      "\n",
      "      Epoch    GPU_mem   box_loss   cls_loss   dfl_loss  Instances       Size\n"
     ]
    },
    {
     "name": "stderr",
     "output_type": "stream",
     "text": [
      "     96/100      8.46G     0.9681     0.4253     0.9574        150        448: 100%|██████████| 103/103 [00:57<00:00,  1.79it/s]\n",
      "                 Class     Images  Instances      Box(P          R      mAP50  mAP50-95): 100%|██████████| 15/15 [00:11<00:00,  1.35it/s]"
     ]
    },
    {
     "name": "stdout",
     "output_type": "stream",
     "text": [
      "                   all       1885       5692      0.947       0.89      0.927      0.777\n"
     ]
    },
    {
     "name": "stderr",
     "output_type": "stream",
     "text": [
      "\n"
     ]
    },
    {
     "name": "stdout",
     "output_type": "stream",
     "text": [
      "\n",
      "      Epoch    GPU_mem   box_loss   cls_loss   dfl_loss  Instances       Size\n"
     ]
    },
    {
     "name": "stderr",
     "output_type": "stream",
     "text": [
      "     97/100      8.49G     0.9647     0.4235     0.9549         95        448: 100%|██████████| 103/103 [00:57<00:00,  1.79it/s]\n",
      "                 Class     Images  Instances      Box(P          R      mAP50  mAP50-95): 100%|██████████| 15/15 [00:11<00:00,  1.36it/s]"
     ]
    },
    {
     "name": "stdout",
     "output_type": "stream",
     "text": [
      "                   all       1885       5692      0.946      0.891      0.927      0.777\n"
     ]
    },
    {
     "name": "stderr",
     "output_type": "stream",
     "text": [
      "\n"
     ]
    },
    {
     "name": "stdout",
     "output_type": "stream",
     "text": [
      "\n",
      "      Epoch    GPU_mem   box_loss   cls_loss   dfl_loss  Instances       Size\n"
     ]
    },
    {
     "name": "stderr",
     "output_type": "stream",
     "text": [
      "     98/100      8.45G      0.961      0.421     0.9535        110        448: 100%|██████████| 103/103 [00:57<00:00,  1.79it/s]\n",
      "                 Class     Images  Instances      Box(P          R      mAP50  mAP50-95): 100%|██████████| 15/15 [00:11<00:00,  1.36it/s]"
     ]
    },
    {
     "name": "stdout",
     "output_type": "stream",
     "text": [
      "                   all       1885       5692      0.944      0.892      0.927      0.778\n"
     ]
    },
    {
     "name": "stderr",
     "output_type": "stream",
     "text": [
      "\n"
     ]
    },
    {
     "name": "stdout",
     "output_type": "stream",
     "text": [
      "\n",
      "      Epoch    GPU_mem   box_loss   cls_loss   dfl_loss  Instances       Size\n"
     ]
    },
    {
     "name": "stderr",
     "output_type": "stream",
     "text": [
      "     99/100       8.5G       0.96      0.418     0.9551        127        448: 100%|██████████| 103/103 [00:57<00:00,  1.79it/s]\n",
      "                 Class     Images  Instances      Box(P          R      mAP50  mAP50-95): 100%|██████████| 15/15 [00:10<00:00,  1.37it/s]"
     ]
    },
    {
     "name": "stdout",
     "output_type": "stream",
     "text": [
      "                   all       1885       5692      0.945      0.889      0.927      0.778\n"
     ]
    },
    {
     "name": "stderr",
     "output_type": "stream",
     "text": [
      "\n"
     ]
    },
    {
     "name": "stdout",
     "output_type": "stream",
     "text": [
      "\n",
      "      Epoch    GPU_mem   box_loss   cls_loss   dfl_loss  Instances       Size\n"
     ]
    },
    {
     "name": "stderr",
     "output_type": "stream",
     "text": [
      "    100/100      8.54G     0.9606     0.4182     0.9536        117        448: 100%|██████████| 103/103 [00:57<00:00,  1.79it/s]\n",
      "                 Class     Images  Instances      Box(P          R      mAP50  mAP50-95): 100%|██████████| 15/15 [00:11<00:00,  1.35it/s]"
     ]
    },
    {
     "name": "stdout",
     "output_type": "stream",
     "text": [
      "                   all       1885       5692      0.946       0.89      0.927      0.778\n"
     ]
    },
    {
     "name": "stderr",
     "output_type": "stream",
     "text": [
      "\n"
     ]
    },
    {
     "name": "stdout",
     "output_type": "stream",
     "text": [
      "\n",
      "100 epochs completed in 1.937 hours.\n",
      "Optimizer stripped from YOLO_weights/face-detection-5output/weights/last.pt, 19.2MB\n",
      "Optimizer stripped from YOLO_weights/face-detection-5output/weights/best.pt, 19.2MB\n",
      "\n",
      "Validating YOLO_weights/face-detection-5output/weights/best.pt...\n",
      "Ultralytics 8.3.37 🚀 Python-3.10.14 torch-2.4.0 CUDA:0 (Tesla T4, 15095MiB)\n",
      "YOLO11s summary (fused): 238 layers, 9,413,574 parameters, 0 gradients, 21.3 GFLOPs\n"
     ]
    },
    {
     "name": "stderr",
     "output_type": "stream",
     "text": [
      "                 Class     Images  Instances      Box(P          R      mAP50  mAP50-95): 100%|██████████| 15/15 [00:14<00:00,  1.02it/s]\n"
     ]
    },
    {
     "name": "stdout",
     "output_type": "stream",
     "text": [
      "                   all       1885       5692      0.924        0.9      0.934      0.787\n",
      "                     0       1848       5655      0.901      0.819      0.874      0.586\n",
      "                     1         37         37      0.948      0.981      0.994      0.987\n",
      "Speed: 0.1ms preprocess, 2.7ms inference, 0.0ms loss, 0.9ms postprocess per image\n",
      "Results saved to \u001b[1mYOLO_weights/face-detection-5output\u001b[0m\n"
     ]
    },
    {
     "data": {
      "text/plain": [
       "ultralytics.utils.metrics.DetMetrics object with attributes:\n",
       "\n",
       "ap_class_index: array([0, 1])\n",
       "box: ultralytics.utils.metrics.Metric object\n",
       "confusion_matrix: <ultralytics.utils.metrics.ConfusionMatrix object at 0x7f5200610c70>\n",
       "curves: ['Precision-Recall(B)', 'F1-Confidence(B)', 'Precision-Confidence(B)', 'Recall-Confidence(B)']\n",
       "curves_results: [[array([          0,    0.001001,    0.002002,    0.003003,    0.004004,    0.005005,    0.006006,    0.007007,    0.008008,    0.009009,     0.01001,    0.011011,    0.012012,    0.013013,    0.014014,    0.015015,    0.016016,    0.017017,    0.018018,    0.019019,     0.02002,    0.021021,    0.022022,    0.023023,\n",
       "          0.024024,    0.025025,    0.026026,    0.027027,    0.028028,    0.029029,     0.03003,    0.031031,    0.032032,    0.033033,    0.034034,    0.035035,    0.036036,    0.037037,    0.038038,    0.039039,     0.04004,    0.041041,    0.042042,    0.043043,    0.044044,    0.045045,    0.046046,    0.047047,\n",
       "          0.048048,    0.049049,     0.05005,    0.051051,    0.052052,    0.053053,    0.054054,    0.055055,    0.056056,    0.057057,    0.058058,    0.059059,     0.06006,    0.061061,    0.062062,    0.063063,    0.064064,    0.065065,    0.066066,    0.067067,    0.068068,    0.069069,     0.07007,    0.071071,\n",
       "          0.072072,    0.073073,    0.074074,    0.075075,    0.076076,    0.077077,    0.078078,    0.079079,     0.08008,    0.081081,    0.082082,    0.083083,    0.084084,    0.085085,    0.086086,    0.087087,    0.088088,    0.089089,     0.09009,    0.091091,    0.092092,    0.093093,    0.094094,    0.095095,\n",
       "          0.096096,    0.097097,    0.098098,    0.099099,      0.1001,      0.1011,      0.1021,      0.1031,      0.1041,     0.10511,     0.10611,     0.10711,     0.10811,     0.10911,     0.11011,     0.11111,     0.11211,     0.11311,     0.11411,     0.11512,     0.11612,     0.11712,     0.11812,     0.11912,\n",
       "           0.12012,     0.12112,     0.12212,     0.12312,     0.12412,     0.12513,     0.12613,     0.12713,     0.12813,     0.12913,     0.13013,     0.13113,     0.13213,     0.13313,     0.13413,     0.13514,     0.13614,     0.13714,     0.13814,     0.13914,     0.14014,     0.14114,     0.14214,     0.14314,\n",
       "           0.14414,     0.14515,     0.14615,     0.14715,     0.14815,     0.14915,     0.15015,     0.15115,     0.15215,     0.15315,     0.15415,     0.15516,     0.15616,     0.15716,     0.15816,     0.15916,     0.16016,     0.16116,     0.16216,     0.16316,     0.16416,     0.16517,     0.16617,     0.16717,\n",
       "           0.16817,     0.16917,     0.17017,     0.17117,     0.17217,     0.17317,     0.17417,     0.17518,     0.17618,     0.17718,     0.17818,     0.17918,     0.18018,     0.18118,     0.18218,     0.18318,     0.18418,     0.18519,     0.18619,     0.18719,     0.18819,     0.18919,     0.19019,     0.19119,\n",
       "           0.19219,     0.19319,     0.19419,      0.1952,      0.1962,      0.1972,      0.1982,      0.1992,      0.2002,      0.2012,      0.2022,      0.2032,      0.2042,     0.20521,     0.20621,     0.20721,     0.20821,     0.20921,     0.21021,     0.21121,     0.21221,     0.21321,     0.21421,     0.21522,\n",
       "           0.21622,     0.21722,     0.21822,     0.21922,     0.22022,     0.22122,     0.22222,     0.22322,     0.22422,     0.22523,     0.22623,     0.22723,     0.22823,     0.22923,     0.23023,     0.23123,     0.23223,     0.23323,     0.23423,     0.23524,     0.23624,     0.23724,     0.23824,     0.23924,\n",
       "           0.24024,     0.24124,     0.24224,     0.24324,     0.24424,     0.24525,     0.24625,     0.24725,     0.24825,     0.24925,     0.25025,     0.25125,     0.25225,     0.25325,     0.25425,     0.25526,     0.25626,     0.25726,     0.25826,     0.25926,     0.26026,     0.26126,     0.26226,     0.26326,\n",
       "           0.26426,     0.26527,     0.26627,     0.26727,     0.26827,     0.26927,     0.27027,     0.27127,     0.27227,     0.27327,     0.27427,     0.27528,     0.27628,     0.27728,     0.27828,     0.27928,     0.28028,     0.28128,     0.28228,     0.28328,     0.28428,     0.28529,     0.28629,     0.28729,\n",
       "           0.28829,     0.28929,     0.29029,     0.29129,     0.29229,     0.29329,     0.29429,      0.2953,      0.2963,      0.2973,      0.2983,      0.2993,      0.3003,      0.3013,      0.3023,      0.3033,      0.3043,     0.30531,     0.30631,     0.30731,     0.30831,     0.30931,     0.31031,     0.31131,\n",
       "           0.31231,     0.31331,     0.31431,     0.31532,     0.31632,     0.31732,     0.31832,     0.31932,     0.32032,     0.32132,     0.32232,     0.32332,     0.32432,     0.32533,     0.32633,     0.32733,     0.32833,     0.32933,     0.33033,     0.33133,     0.33233,     0.33333,     0.33433,     0.33534,\n",
       "           0.33634,     0.33734,     0.33834,     0.33934,     0.34034,     0.34134,     0.34234,     0.34334,     0.34434,     0.34535,     0.34635,     0.34735,     0.34835,     0.34935,     0.35035,     0.35135,     0.35235,     0.35335,     0.35435,     0.35536,     0.35636,     0.35736,     0.35836,     0.35936,\n",
       "           0.36036,     0.36136,     0.36236,     0.36336,     0.36436,     0.36537,     0.36637,     0.36737,     0.36837,     0.36937,     0.37037,     0.37137,     0.37237,     0.37337,     0.37437,     0.37538,     0.37638,     0.37738,     0.37838,     0.37938,     0.38038,     0.38138,     0.38238,     0.38338,\n",
       "           0.38438,     0.38539,     0.38639,     0.38739,     0.38839,     0.38939,     0.39039,     0.39139,     0.39239,     0.39339,     0.39439,      0.3954,      0.3964,      0.3974,      0.3984,      0.3994,      0.4004,      0.4014,      0.4024,      0.4034,      0.4044,     0.40541,     0.40641,     0.40741,\n",
       "           0.40841,     0.40941,     0.41041,     0.41141,     0.41241,     0.41341,     0.41441,     0.41542,     0.41642,     0.41742,     0.41842,     0.41942,     0.42042,     0.42142,     0.42242,     0.42342,     0.42442,     0.42543,     0.42643,     0.42743,     0.42843,     0.42943,     0.43043,     0.43143,\n",
       "           0.43243,     0.43343,     0.43443,     0.43544,     0.43644,     0.43744,     0.43844,     0.43944,     0.44044,     0.44144,     0.44244,     0.44344,     0.44444,     0.44545,     0.44645,     0.44745,     0.44845,     0.44945,     0.45045,     0.45145,     0.45245,     0.45345,     0.45445,     0.45546,\n",
       "           0.45646,     0.45746,     0.45846,     0.45946,     0.46046,     0.46146,     0.46246,     0.46346,     0.46446,     0.46547,     0.46647,     0.46747,     0.46847,     0.46947,     0.47047,     0.47147,     0.47247,     0.47347,     0.47447,     0.47548,     0.47648,     0.47748,     0.47848,     0.47948,\n",
       "           0.48048,     0.48148,     0.48248,     0.48348,     0.48448,     0.48549,     0.48649,     0.48749,     0.48849,     0.48949,     0.49049,     0.49149,     0.49249,     0.49349,     0.49449,      0.4955,      0.4965,      0.4975,      0.4985,      0.4995,      0.5005,      0.5015,      0.5025,      0.5035,\n",
       "            0.5045,     0.50551,     0.50651,     0.50751,     0.50851,     0.50951,     0.51051,     0.51151,     0.51251,     0.51351,     0.51451,     0.51552,     0.51652,     0.51752,     0.51852,     0.51952,     0.52052,     0.52152,     0.52252,     0.52352,     0.52452,     0.52553,     0.52653,     0.52753,\n",
       "           0.52853,     0.52953,     0.53053,     0.53153,     0.53253,     0.53353,     0.53453,     0.53554,     0.53654,     0.53754,     0.53854,     0.53954,     0.54054,     0.54154,     0.54254,     0.54354,     0.54454,     0.54555,     0.54655,     0.54755,     0.54855,     0.54955,     0.55055,     0.55155,\n",
       "           0.55255,     0.55355,     0.55455,     0.55556,     0.55656,     0.55756,     0.55856,     0.55956,     0.56056,     0.56156,     0.56256,     0.56356,     0.56456,     0.56557,     0.56657,     0.56757,     0.56857,     0.56957,     0.57057,     0.57157,     0.57257,     0.57357,     0.57457,     0.57558,\n",
       "           0.57658,     0.57758,     0.57858,     0.57958,     0.58058,     0.58158,     0.58258,     0.58358,     0.58458,     0.58559,     0.58659,     0.58759,     0.58859,     0.58959,     0.59059,     0.59159,     0.59259,     0.59359,     0.59459,      0.5956,      0.5966,      0.5976,      0.5986,      0.5996,\n",
       "            0.6006,      0.6016,      0.6026,      0.6036,      0.6046,     0.60561,     0.60661,     0.60761,     0.60861,     0.60961,     0.61061,     0.61161,     0.61261,     0.61361,     0.61461,     0.61562,     0.61662,     0.61762,     0.61862,     0.61962,     0.62062,     0.62162,     0.62262,     0.62362,\n",
       "           0.62462,     0.62563,     0.62663,     0.62763,     0.62863,     0.62963,     0.63063,     0.63163,     0.63263,     0.63363,     0.63463,     0.63564,     0.63664,     0.63764,     0.63864,     0.63964,     0.64064,     0.64164,     0.64264,     0.64364,     0.64464,     0.64565,     0.64665,     0.64765,\n",
       "           0.64865,     0.64965,     0.65065,     0.65165,     0.65265,     0.65365,     0.65465,     0.65566,     0.65666,     0.65766,     0.65866,     0.65966,     0.66066,     0.66166,     0.66266,     0.66366,     0.66466,     0.66567,     0.66667,     0.66767,     0.66867,     0.66967,     0.67067,     0.67167,\n",
       "           0.67267,     0.67367,     0.67467,     0.67568,     0.67668,     0.67768,     0.67868,     0.67968,     0.68068,     0.68168,     0.68268,     0.68368,     0.68468,     0.68569,     0.68669,     0.68769,     0.68869,     0.68969,     0.69069,     0.69169,     0.69269,     0.69369,     0.69469,      0.6957,\n",
       "            0.6967,      0.6977,      0.6987,      0.6997,      0.7007,      0.7017,      0.7027,      0.7037,      0.7047,     0.70571,     0.70671,     0.70771,     0.70871,     0.70971,     0.71071,     0.71171,     0.71271,     0.71371,     0.71471,     0.71572,     0.71672,     0.71772,     0.71872,     0.71972,\n",
       "           0.72072,     0.72172,     0.72272,     0.72372,     0.72472,     0.72573,     0.72673,     0.72773,     0.72873,     0.72973,     0.73073,     0.73173,     0.73273,     0.73373,     0.73473,     0.73574,     0.73674,     0.73774,     0.73874,     0.73974,     0.74074,     0.74174,     0.74274,     0.74374,\n",
       "           0.74474,     0.74575,     0.74675,     0.74775,     0.74875,     0.74975,     0.75075,     0.75175,     0.75275,     0.75375,     0.75475,     0.75576,     0.75676,     0.75776,     0.75876,     0.75976,     0.76076,     0.76176,     0.76276,     0.76376,     0.76476,     0.76577,     0.76677,     0.76777,\n",
       "           0.76877,     0.76977,     0.77077,     0.77177,     0.77277,     0.77377,     0.77477,     0.77578,     0.77678,     0.77778,     0.77878,     0.77978,     0.78078,     0.78178,     0.78278,     0.78378,     0.78478,     0.78579,     0.78679,     0.78779,     0.78879,     0.78979,     0.79079,     0.79179,\n",
       "           0.79279,     0.79379,     0.79479,      0.7958,      0.7968,      0.7978,      0.7988,      0.7998,      0.8008,      0.8018,      0.8028,      0.8038,      0.8048,     0.80581,     0.80681,     0.80781,     0.80881,     0.80981,     0.81081,     0.81181,     0.81281,     0.81381,     0.81481,     0.81582,\n",
       "           0.81682,     0.81782,     0.81882,     0.81982,     0.82082,     0.82182,     0.82282,     0.82382,     0.82482,     0.82583,     0.82683,     0.82783,     0.82883,     0.82983,     0.83083,     0.83183,     0.83283,     0.83383,     0.83483,     0.83584,     0.83684,     0.83784,     0.83884,     0.83984,\n",
       "           0.84084,     0.84184,     0.84284,     0.84384,     0.84484,     0.84585,     0.84685,     0.84785,     0.84885,     0.84985,     0.85085,     0.85185,     0.85285,     0.85385,     0.85485,     0.85586,     0.85686,     0.85786,     0.85886,     0.85986,     0.86086,     0.86186,     0.86286,     0.86386,\n",
       "           0.86486,     0.86587,     0.86687,     0.86787,     0.86887,     0.86987,     0.87087,     0.87187,     0.87287,     0.87387,     0.87487,     0.87588,     0.87688,     0.87788,     0.87888,     0.87988,     0.88088,     0.88188,     0.88288,     0.88388,     0.88488,     0.88589,     0.88689,     0.88789,\n",
       "           0.88889,     0.88989,     0.89089,     0.89189,     0.89289,     0.89389,     0.89489,      0.8959,      0.8969,      0.8979,      0.8989,      0.8999,      0.9009,      0.9019,      0.9029,      0.9039,      0.9049,     0.90591,     0.90691,     0.90791,     0.90891,     0.90991,     0.91091,     0.91191,\n",
       "           0.91291,     0.91391,     0.91491,     0.91592,     0.91692,     0.91792,     0.91892,     0.91992,     0.92092,     0.92192,     0.92292,     0.92392,     0.92492,     0.92593,     0.92693,     0.92793,     0.92893,     0.92993,     0.93093,     0.93193,     0.93293,     0.93393,     0.93493,     0.93594,\n",
       "           0.93694,     0.93794,     0.93894,     0.93994,     0.94094,     0.94194,     0.94294,     0.94394,     0.94494,     0.94595,     0.94695,     0.94795,     0.94895,     0.94995,     0.95095,     0.95195,     0.95295,     0.95395,     0.95495,     0.95596,     0.95696,     0.95796,     0.95896,     0.95996,\n",
       "           0.96096,     0.96196,     0.96296,     0.96396,     0.96496,     0.96597,     0.96697,     0.96797,     0.96897,     0.96997,     0.97097,     0.97197,     0.97297,     0.97397,     0.97497,     0.97598,     0.97698,     0.97798,     0.97898,     0.97998,     0.98098,     0.98198,     0.98298,     0.98398,\n",
       "           0.98498,     0.98599,     0.98699,     0.98799,     0.98899,     0.98999,     0.99099,     0.99199,     0.99299,     0.99399,     0.99499,       0.996,       0.997,       0.998,       0.999,           1]), array([[          1,           1,           1, ...,   0.0032706,   0.0016353,           0],\n",
       "       [          1,           1,           1, ...,     0.94872,     0.94872,           0]]), 'Recall', 'Precision'], [array([          0,    0.001001,    0.002002,    0.003003,    0.004004,    0.005005,    0.006006,    0.007007,    0.008008,    0.009009,     0.01001,    0.011011,    0.012012,    0.013013,    0.014014,    0.015015,    0.016016,    0.017017,    0.018018,    0.019019,     0.02002,    0.021021,    0.022022,    0.023023,\n",
       "          0.024024,    0.025025,    0.026026,    0.027027,    0.028028,    0.029029,     0.03003,    0.031031,    0.032032,    0.033033,    0.034034,    0.035035,    0.036036,    0.037037,    0.038038,    0.039039,     0.04004,    0.041041,    0.042042,    0.043043,    0.044044,    0.045045,    0.046046,    0.047047,\n",
       "          0.048048,    0.049049,     0.05005,    0.051051,    0.052052,    0.053053,    0.054054,    0.055055,    0.056056,    0.057057,    0.058058,    0.059059,     0.06006,    0.061061,    0.062062,    0.063063,    0.064064,    0.065065,    0.066066,    0.067067,    0.068068,    0.069069,     0.07007,    0.071071,\n",
       "          0.072072,    0.073073,    0.074074,    0.075075,    0.076076,    0.077077,    0.078078,    0.079079,     0.08008,    0.081081,    0.082082,    0.083083,    0.084084,    0.085085,    0.086086,    0.087087,    0.088088,    0.089089,     0.09009,    0.091091,    0.092092,    0.093093,    0.094094,    0.095095,\n",
       "          0.096096,    0.097097,    0.098098,    0.099099,      0.1001,      0.1011,      0.1021,      0.1031,      0.1041,     0.10511,     0.10611,     0.10711,     0.10811,     0.10911,     0.11011,     0.11111,     0.11211,     0.11311,     0.11411,     0.11512,     0.11612,     0.11712,     0.11812,     0.11912,\n",
       "           0.12012,     0.12112,     0.12212,     0.12312,     0.12412,     0.12513,     0.12613,     0.12713,     0.12813,     0.12913,     0.13013,     0.13113,     0.13213,     0.13313,     0.13413,     0.13514,     0.13614,     0.13714,     0.13814,     0.13914,     0.14014,     0.14114,     0.14214,     0.14314,\n",
       "           0.14414,     0.14515,     0.14615,     0.14715,     0.14815,     0.14915,     0.15015,     0.15115,     0.15215,     0.15315,     0.15415,     0.15516,     0.15616,     0.15716,     0.15816,     0.15916,     0.16016,     0.16116,     0.16216,     0.16316,     0.16416,     0.16517,     0.16617,     0.16717,\n",
       "           0.16817,     0.16917,     0.17017,     0.17117,     0.17217,     0.17317,     0.17417,     0.17518,     0.17618,     0.17718,     0.17818,     0.17918,     0.18018,     0.18118,     0.18218,     0.18318,     0.18418,     0.18519,     0.18619,     0.18719,     0.18819,     0.18919,     0.19019,     0.19119,\n",
       "           0.19219,     0.19319,     0.19419,      0.1952,      0.1962,      0.1972,      0.1982,      0.1992,      0.2002,      0.2012,      0.2022,      0.2032,      0.2042,     0.20521,     0.20621,     0.20721,     0.20821,     0.20921,     0.21021,     0.21121,     0.21221,     0.21321,     0.21421,     0.21522,\n",
       "           0.21622,     0.21722,     0.21822,     0.21922,     0.22022,     0.22122,     0.22222,     0.22322,     0.22422,     0.22523,     0.22623,     0.22723,     0.22823,     0.22923,     0.23023,     0.23123,     0.23223,     0.23323,     0.23423,     0.23524,     0.23624,     0.23724,     0.23824,     0.23924,\n",
       "           0.24024,     0.24124,     0.24224,     0.24324,     0.24424,     0.24525,     0.24625,     0.24725,     0.24825,     0.24925,     0.25025,     0.25125,     0.25225,     0.25325,     0.25425,     0.25526,     0.25626,     0.25726,     0.25826,     0.25926,     0.26026,     0.26126,     0.26226,     0.26326,\n",
       "           0.26426,     0.26527,     0.26627,     0.26727,     0.26827,     0.26927,     0.27027,     0.27127,     0.27227,     0.27327,     0.27427,     0.27528,     0.27628,     0.27728,     0.27828,     0.27928,     0.28028,     0.28128,     0.28228,     0.28328,     0.28428,     0.28529,     0.28629,     0.28729,\n",
       "           0.28829,     0.28929,     0.29029,     0.29129,     0.29229,     0.29329,     0.29429,      0.2953,      0.2963,      0.2973,      0.2983,      0.2993,      0.3003,      0.3013,      0.3023,      0.3033,      0.3043,     0.30531,     0.30631,     0.30731,     0.30831,     0.30931,     0.31031,     0.31131,\n",
       "           0.31231,     0.31331,     0.31431,     0.31532,     0.31632,     0.31732,     0.31832,     0.31932,     0.32032,     0.32132,     0.32232,     0.32332,     0.32432,     0.32533,     0.32633,     0.32733,     0.32833,     0.32933,     0.33033,     0.33133,     0.33233,     0.33333,     0.33433,     0.33534,\n",
       "           0.33634,     0.33734,     0.33834,     0.33934,     0.34034,     0.34134,     0.34234,     0.34334,     0.34434,     0.34535,     0.34635,     0.34735,     0.34835,     0.34935,     0.35035,     0.35135,     0.35235,     0.35335,     0.35435,     0.35536,     0.35636,     0.35736,     0.35836,     0.35936,\n",
       "           0.36036,     0.36136,     0.36236,     0.36336,     0.36436,     0.36537,     0.36637,     0.36737,     0.36837,     0.36937,     0.37037,     0.37137,     0.37237,     0.37337,     0.37437,     0.37538,     0.37638,     0.37738,     0.37838,     0.37938,     0.38038,     0.38138,     0.38238,     0.38338,\n",
       "           0.38438,     0.38539,     0.38639,     0.38739,     0.38839,     0.38939,     0.39039,     0.39139,     0.39239,     0.39339,     0.39439,      0.3954,      0.3964,      0.3974,      0.3984,      0.3994,      0.4004,      0.4014,      0.4024,      0.4034,      0.4044,     0.40541,     0.40641,     0.40741,\n",
       "           0.40841,     0.40941,     0.41041,     0.41141,     0.41241,     0.41341,     0.41441,     0.41542,     0.41642,     0.41742,     0.41842,     0.41942,     0.42042,     0.42142,     0.42242,     0.42342,     0.42442,     0.42543,     0.42643,     0.42743,     0.42843,     0.42943,     0.43043,     0.43143,\n",
       "           0.43243,     0.43343,     0.43443,     0.43544,     0.43644,     0.43744,     0.43844,     0.43944,     0.44044,     0.44144,     0.44244,     0.44344,     0.44444,     0.44545,     0.44645,     0.44745,     0.44845,     0.44945,     0.45045,     0.45145,     0.45245,     0.45345,     0.45445,     0.45546,\n",
       "           0.45646,     0.45746,     0.45846,     0.45946,     0.46046,     0.46146,     0.46246,     0.46346,     0.46446,     0.46547,     0.46647,     0.46747,     0.46847,     0.46947,     0.47047,     0.47147,     0.47247,     0.47347,     0.47447,     0.47548,     0.47648,     0.47748,     0.47848,     0.47948,\n",
       "           0.48048,     0.48148,     0.48248,     0.48348,     0.48448,     0.48549,     0.48649,     0.48749,     0.48849,     0.48949,     0.49049,     0.49149,     0.49249,     0.49349,     0.49449,      0.4955,      0.4965,      0.4975,      0.4985,      0.4995,      0.5005,      0.5015,      0.5025,      0.5035,\n",
       "            0.5045,     0.50551,     0.50651,     0.50751,     0.50851,     0.50951,     0.51051,     0.51151,     0.51251,     0.51351,     0.51451,     0.51552,     0.51652,     0.51752,     0.51852,     0.51952,     0.52052,     0.52152,     0.52252,     0.52352,     0.52452,     0.52553,     0.52653,     0.52753,\n",
       "           0.52853,     0.52953,     0.53053,     0.53153,     0.53253,     0.53353,     0.53453,     0.53554,     0.53654,     0.53754,     0.53854,     0.53954,     0.54054,     0.54154,     0.54254,     0.54354,     0.54454,     0.54555,     0.54655,     0.54755,     0.54855,     0.54955,     0.55055,     0.55155,\n",
       "           0.55255,     0.55355,     0.55455,     0.55556,     0.55656,     0.55756,     0.55856,     0.55956,     0.56056,     0.56156,     0.56256,     0.56356,     0.56456,     0.56557,     0.56657,     0.56757,     0.56857,     0.56957,     0.57057,     0.57157,     0.57257,     0.57357,     0.57457,     0.57558,\n",
       "           0.57658,     0.57758,     0.57858,     0.57958,     0.58058,     0.58158,     0.58258,     0.58358,     0.58458,     0.58559,     0.58659,     0.58759,     0.58859,     0.58959,     0.59059,     0.59159,     0.59259,     0.59359,     0.59459,      0.5956,      0.5966,      0.5976,      0.5986,      0.5996,\n",
       "            0.6006,      0.6016,      0.6026,      0.6036,      0.6046,     0.60561,     0.60661,     0.60761,     0.60861,     0.60961,     0.61061,     0.61161,     0.61261,     0.61361,     0.61461,     0.61562,     0.61662,     0.61762,     0.61862,     0.61962,     0.62062,     0.62162,     0.62262,     0.62362,\n",
       "           0.62462,     0.62563,     0.62663,     0.62763,     0.62863,     0.62963,     0.63063,     0.63163,     0.63263,     0.63363,     0.63463,     0.63564,     0.63664,     0.63764,     0.63864,     0.63964,     0.64064,     0.64164,     0.64264,     0.64364,     0.64464,     0.64565,     0.64665,     0.64765,\n",
       "           0.64865,     0.64965,     0.65065,     0.65165,     0.65265,     0.65365,     0.65465,     0.65566,     0.65666,     0.65766,     0.65866,     0.65966,     0.66066,     0.66166,     0.66266,     0.66366,     0.66466,     0.66567,     0.66667,     0.66767,     0.66867,     0.66967,     0.67067,     0.67167,\n",
       "           0.67267,     0.67367,     0.67467,     0.67568,     0.67668,     0.67768,     0.67868,     0.67968,     0.68068,     0.68168,     0.68268,     0.68368,     0.68468,     0.68569,     0.68669,     0.68769,     0.68869,     0.68969,     0.69069,     0.69169,     0.69269,     0.69369,     0.69469,      0.6957,\n",
       "            0.6967,      0.6977,      0.6987,      0.6997,      0.7007,      0.7017,      0.7027,      0.7037,      0.7047,     0.70571,     0.70671,     0.70771,     0.70871,     0.70971,     0.71071,     0.71171,     0.71271,     0.71371,     0.71471,     0.71572,     0.71672,     0.71772,     0.71872,     0.71972,\n",
       "           0.72072,     0.72172,     0.72272,     0.72372,     0.72472,     0.72573,     0.72673,     0.72773,     0.72873,     0.72973,     0.73073,     0.73173,     0.73273,     0.73373,     0.73473,     0.73574,     0.73674,     0.73774,     0.73874,     0.73974,     0.74074,     0.74174,     0.74274,     0.74374,\n",
       "           0.74474,     0.74575,     0.74675,     0.74775,     0.74875,     0.74975,     0.75075,     0.75175,     0.75275,     0.75375,     0.75475,     0.75576,     0.75676,     0.75776,     0.75876,     0.75976,     0.76076,     0.76176,     0.76276,     0.76376,     0.76476,     0.76577,     0.76677,     0.76777,\n",
       "           0.76877,     0.76977,     0.77077,     0.77177,     0.77277,     0.77377,     0.77477,     0.77578,     0.77678,     0.77778,     0.77878,     0.77978,     0.78078,     0.78178,     0.78278,     0.78378,     0.78478,     0.78579,     0.78679,     0.78779,     0.78879,     0.78979,     0.79079,     0.79179,\n",
       "           0.79279,     0.79379,     0.79479,      0.7958,      0.7968,      0.7978,      0.7988,      0.7998,      0.8008,      0.8018,      0.8028,      0.8038,      0.8048,     0.80581,     0.80681,     0.80781,     0.80881,     0.80981,     0.81081,     0.81181,     0.81281,     0.81381,     0.81481,     0.81582,\n",
       "           0.81682,     0.81782,     0.81882,     0.81982,     0.82082,     0.82182,     0.82282,     0.82382,     0.82482,     0.82583,     0.82683,     0.82783,     0.82883,     0.82983,     0.83083,     0.83183,     0.83283,     0.83383,     0.83483,     0.83584,     0.83684,     0.83784,     0.83884,     0.83984,\n",
       "           0.84084,     0.84184,     0.84284,     0.84384,     0.84484,     0.84585,     0.84685,     0.84785,     0.84885,     0.84985,     0.85085,     0.85185,     0.85285,     0.85385,     0.85485,     0.85586,     0.85686,     0.85786,     0.85886,     0.85986,     0.86086,     0.86186,     0.86286,     0.86386,\n",
       "           0.86486,     0.86587,     0.86687,     0.86787,     0.86887,     0.86987,     0.87087,     0.87187,     0.87287,     0.87387,     0.87487,     0.87588,     0.87688,     0.87788,     0.87888,     0.87988,     0.88088,     0.88188,     0.88288,     0.88388,     0.88488,     0.88589,     0.88689,     0.88789,\n",
       "           0.88889,     0.88989,     0.89089,     0.89189,     0.89289,     0.89389,     0.89489,      0.8959,      0.8969,      0.8979,      0.8989,      0.8999,      0.9009,      0.9019,      0.9029,      0.9039,      0.9049,     0.90591,     0.90691,     0.90791,     0.90891,     0.90991,     0.91091,     0.91191,\n",
       "           0.91291,     0.91391,     0.91491,     0.91592,     0.91692,     0.91792,     0.91892,     0.91992,     0.92092,     0.92192,     0.92292,     0.92392,     0.92492,     0.92593,     0.92693,     0.92793,     0.92893,     0.92993,     0.93093,     0.93193,     0.93293,     0.93393,     0.93493,     0.93594,\n",
       "           0.93694,     0.93794,     0.93894,     0.93994,     0.94094,     0.94194,     0.94294,     0.94394,     0.94494,     0.94595,     0.94695,     0.94795,     0.94895,     0.94995,     0.95095,     0.95195,     0.95295,     0.95395,     0.95495,     0.95596,     0.95696,     0.95796,     0.95896,     0.95996,\n",
       "           0.96096,     0.96196,     0.96296,     0.96396,     0.96496,     0.96597,     0.96697,     0.96797,     0.96897,     0.96997,     0.97097,     0.97197,     0.97297,     0.97397,     0.97497,     0.97598,     0.97698,     0.97798,     0.97898,     0.97998,     0.98098,     0.98198,     0.98298,     0.98398,\n",
       "           0.98498,     0.98599,     0.98699,     0.98799,     0.98899,     0.98999,     0.99099,     0.99199,     0.99299,     0.99399,     0.99499,       0.996,       0.997,       0.998,       0.999,           1]), array([[    0.21096,     0.21096,     0.28718, ...,           0,           0,           0],\n",
       "       [    0.82222,     0.82222,     0.88694, ...,           0,           0,           0]]), 'Confidence', 'F1'], [array([          0,    0.001001,    0.002002,    0.003003,    0.004004,    0.005005,    0.006006,    0.007007,    0.008008,    0.009009,     0.01001,    0.011011,    0.012012,    0.013013,    0.014014,    0.015015,    0.016016,    0.017017,    0.018018,    0.019019,     0.02002,    0.021021,    0.022022,    0.023023,\n",
       "          0.024024,    0.025025,    0.026026,    0.027027,    0.028028,    0.029029,     0.03003,    0.031031,    0.032032,    0.033033,    0.034034,    0.035035,    0.036036,    0.037037,    0.038038,    0.039039,     0.04004,    0.041041,    0.042042,    0.043043,    0.044044,    0.045045,    0.046046,    0.047047,\n",
       "          0.048048,    0.049049,     0.05005,    0.051051,    0.052052,    0.053053,    0.054054,    0.055055,    0.056056,    0.057057,    0.058058,    0.059059,     0.06006,    0.061061,    0.062062,    0.063063,    0.064064,    0.065065,    0.066066,    0.067067,    0.068068,    0.069069,     0.07007,    0.071071,\n",
       "          0.072072,    0.073073,    0.074074,    0.075075,    0.076076,    0.077077,    0.078078,    0.079079,     0.08008,    0.081081,    0.082082,    0.083083,    0.084084,    0.085085,    0.086086,    0.087087,    0.088088,    0.089089,     0.09009,    0.091091,    0.092092,    0.093093,    0.094094,    0.095095,\n",
       "          0.096096,    0.097097,    0.098098,    0.099099,      0.1001,      0.1011,      0.1021,      0.1031,      0.1041,     0.10511,     0.10611,     0.10711,     0.10811,     0.10911,     0.11011,     0.11111,     0.11211,     0.11311,     0.11411,     0.11512,     0.11612,     0.11712,     0.11812,     0.11912,\n",
       "           0.12012,     0.12112,     0.12212,     0.12312,     0.12412,     0.12513,     0.12613,     0.12713,     0.12813,     0.12913,     0.13013,     0.13113,     0.13213,     0.13313,     0.13413,     0.13514,     0.13614,     0.13714,     0.13814,     0.13914,     0.14014,     0.14114,     0.14214,     0.14314,\n",
       "           0.14414,     0.14515,     0.14615,     0.14715,     0.14815,     0.14915,     0.15015,     0.15115,     0.15215,     0.15315,     0.15415,     0.15516,     0.15616,     0.15716,     0.15816,     0.15916,     0.16016,     0.16116,     0.16216,     0.16316,     0.16416,     0.16517,     0.16617,     0.16717,\n",
       "           0.16817,     0.16917,     0.17017,     0.17117,     0.17217,     0.17317,     0.17417,     0.17518,     0.17618,     0.17718,     0.17818,     0.17918,     0.18018,     0.18118,     0.18218,     0.18318,     0.18418,     0.18519,     0.18619,     0.18719,     0.18819,     0.18919,     0.19019,     0.19119,\n",
       "           0.19219,     0.19319,     0.19419,      0.1952,      0.1962,      0.1972,      0.1982,      0.1992,      0.2002,      0.2012,      0.2022,      0.2032,      0.2042,     0.20521,     0.20621,     0.20721,     0.20821,     0.20921,     0.21021,     0.21121,     0.21221,     0.21321,     0.21421,     0.21522,\n",
       "           0.21622,     0.21722,     0.21822,     0.21922,     0.22022,     0.22122,     0.22222,     0.22322,     0.22422,     0.22523,     0.22623,     0.22723,     0.22823,     0.22923,     0.23023,     0.23123,     0.23223,     0.23323,     0.23423,     0.23524,     0.23624,     0.23724,     0.23824,     0.23924,\n",
       "           0.24024,     0.24124,     0.24224,     0.24324,     0.24424,     0.24525,     0.24625,     0.24725,     0.24825,     0.24925,     0.25025,     0.25125,     0.25225,     0.25325,     0.25425,     0.25526,     0.25626,     0.25726,     0.25826,     0.25926,     0.26026,     0.26126,     0.26226,     0.26326,\n",
       "           0.26426,     0.26527,     0.26627,     0.26727,     0.26827,     0.26927,     0.27027,     0.27127,     0.27227,     0.27327,     0.27427,     0.27528,     0.27628,     0.27728,     0.27828,     0.27928,     0.28028,     0.28128,     0.28228,     0.28328,     0.28428,     0.28529,     0.28629,     0.28729,\n",
       "           0.28829,     0.28929,     0.29029,     0.29129,     0.29229,     0.29329,     0.29429,      0.2953,      0.2963,      0.2973,      0.2983,      0.2993,      0.3003,      0.3013,      0.3023,      0.3033,      0.3043,     0.30531,     0.30631,     0.30731,     0.30831,     0.30931,     0.31031,     0.31131,\n",
       "           0.31231,     0.31331,     0.31431,     0.31532,     0.31632,     0.31732,     0.31832,     0.31932,     0.32032,     0.32132,     0.32232,     0.32332,     0.32432,     0.32533,     0.32633,     0.32733,     0.32833,     0.32933,     0.33033,     0.33133,     0.33233,     0.33333,     0.33433,     0.33534,\n",
       "           0.33634,     0.33734,     0.33834,     0.33934,     0.34034,     0.34134,     0.34234,     0.34334,     0.34434,     0.34535,     0.34635,     0.34735,     0.34835,     0.34935,     0.35035,     0.35135,     0.35235,     0.35335,     0.35435,     0.35536,     0.35636,     0.35736,     0.35836,     0.35936,\n",
       "           0.36036,     0.36136,     0.36236,     0.36336,     0.36436,     0.36537,     0.36637,     0.36737,     0.36837,     0.36937,     0.37037,     0.37137,     0.37237,     0.37337,     0.37437,     0.37538,     0.37638,     0.37738,     0.37838,     0.37938,     0.38038,     0.38138,     0.38238,     0.38338,\n",
       "           0.38438,     0.38539,     0.38639,     0.38739,     0.38839,     0.38939,     0.39039,     0.39139,     0.39239,     0.39339,     0.39439,      0.3954,      0.3964,      0.3974,      0.3984,      0.3994,      0.4004,      0.4014,      0.4024,      0.4034,      0.4044,     0.40541,     0.40641,     0.40741,\n",
       "           0.40841,     0.40941,     0.41041,     0.41141,     0.41241,     0.41341,     0.41441,     0.41542,     0.41642,     0.41742,     0.41842,     0.41942,     0.42042,     0.42142,     0.42242,     0.42342,     0.42442,     0.42543,     0.42643,     0.42743,     0.42843,     0.42943,     0.43043,     0.43143,\n",
       "           0.43243,     0.43343,     0.43443,     0.43544,     0.43644,     0.43744,     0.43844,     0.43944,     0.44044,     0.44144,     0.44244,     0.44344,     0.44444,     0.44545,     0.44645,     0.44745,     0.44845,     0.44945,     0.45045,     0.45145,     0.45245,     0.45345,     0.45445,     0.45546,\n",
       "           0.45646,     0.45746,     0.45846,     0.45946,     0.46046,     0.46146,     0.46246,     0.46346,     0.46446,     0.46547,     0.46647,     0.46747,     0.46847,     0.46947,     0.47047,     0.47147,     0.47247,     0.47347,     0.47447,     0.47548,     0.47648,     0.47748,     0.47848,     0.47948,\n",
       "           0.48048,     0.48148,     0.48248,     0.48348,     0.48448,     0.48549,     0.48649,     0.48749,     0.48849,     0.48949,     0.49049,     0.49149,     0.49249,     0.49349,     0.49449,      0.4955,      0.4965,      0.4975,      0.4985,      0.4995,      0.5005,      0.5015,      0.5025,      0.5035,\n",
       "            0.5045,     0.50551,     0.50651,     0.50751,     0.50851,     0.50951,     0.51051,     0.51151,     0.51251,     0.51351,     0.51451,     0.51552,     0.51652,     0.51752,     0.51852,     0.51952,     0.52052,     0.52152,     0.52252,     0.52352,     0.52452,     0.52553,     0.52653,     0.52753,\n",
       "           0.52853,     0.52953,     0.53053,     0.53153,     0.53253,     0.53353,     0.53453,     0.53554,     0.53654,     0.53754,     0.53854,     0.53954,     0.54054,     0.54154,     0.54254,     0.54354,     0.54454,     0.54555,     0.54655,     0.54755,     0.54855,     0.54955,     0.55055,     0.55155,\n",
       "           0.55255,     0.55355,     0.55455,     0.55556,     0.55656,     0.55756,     0.55856,     0.55956,     0.56056,     0.56156,     0.56256,     0.56356,     0.56456,     0.56557,     0.56657,     0.56757,     0.56857,     0.56957,     0.57057,     0.57157,     0.57257,     0.57357,     0.57457,     0.57558,\n",
       "           0.57658,     0.57758,     0.57858,     0.57958,     0.58058,     0.58158,     0.58258,     0.58358,     0.58458,     0.58559,     0.58659,     0.58759,     0.58859,     0.58959,     0.59059,     0.59159,     0.59259,     0.59359,     0.59459,      0.5956,      0.5966,      0.5976,      0.5986,      0.5996,\n",
       "            0.6006,      0.6016,      0.6026,      0.6036,      0.6046,     0.60561,     0.60661,     0.60761,     0.60861,     0.60961,     0.61061,     0.61161,     0.61261,     0.61361,     0.61461,     0.61562,     0.61662,     0.61762,     0.61862,     0.61962,     0.62062,     0.62162,     0.62262,     0.62362,\n",
       "           0.62462,     0.62563,     0.62663,     0.62763,     0.62863,     0.62963,     0.63063,     0.63163,     0.63263,     0.63363,     0.63463,     0.63564,     0.63664,     0.63764,     0.63864,     0.63964,     0.64064,     0.64164,     0.64264,     0.64364,     0.64464,     0.64565,     0.64665,     0.64765,\n",
       "           0.64865,     0.64965,     0.65065,     0.65165,     0.65265,     0.65365,     0.65465,     0.65566,     0.65666,     0.65766,     0.65866,     0.65966,     0.66066,     0.66166,     0.66266,     0.66366,     0.66466,     0.66567,     0.66667,     0.66767,     0.66867,     0.66967,     0.67067,     0.67167,\n",
       "           0.67267,     0.67367,     0.67467,     0.67568,     0.67668,     0.67768,     0.67868,     0.67968,     0.68068,     0.68168,     0.68268,     0.68368,     0.68468,     0.68569,     0.68669,     0.68769,     0.68869,     0.68969,     0.69069,     0.69169,     0.69269,     0.69369,     0.69469,      0.6957,\n",
       "            0.6967,      0.6977,      0.6987,      0.6997,      0.7007,      0.7017,      0.7027,      0.7037,      0.7047,     0.70571,     0.70671,     0.70771,     0.70871,     0.70971,     0.71071,     0.71171,     0.71271,     0.71371,     0.71471,     0.71572,     0.71672,     0.71772,     0.71872,     0.71972,\n",
       "           0.72072,     0.72172,     0.72272,     0.72372,     0.72472,     0.72573,     0.72673,     0.72773,     0.72873,     0.72973,     0.73073,     0.73173,     0.73273,     0.73373,     0.73473,     0.73574,     0.73674,     0.73774,     0.73874,     0.73974,     0.74074,     0.74174,     0.74274,     0.74374,\n",
       "           0.74474,     0.74575,     0.74675,     0.74775,     0.74875,     0.74975,     0.75075,     0.75175,     0.75275,     0.75375,     0.75475,     0.75576,     0.75676,     0.75776,     0.75876,     0.75976,     0.76076,     0.76176,     0.76276,     0.76376,     0.76476,     0.76577,     0.76677,     0.76777,\n",
       "           0.76877,     0.76977,     0.77077,     0.77177,     0.77277,     0.77377,     0.77477,     0.77578,     0.77678,     0.77778,     0.77878,     0.77978,     0.78078,     0.78178,     0.78278,     0.78378,     0.78478,     0.78579,     0.78679,     0.78779,     0.78879,     0.78979,     0.79079,     0.79179,\n",
       "           0.79279,     0.79379,     0.79479,      0.7958,      0.7968,      0.7978,      0.7988,      0.7998,      0.8008,      0.8018,      0.8028,      0.8038,      0.8048,     0.80581,     0.80681,     0.80781,     0.80881,     0.80981,     0.81081,     0.81181,     0.81281,     0.81381,     0.81481,     0.81582,\n",
       "           0.81682,     0.81782,     0.81882,     0.81982,     0.82082,     0.82182,     0.82282,     0.82382,     0.82482,     0.82583,     0.82683,     0.82783,     0.82883,     0.82983,     0.83083,     0.83183,     0.83283,     0.83383,     0.83483,     0.83584,     0.83684,     0.83784,     0.83884,     0.83984,\n",
       "           0.84084,     0.84184,     0.84284,     0.84384,     0.84484,     0.84585,     0.84685,     0.84785,     0.84885,     0.84985,     0.85085,     0.85185,     0.85285,     0.85385,     0.85485,     0.85586,     0.85686,     0.85786,     0.85886,     0.85986,     0.86086,     0.86186,     0.86286,     0.86386,\n",
       "           0.86486,     0.86587,     0.86687,     0.86787,     0.86887,     0.86987,     0.87087,     0.87187,     0.87287,     0.87387,     0.87487,     0.87588,     0.87688,     0.87788,     0.87888,     0.87988,     0.88088,     0.88188,     0.88288,     0.88388,     0.88488,     0.88589,     0.88689,     0.88789,\n",
       "           0.88889,     0.88989,     0.89089,     0.89189,     0.89289,     0.89389,     0.89489,      0.8959,      0.8969,      0.8979,      0.8989,      0.8999,      0.9009,      0.9019,      0.9029,      0.9039,      0.9049,     0.90591,     0.90691,     0.90791,     0.90891,     0.90991,     0.91091,     0.91191,\n",
       "           0.91291,     0.91391,     0.91491,     0.91592,     0.91692,     0.91792,     0.91892,     0.91992,     0.92092,     0.92192,     0.92292,     0.92392,     0.92492,     0.92593,     0.92693,     0.92793,     0.92893,     0.92993,     0.93093,     0.93193,     0.93293,     0.93393,     0.93493,     0.93594,\n",
       "           0.93694,     0.93794,     0.93894,     0.93994,     0.94094,     0.94194,     0.94294,     0.94394,     0.94494,     0.94595,     0.94695,     0.94795,     0.94895,     0.94995,     0.95095,     0.95195,     0.95295,     0.95395,     0.95495,     0.95596,     0.95696,     0.95796,     0.95896,     0.95996,\n",
       "           0.96096,     0.96196,     0.96296,     0.96396,     0.96496,     0.96597,     0.96697,     0.96797,     0.96897,     0.96997,     0.97097,     0.97197,     0.97297,     0.97397,     0.97497,     0.97598,     0.97698,     0.97798,     0.97898,     0.97998,     0.98098,     0.98198,     0.98298,     0.98398,\n",
       "           0.98498,     0.98599,     0.98699,     0.98799,     0.98899,     0.98999,     0.99099,     0.99199,     0.99299,     0.99399,     0.99499,       0.996,       0.997,       0.998,       0.999,           1]), array([[    0.11902,     0.11902,     0.17007, ...,           1,           1,           1],\n",
       "       [    0.69811,     0.69811,     0.79685, ...,           1,           1,           1]]), 'Confidence', 'Precision'], [array([          0,    0.001001,    0.002002,    0.003003,    0.004004,    0.005005,    0.006006,    0.007007,    0.008008,    0.009009,     0.01001,    0.011011,    0.012012,    0.013013,    0.014014,    0.015015,    0.016016,    0.017017,    0.018018,    0.019019,     0.02002,    0.021021,    0.022022,    0.023023,\n",
       "          0.024024,    0.025025,    0.026026,    0.027027,    0.028028,    0.029029,     0.03003,    0.031031,    0.032032,    0.033033,    0.034034,    0.035035,    0.036036,    0.037037,    0.038038,    0.039039,     0.04004,    0.041041,    0.042042,    0.043043,    0.044044,    0.045045,    0.046046,    0.047047,\n",
       "          0.048048,    0.049049,     0.05005,    0.051051,    0.052052,    0.053053,    0.054054,    0.055055,    0.056056,    0.057057,    0.058058,    0.059059,     0.06006,    0.061061,    0.062062,    0.063063,    0.064064,    0.065065,    0.066066,    0.067067,    0.068068,    0.069069,     0.07007,    0.071071,\n",
       "          0.072072,    0.073073,    0.074074,    0.075075,    0.076076,    0.077077,    0.078078,    0.079079,     0.08008,    0.081081,    0.082082,    0.083083,    0.084084,    0.085085,    0.086086,    0.087087,    0.088088,    0.089089,     0.09009,    0.091091,    0.092092,    0.093093,    0.094094,    0.095095,\n",
       "          0.096096,    0.097097,    0.098098,    0.099099,      0.1001,      0.1011,      0.1021,      0.1031,      0.1041,     0.10511,     0.10611,     0.10711,     0.10811,     0.10911,     0.11011,     0.11111,     0.11211,     0.11311,     0.11411,     0.11512,     0.11612,     0.11712,     0.11812,     0.11912,\n",
       "           0.12012,     0.12112,     0.12212,     0.12312,     0.12412,     0.12513,     0.12613,     0.12713,     0.12813,     0.12913,     0.13013,     0.13113,     0.13213,     0.13313,     0.13413,     0.13514,     0.13614,     0.13714,     0.13814,     0.13914,     0.14014,     0.14114,     0.14214,     0.14314,\n",
       "           0.14414,     0.14515,     0.14615,     0.14715,     0.14815,     0.14915,     0.15015,     0.15115,     0.15215,     0.15315,     0.15415,     0.15516,     0.15616,     0.15716,     0.15816,     0.15916,     0.16016,     0.16116,     0.16216,     0.16316,     0.16416,     0.16517,     0.16617,     0.16717,\n",
       "           0.16817,     0.16917,     0.17017,     0.17117,     0.17217,     0.17317,     0.17417,     0.17518,     0.17618,     0.17718,     0.17818,     0.17918,     0.18018,     0.18118,     0.18218,     0.18318,     0.18418,     0.18519,     0.18619,     0.18719,     0.18819,     0.18919,     0.19019,     0.19119,\n",
       "           0.19219,     0.19319,     0.19419,      0.1952,      0.1962,      0.1972,      0.1982,      0.1992,      0.2002,      0.2012,      0.2022,      0.2032,      0.2042,     0.20521,     0.20621,     0.20721,     0.20821,     0.20921,     0.21021,     0.21121,     0.21221,     0.21321,     0.21421,     0.21522,\n",
       "           0.21622,     0.21722,     0.21822,     0.21922,     0.22022,     0.22122,     0.22222,     0.22322,     0.22422,     0.22523,     0.22623,     0.22723,     0.22823,     0.22923,     0.23023,     0.23123,     0.23223,     0.23323,     0.23423,     0.23524,     0.23624,     0.23724,     0.23824,     0.23924,\n",
       "           0.24024,     0.24124,     0.24224,     0.24324,     0.24424,     0.24525,     0.24625,     0.24725,     0.24825,     0.24925,     0.25025,     0.25125,     0.25225,     0.25325,     0.25425,     0.25526,     0.25626,     0.25726,     0.25826,     0.25926,     0.26026,     0.26126,     0.26226,     0.26326,\n",
       "           0.26426,     0.26527,     0.26627,     0.26727,     0.26827,     0.26927,     0.27027,     0.27127,     0.27227,     0.27327,     0.27427,     0.27528,     0.27628,     0.27728,     0.27828,     0.27928,     0.28028,     0.28128,     0.28228,     0.28328,     0.28428,     0.28529,     0.28629,     0.28729,\n",
       "           0.28829,     0.28929,     0.29029,     0.29129,     0.29229,     0.29329,     0.29429,      0.2953,      0.2963,      0.2973,      0.2983,      0.2993,      0.3003,      0.3013,      0.3023,      0.3033,      0.3043,     0.30531,     0.30631,     0.30731,     0.30831,     0.30931,     0.31031,     0.31131,\n",
       "           0.31231,     0.31331,     0.31431,     0.31532,     0.31632,     0.31732,     0.31832,     0.31932,     0.32032,     0.32132,     0.32232,     0.32332,     0.32432,     0.32533,     0.32633,     0.32733,     0.32833,     0.32933,     0.33033,     0.33133,     0.33233,     0.33333,     0.33433,     0.33534,\n",
       "           0.33634,     0.33734,     0.33834,     0.33934,     0.34034,     0.34134,     0.34234,     0.34334,     0.34434,     0.34535,     0.34635,     0.34735,     0.34835,     0.34935,     0.35035,     0.35135,     0.35235,     0.35335,     0.35435,     0.35536,     0.35636,     0.35736,     0.35836,     0.35936,\n",
       "           0.36036,     0.36136,     0.36236,     0.36336,     0.36436,     0.36537,     0.36637,     0.36737,     0.36837,     0.36937,     0.37037,     0.37137,     0.37237,     0.37337,     0.37437,     0.37538,     0.37638,     0.37738,     0.37838,     0.37938,     0.38038,     0.38138,     0.38238,     0.38338,\n",
       "           0.38438,     0.38539,     0.38639,     0.38739,     0.38839,     0.38939,     0.39039,     0.39139,     0.39239,     0.39339,     0.39439,      0.3954,      0.3964,      0.3974,      0.3984,      0.3994,      0.4004,      0.4014,      0.4024,      0.4034,      0.4044,     0.40541,     0.40641,     0.40741,\n",
       "           0.40841,     0.40941,     0.41041,     0.41141,     0.41241,     0.41341,     0.41441,     0.41542,     0.41642,     0.41742,     0.41842,     0.41942,     0.42042,     0.42142,     0.42242,     0.42342,     0.42442,     0.42543,     0.42643,     0.42743,     0.42843,     0.42943,     0.43043,     0.43143,\n",
       "           0.43243,     0.43343,     0.43443,     0.43544,     0.43644,     0.43744,     0.43844,     0.43944,     0.44044,     0.44144,     0.44244,     0.44344,     0.44444,     0.44545,     0.44645,     0.44745,     0.44845,     0.44945,     0.45045,     0.45145,     0.45245,     0.45345,     0.45445,     0.45546,\n",
       "           0.45646,     0.45746,     0.45846,     0.45946,     0.46046,     0.46146,     0.46246,     0.46346,     0.46446,     0.46547,     0.46647,     0.46747,     0.46847,     0.46947,     0.47047,     0.47147,     0.47247,     0.47347,     0.47447,     0.47548,     0.47648,     0.47748,     0.47848,     0.47948,\n",
       "           0.48048,     0.48148,     0.48248,     0.48348,     0.48448,     0.48549,     0.48649,     0.48749,     0.48849,     0.48949,     0.49049,     0.49149,     0.49249,     0.49349,     0.49449,      0.4955,      0.4965,      0.4975,      0.4985,      0.4995,      0.5005,      0.5015,      0.5025,      0.5035,\n",
       "            0.5045,     0.50551,     0.50651,     0.50751,     0.50851,     0.50951,     0.51051,     0.51151,     0.51251,     0.51351,     0.51451,     0.51552,     0.51652,     0.51752,     0.51852,     0.51952,     0.52052,     0.52152,     0.52252,     0.52352,     0.52452,     0.52553,     0.52653,     0.52753,\n",
       "           0.52853,     0.52953,     0.53053,     0.53153,     0.53253,     0.53353,     0.53453,     0.53554,     0.53654,     0.53754,     0.53854,     0.53954,     0.54054,     0.54154,     0.54254,     0.54354,     0.54454,     0.54555,     0.54655,     0.54755,     0.54855,     0.54955,     0.55055,     0.55155,\n",
       "           0.55255,     0.55355,     0.55455,     0.55556,     0.55656,     0.55756,     0.55856,     0.55956,     0.56056,     0.56156,     0.56256,     0.56356,     0.56456,     0.56557,     0.56657,     0.56757,     0.56857,     0.56957,     0.57057,     0.57157,     0.57257,     0.57357,     0.57457,     0.57558,\n",
       "           0.57658,     0.57758,     0.57858,     0.57958,     0.58058,     0.58158,     0.58258,     0.58358,     0.58458,     0.58559,     0.58659,     0.58759,     0.58859,     0.58959,     0.59059,     0.59159,     0.59259,     0.59359,     0.59459,      0.5956,      0.5966,      0.5976,      0.5986,      0.5996,\n",
       "            0.6006,      0.6016,      0.6026,      0.6036,      0.6046,     0.60561,     0.60661,     0.60761,     0.60861,     0.60961,     0.61061,     0.61161,     0.61261,     0.61361,     0.61461,     0.61562,     0.61662,     0.61762,     0.61862,     0.61962,     0.62062,     0.62162,     0.62262,     0.62362,\n",
       "           0.62462,     0.62563,     0.62663,     0.62763,     0.62863,     0.62963,     0.63063,     0.63163,     0.63263,     0.63363,     0.63463,     0.63564,     0.63664,     0.63764,     0.63864,     0.63964,     0.64064,     0.64164,     0.64264,     0.64364,     0.64464,     0.64565,     0.64665,     0.64765,\n",
       "           0.64865,     0.64965,     0.65065,     0.65165,     0.65265,     0.65365,     0.65465,     0.65566,     0.65666,     0.65766,     0.65866,     0.65966,     0.66066,     0.66166,     0.66266,     0.66366,     0.66466,     0.66567,     0.66667,     0.66767,     0.66867,     0.66967,     0.67067,     0.67167,\n",
       "           0.67267,     0.67367,     0.67467,     0.67568,     0.67668,     0.67768,     0.67868,     0.67968,     0.68068,     0.68168,     0.68268,     0.68368,     0.68468,     0.68569,     0.68669,     0.68769,     0.68869,     0.68969,     0.69069,     0.69169,     0.69269,     0.69369,     0.69469,      0.6957,\n",
       "            0.6967,      0.6977,      0.6987,      0.6997,      0.7007,      0.7017,      0.7027,      0.7037,      0.7047,     0.70571,     0.70671,     0.70771,     0.70871,     0.70971,     0.71071,     0.71171,     0.71271,     0.71371,     0.71471,     0.71572,     0.71672,     0.71772,     0.71872,     0.71972,\n",
       "           0.72072,     0.72172,     0.72272,     0.72372,     0.72472,     0.72573,     0.72673,     0.72773,     0.72873,     0.72973,     0.73073,     0.73173,     0.73273,     0.73373,     0.73473,     0.73574,     0.73674,     0.73774,     0.73874,     0.73974,     0.74074,     0.74174,     0.74274,     0.74374,\n",
       "           0.74474,     0.74575,     0.74675,     0.74775,     0.74875,     0.74975,     0.75075,     0.75175,     0.75275,     0.75375,     0.75475,     0.75576,     0.75676,     0.75776,     0.75876,     0.75976,     0.76076,     0.76176,     0.76276,     0.76376,     0.76476,     0.76577,     0.76677,     0.76777,\n",
       "           0.76877,     0.76977,     0.77077,     0.77177,     0.77277,     0.77377,     0.77477,     0.77578,     0.77678,     0.77778,     0.77878,     0.77978,     0.78078,     0.78178,     0.78278,     0.78378,     0.78478,     0.78579,     0.78679,     0.78779,     0.78879,     0.78979,     0.79079,     0.79179,\n",
       "           0.79279,     0.79379,     0.79479,      0.7958,      0.7968,      0.7978,      0.7988,      0.7998,      0.8008,      0.8018,      0.8028,      0.8038,      0.8048,     0.80581,     0.80681,     0.80781,     0.80881,     0.80981,     0.81081,     0.81181,     0.81281,     0.81381,     0.81481,     0.81582,\n",
       "           0.81682,     0.81782,     0.81882,     0.81982,     0.82082,     0.82182,     0.82282,     0.82382,     0.82482,     0.82583,     0.82683,     0.82783,     0.82883,     0.82983,     0.83083,     0.83183,     0.83283,     0.83383,     0.83483,     0.83584,     0.83684,     0.83784,     0.83884,     0.83984,\n",
       "           0.84084,     0.84184,     0.84284,     0.84384,     0.84484,     0.84585,     0.84685,     0.84785,     0.84885,     0.84985,     0.85085,     0.85185,     0.85285,     0.85385,     0.85485,     0.85586,     0.85686,     0.85786,     0.85886,     0.85986,     0.86086,     0.86186,     0.86286,     0.86386,\n",
       "           0.86486,     0.86587,     0.86687,     0.86787,     0.86887,     0.86987,     0.87087,     0.87187,     0.87287,     0.87387,     0.87487,     0.87588,     0.87688,     0.87788,     0.87888,     0.87988,     0.88088,     0.88188,     0.88288,     0.88388,     0.88488,     0.88589,     0.88689,     0.88789,\n",
       "           0.88889,     0.88989,     0.89089,     0.89189,     0.89289,     0.89389,     0.89489,      0.8959,      0.8969,      0.8979,      0.8989,      0.8999,      0.9009,      0.9019,      0.9029,      0.9039,      0.9049,     0.90591,     0.90691,     0.90791,     0.90891,     0.90991,     0.91091,     0.91191,\n",
       "           0.91291,     0.91391,     0.91491,     0.91592,     0.91692,     0.91792,     0.91892,     0.91992,     0.92092,     0.92192,     0.92292,     0.92392,     0.92492,     0.92593,     0.92693,     0.92793,     0.92893,     0.92993,     0.93093,     0.93193,     0.93293,     0.93393,     0.93493,     0.93594,\n",
       "           0.93694,     0.93794,     0.93894,     0.93994,     0.94094,     0.94194,     0.94294,     0.94394,     0.94494,     0.94595,     0.94695,     0.94795,     0.94895,     0.94995,     0.95095,     0.95195,     0.95295,     0.95395,     0.95495,     0.95596,     0.95696,     0.95796,     0.95896,     0.95996,\n",
       "           0.96096,     0.96196,     0.96296,     0.96396,     0.96496,     0.96597,     0.96697,     0.96797,     0.96897,     0.96997,     0.97097,     0.97197,     0.97297,     0.97397,     0.97497,     0.97598,     0.97698,     0.97798,     0.97898,     0.97998,     0.98098,     0.98198,     0.98298,     0.98398,\n",
       "           0.98498,     0.98599,     0.98699,     0.98799,     0.98899,     0.98999,     0.99099,     0.99199,     0.99299,     0.99399,     0.99499,       0.996,       0.997,       0.998,       0.999,           1]), array([[    0.92714,     0.92714,     0.92219, ...,           0,           0,           0],\n",
       "       [          1,           1,           1, ...,           0,           0,           0]]), 'Confidence', 'Recall']]\n",
       "fitness: 0.8012965122049909\n",
       "keys: ['metrics/precision(B)', 'metrics/recall(B)', 'metrics/mAP50(B)', 'metrics/mAP50-95(B)']\n",
       "maps: array([    0.58637,     0.98669])\n",
       "names: {0: '0', 1: '1'}\n",
       "plot: True\n",
       "results_dict: {'metrics/precision(B)': 0.9242688509823642, 'metrics/recall(B)': 0.8998175924620724, 'metrics/mAP50(B)': 0.9342116173317669, 'metrics/mAP50-95(B)': 0.7865281671909046, 'fitness': 0.8012965122049909}\n",
       "save_dir: PosixPath('YOLO_weights/face-detection-5output')\n",
       "speed: {'preprocess': 0.09119681401341284, 'inference': 2.7299510389171164, 'loss': 0.00014001557934505552, 'postprocess': 0.93830865004967}\n",
       "task: 'detect'"
      ]
     },
     "execution_count": 6,
     "metadata": {},
     "output_type": "execute_result"
    }
   ],
   "source": [
    "yolo11_model_segmentation = YOLO('yolov8n.pt')\n",
    "yolo11_model_segmentation.train(data='face-detection-5/data.yaml', epochs=100, imgsz=448, batch=64,project='YOLO_weights',name='face-detection-5output',exist_ok=True)"
   ]
  },
  {
   "cell_type": "code",
   "execution_count": 7,
   "metadata": {
    "execution": {
     "iopub.execute_input": "2024-11-25T19:52:40.165827Z",
     "iopub.status.busy": "2024-11-25T19:52:40.164725Z",
     "iopub.status.idle": "2024-11-25T19:52:55.053419Z",
     "shell.execute_reply": "2024-11-25T19:52:55.052575Z",
     "shell.execute_reply.started": "2024-11-25T19:52:40.165786Z"
    },
    "trusted": true
   },
   "outputs": [
    {
     "name": "stdout",
     "output_type": "stream",
     "text": [
      "\n",
      "image 1/942 /kaggle/working/face-detection-5/test/images/000d1eae99343db8_jpg.rf.fd8cc4b67c215a122a962bde275767f5.jpg: 448x448 1 0, 11.9ms\n",
      "image 2/942 /kaggle/working/face-detection-5/test/images/00143d27992ccf33_jpg.rf.42fcbcf3f8b69c488e95a71c755c2251.jpg: 448x448 2 0s, 10.5ms\n",
      "image 3/942 /kaggle/working/face-detection-5/test/images/00288c28e836fc12_jpg.rf.143f04325d7c1c5b4d6540cd2ddaae01.jpg: 448x448 1 0, 10.5ms\n",
      "image 4/942 /kaggle/working/face-detection-5/test/images/00792f61cb973e00_jpg.rf.56e1b426ea94b4598fe0de5a9c238bdd.jpg: 448x448 1 0, 10.5ms\n",
      "image 5/942 /kaggle/working/face-detection-5/test/images/00ab614b7a6fad2c_jpg.rf.204e2fcfbfb3e921ca0aaa7a8cddc1ff.jpg: 448x448 1 0, 10.5ms\n",
      "image 6/942 /kaggle/working/face-detection-5/test/images/00cb0328e89e86f4_jpg.rf.462c5beb9344f8a4ac596ac7cd4f44a0.jpg: 448x448 6 0s, 10.6ms\n",
      "image 7/942 /kaggle/working/face-detection-5/test/images/00cdf66dba7e43b4_jpg.rf.4104afb2caa59329641277e5eded672d.jpg: 448x448 1 0, 10.5ms\n",
      "image 8/942 /kaggle/working/face-detection-5/test/images/00db3d364f37e887_jpg.rf.9d9fadb9023c9498f3b9279535fb1bdd.jpg: 448x448 1 0, 10.6ms\n",
      "image 9/942 /kaggle/working/face-detection-5/test/images/00ec069e273cb31b_jpg.rf.55e108319b8d66cd2bd58e7d6684e19c.jpg: 448x448 3 0s, 10.5ms\n",
      "image 10/942 /kaggle/working/face-detection-5/test/images/00ef71f8bbd3c94e_jpg.rf.b73a23dc4718fb713cb41f8f51578a6f.jpg: 448x448 1 0, 10.6ms\n",
      "image 11/942 /kaggle/working/face-detection-5/test/images/0138586efb210408_jpg.rf.7cf572808fcbca80fe42dab1d10734d5.jpg: 448x448 1 0, 10.6ms\n",
      "image 12/942 /kaggle/working/face-detection-5/test/images/013ab488b46ff062_jpg.rf.39172a946bcaba9c0c503c915304fc34.jpg: 448x448 3 0s, 10.5ms\n",
      "image 13/942 /kaggle/working/face-detection-5/test/images/014e3a2cdce420e1_jpg.rf.40d57471393d777e864608846a07a874.jpg: 448x448 8 0s, 8.3ms\n",
      "image 14/942 /kaggle/working/face-detection-5/test/images/0152f29036844456_jpg.rf.122ebb2d1fed2dcb06573d4a24c74fe7.jpg: 448x448 1 0, 8.3ms\n",
      "image 15/942 /kaggle/working/face-detection-5/test/images/01a7f7d2bf63744d_jpg.rf.c1cedd96b5089d23dd70d6e9c54b213e.jpg: 448x448 6 0s, 8.1ms\n",
      "image 16/942 /kaggle/working/face-detection-5/test/images/026f0e69193115d5_jpg.rf.fba57919950ed3e1258596e48406b81d.jpg: 448x448 (no detections), 8.1ms\n",
      "image 17/942 /kaggle/working/face-detection-5/test/images/02903dba33bc4922_jpg.rf.7c03972b700c2797ecef5e92210e8421.jpg: 448x448 2 0s, 8.5ms\n",
      "image 18/942 /kaggle/working/face-detection-5/test/images/029dd8d70d0567e3_jpg.rf.5069aa03f7ec0d0e155efcccd8908d86.jpg: 448x448 2 0s, 8.2ms\n",
      "image 19/942 /kaggle/working/face-detection-5/test/images/031c1ea4884e642a_jpg.rf.8e0a89f354f838f1984dbd491446ac82.jpg: 448x448 1 0, 9.0ms\n",
      "image 20/942 /kaggle/working/face-detection-5/test/images/03254e1a3c628f27_jpg.rf.7d3708cf7aec02fd487cf0f6941496fc.jpg: 448x448 2 0s, 8.4ms\n",
      "image 21/942 /kaggle/working/face-detection-5/test/images/042405032ceb9bd0_jpg.rf.83ad0dde149be2a86a3ab99599606f63.jpg: 448x448 1 0, 8.3ms\n",
      "image 22/942 /kaggle/working/face-detection-5/test/images/04380af6cbe06f3f_jpg.rf.d05f8731589e496fa5ba6b80fd66105b.jpg: 448x448 1 0, 8.2ms\n",
      "image 23/942 /kaggle/working/face-detection-5/test/images/044e7485a9fe4da9_jpg.rf.6fd9a396e6f9a6adbdfbf23e227c99a9.jpg: 448x448 1 0, 8.2ms\n",
      "image 24/942 /kaggle/working/face-detection-5/test/images/046eea3245cd4ea4_jpg.rf.7f35f26e4885abf276ceac58a1968f32.jpg: 448x448 1 0, 8.5ms\n",
      "image 25/942 /kaggle/working/face-detection-5/test/images/04fee9c68be48350_jpg.rf.23b97240b6fc1b3a070e09e5a73fc5c5.jpg: 448x448 6 0s, 8.0ms\n",
      "image 26/942 /kaggle/working/face-detection-5/test/images/053960bc416fcb94_jpg.rf.bcf4f3c602b6c460170117cb5f0491e4.jpg: 448x448 1 0, 8.2ms\n",
      "image 27/942 /kaggle/working/face-detection-5/test/images/054bc32b926c2f5b_jpg.rf.6882cd6c4009bf52a1f067385f21dfaa.jpg: 448x448 1 0, 8.7ms\n",
      "image 28/942 /kaggle/working/face-detection-5/test/images/06185448c9993cc5_jpg.rf.4ac4c5cdc65179bed2447a1b8924ece7.jpg: 448x448 4 0s, 8.5ms\n",
      "image 29/942 /kaggle/working/face-detection-5/test/images/0645393503cad055_jpg.rf.40f0215259b35d750e2d9b9dcd86be52.jpg: 448x448 3 0s, 8.6ms\n",
      "image 30/942 /kaggle/working/face-detection-5/test/images/0660a32352e5dc09_jpg.rf.d1e9c90b9da79207fe3edbd74c39b3b6.jpg: 448x448 2 0s, 8.4ms\n",
      "image 31/942 /kaggle/working/face-detection-5/test/images/06c581a5129b6373_jpg.rf.ea19f7310eb6bf1af7f1725cfcc25538.jpg: 448x448 4 0s, 8.4ms\n",
      "image 32/942 /kaggle/working/face-detection-5/test/images/06cf8a93cffdffd1_jpg.rf.9f17437b85311299161db30a1eeb205d.jpg: 448x448 10 0s, 8.5ms\n",
      "image 33/942 /kaggle/working/face-detection-5/test/images/06e84a2f2193a0b3_jpg.rf.b397bcc2d2dbd9e5ee3a5b14ae89253e.jpg: 448x448 2 0s, 8.2ms\n",
      "image 34/942 /kaggle/working/face-detection-5/test/images/070385be724e33da_jpg.rf.19458e5f4c83707d5e84e4049d5dbe91.jpg: 448x448 1 0, 8.5ms\n",
      "image 35/942 /kaggle/working/face-detection-5/test/images/070f3e8aa47818f1_jpg.rf.86dc15cfd046eddb3f0db3fe2a05fa0e.jpg: 448x448 2 0s, 8.2ms\n",
      "image 36/942 /kaggle/working/face-detection-5/test/images/0730835f4d893342_jpg.rf.18e21d0c7fb1444dc99b1eb800622ba2.jpg: 448x448 1 0, 8.4ms\n",
      "image 37/942 /kaggle/working/face-detection-5/test/images/0756be8dff7d06f2_jpg.rf.e04f0069ce408a57c43e60a3c9b852c1.jpg: 448x448 1 0, 9.7ms\n",
      "image 38/942 /kaggle/working/face-detection-5/test/images/075983494b24f537_jpg.rf.a152584b8a8f74475f09c04d537b4268.jpg: 448x448 3 0s, 8.9ms\n",
      "image 39/942 /kaggle/working/face-detection-5/test/images/07976ce4caa7c4d1_jpg.rf.7038079c4cd7ef2ed1a74834221d3f54.jpg: 448x448 2 0s, 9.2ms\n",
      "image 40/942 /kaggle/working/face-detection-5/test/images/07dbdf9a32d41f30_jpg.rf.ffdc7d75948a95bb0cf7c744f8fc11e8.jpg: 448x448 3 0s, 9.2ms\n",
      "image 41/942 /kaggle/working/face-detection-5/test/images/084ddbf7acacf03e_jpg.rf.ac3ef93d6a9bd61b93045ab82e59c36d.jpg: 448x448 1 0, 9.1ms\n",
      "image 42/942 /kaggle/working/face-detection-5/test/images/08677b47d5df3149_jpg.rf.3d07f2f0c6444e2aea39149894515419.jpg: 448x448 6 0s, 8.7ms\n",
      "image 43/942 /kaggle/working/face-detection-5/test/images/087d8489f86303d8_jpg.rf.6a2202c3becbaac78fe439957389376f.jpg: 448x448 2 0s, 8.8ms\n",
      "image 44/942 /kaggle/working/face-detection-5/test/images/0906368cab9f79a3_jpg.rf.cd3e9b7ce0de76ac55c824878f26abbb.jpg: 448x448 (no detections), 8.7ms\n",
      "image 45/942 /kaggle/working/face-detection-5/test/images/097afd88528bd0aa_jpg.rf.8f7b20b3bd6cccdf9445d6291eecc32d.jpg: 448x448 1 0, 8.4ms\n",
      "image 46/942 /kaggle/working/face-detection-5/test/images/0a5965e547e038f9_jpg.rf.12ee7e607cc989dabd68b9a9a7499db5.jpg: 448x448 2 0s, 8.8ms\n",
      "image 47/942 /kaggle/working/face-detection-5/test/images/0ac496da711a98a5_jpg.rf.adb596f3915a781e6e002fe9f57b3420.jpg: 448x448 4 0s, 8.5ms\n",
      "image 48/942 /kaggle/working/face-detection-5/test/images/0afb5dc5c12f669a_jpg.rf.0d6f08d4dbe91575853aa8dc55e4730a.jpg: 448x448 5 0s, 8.1ms\n",
      "image 49/942 /kaggle/working/face-detection-5/test/images/0b033c75f2ea9b37_jpg.rf.c8343325867d7148e7bed3ca1c16012c.jpg: 448x448 2 0s, 8.2ms\n",
      "image 50/942 /kaggle/working/face-detection-5/test/images/0b3661799bc896ab_jpg.rf.c77bea58fd8f9df0308a2381daac3e0c.jpg: 448x448 2 0s, 8.3ms\n",
      "image 51/942 /kaggle/working/face-detection-5/test/images/0b4812a21dd0abf9_jpg.rf.10ecaaeb2e6ae16b2598b03d06ae943a.jpg: 448x448 1 0, 8.5ms\n",
      "image 52/942 /kaggle/working/face-detection-5/test/images/0b84cb03da6ccfc6_jpg.rf.8cc084bb4d29e06dbddcc23dbf358b0b.jpg: 448x448 1 0, 8.2ms\n",
      "image 53/942 /kaggle/working/face-detection-5/test/images/0bb312fcebaa0738_jpg.rf.2f849e44b811feeba096dcbbf350fabc.jpg: 448x448 8 0s, 8.3ms\n",
      "image 54/942 /kaggle/working/face-detection-5/test/images/0c16f4d06e73da5a_jpg.rf.0fb5106618630694589aa8601bfc336f.jpg: 448x448 2 0s, 10.4ms\n",
      "image 55/942 /kaggle/working/face-detection-5/test/images/0c18add310376bc8_jpg.rf.fb24c22309ae012b43fba8a162ad3c6d.jpg: 448x448 1 0, 8.6ms\n",
      "image 56/942 /kaggle/working/face-detection-5/test/images/0c43560bee413aa8_jpg.rf.3907d161ab7fc7ec52a6c87ffa3f3a3b.jpg: 448x448 3 0s, 9.0ms\n",
      "image 57/942 /kaggle/working/face-detection-5/test/images/0c488fd81b5817be_jpg.rf.c552cbe5004fcb1e992a090cff278629.jpg: 448x448 2 0s, 8.9ms\n",
      "image 58/942 /kaggle/working/face-detection-5/test/images/0c534dae24e7cae7_jpg.rf.cce879d6edabc8d8fe4902805004be49.jpg: 448x448 5 0s, 10.0ms\n",
      "image 59/942 /kaggle/working/face-detection-5/test/images/0c732d7cddaaff1d_jpg.rf.56a7fa9cf1c54a3a03409d61670fd420.jpg: 448x448 1 0, 9.1ms\n",
      "image 60/942 /kaggle/working/face-detection-5/test/images/0c982b3216444bbe_jpg.rf.96df5689d29bcbb78eb2ac868bfbfd7b.jpg: 448x448 1 0, 9.0ms\n",
      "image 61/942 /kaggle/working/face-detection-5/test/images/0ca5ab405eb37fbd_jpg.rf.9394c79ba9d13a85fee7b1a3c76c4993.jpg: 448x448 5 0s, 9.3ms\n",
      "image 62/942 /kaggle/working/face-detection-5/test/images/0cc021b257ce601a_jpg.rf.ec2b3e8ab26a501dc98b16db0bdeff21.jpg: 448x448 1 0, 8.6ms\n",
      "image 63/942 /kaggle/working/face-detection-5/test/images/0cd656f34b9411f3_jpg.rf.0b596e905ef010fac2621ab6776d37c9.jpg: 448x448 (no detections), 8.8ms\n",
      "image 64/942 /kaggle/working/face-detection-5/test/images/0d3a4959cc44f606_jpg.rf.f50c958a4f12feffc6094d8bc178c3f0.jpg: 448x448 2 0s, 8.5ms\n",
      "image 65/942 /kaggle/working/face-detection-5/test/images/0d71cd47c7d51f06_jpg.rf.aff80bd3df44ba86f563e9667f209333.jpg: 448x448 2 0s, 8.6ms\n",
      "image 66/942 /kaggle/working/face-detection-5/test/images/0dc2fdd09d04af21_jpg.rf.f245320d45a9ee1c937ebc98c0031c6f.jpg: 448x448 1 0, 8.4ms\n",
      "image 67/942 /kaggle/working/face-detection-5/test/images/0e539c5c473813dd_jpg.rf.84859dc3b07507dfb93596ea14226563.jpg: 448x448 3 0s, 8.6ms\n",
      "image 68/942 /kaggle/working/face-detection-5/test/images/0e66a40782ed832d_jpg.rf.23062b16dc5da362a37e13a6f0a5618f.jpg: 448x448 3 0s, 8.4ms\n",
      "image 69/942 /kaggle/working/face-detection-5/test/images/0eb5392effcfde42_jpg.rf.1ebb62f1c93f5bb6cb4b52cbdcc98a76.jpg: 448x448 3 0s, 8.5ms\n",
      "image 70/942 /kaggle/working/face-detection-5/test/images/0ecafc4d85998c45_jpg.rf.6a6cd8a7d02e3a2bc4e0bb7840e7904d.jpg: 448x448 2 0s, 8.7ms\n",
      "image 71/942 /kaggle/working/face-detection-5/test/images/0ee30504c7738a3a_jpg.rf.6aa99191a64744e08001570b282d3b77.jpg: 448x448 2 0s, 9.0ms\n",
      "image 72/942 /kaggle/working/face-detection-5/test/images/0f16e119ac2cda07_jpg.rf.13d746fccefa46fa59536ef603a3dca8.jpg: 448x448 1 0, 9.0ms\n",
      "image 73/942 /kaggle/working/face-detection-5/test/images/0f72c0cefa75055d_jpg.rf.ef94e003de0d7532a9210696dcdd96a0.jpg: 448x448 2 0s, 8.9ms\n",
      "image 74/942 /kaggle/working/face-detection-5/test/images/0ffc53e4d52e974e_jpg.rf.8e12eb3107b27f7b5f8ff9278edc528d.jpg: 448x448 4 0s, 9.3ms\n",
      "image 75/942 /kaggle/working/face-detection-5/test/images/1017823cf596d9ed_jpg.rf.4da6be9b7ecf6889a0bb880ebe03f444.jpg: 448x448 1 0, 9.1ms\n",
      "image 76/942 /kaggle/working/face-detection-5/test/images/102244cf234e51be_jpg.rf.c20db1c1dba24b894f3c9df695402032.jpg: 448x448 1 0, 8.8ms\n",
      "image 77/942 /kaggle/working/face-detection-5/test/images/109f69c53f8a0663_jpg.rf.cf35ea41bb0e2244f0d914ceffda87aa.jpg: 448x448 2 0s, 8.6ms\n",
      "image 78/942 /kaggle/working/face-detection-5/test/images/1235bef160dbd8ce_jpg.rf.f0e61a5a1c240a0742ee1a33c9891a3a.jpg: 448x448 1 0, 8.8ms\n",
      "image 79/942 /kaggle/working/face-detection-5/test/images/1244b64b77dd1c07_jpg.rf.5c223056b2482af3e0a4463dd7ff03d4.jpg: 448x448 1 0, 8.5ms\n",
      "image 80/942 /kaggle/working/face-detection-5/test/images/12ab98ac3ccc37bf_jpg.rf.dd4bde7dabe2612c1bdc0a2d12fb52cb.jpg: 448x448 4 0s, 8.4ms\n",
      "image 81/942 /kaggle/working/face-detection-5/test/images/12dfc1eb412ee23d_jpg.rf.88d771d6d2b33fa507a573ef97233023.jpg: 448x448 2 0s, 8.4ms\n",
      "image 82/942 /kaggle/working/face-detection-5/test/images/130c2881d854e385_jpg.rf.459fe4d4485774323a8ee649bca88909.jpg: 448x448 2 0s, 8.8ms\n",
      "image 83/942 /kaggle/working/face-detection-5/test/images/13330273036e0d6b_jpg.rf.6460ffbf6a8059671ff7ce6235abcec0.jpg: 448x448 1 0, 9.1ms\n",
      "image 84/942 /kaggle/working/face-detection-5/test/images/13643eaf4385663d_jpg.rf.8f90fa7d906b5cd6413f835b0713112a.jpg: 448x448 9 0s, 8.9ms\n",
      "image 85/942 /kaggle/working/face-detection-5/test/images/138a7a4af1c32096_jpg.rf.d5173dc7d55855e5de05bad4306435e7.jpg: 448x448 1 0, 8.6ms\n",
      "image 86/942 /kaggle/working/face-detection-5/test/images/138c3e543ceb22b2_jpg.rf.67b7a4b35104b0645f2f3af96be4993b.jpg: 448x448 1 0, 8.7ms\n",
      "image 87/942 /kaggle/working/face-detection-5/test/images/13d5b1e6ab2f75c4_jpg.rf.dd28ec47272e82179a7f840e51bba715.jpg: 448x448 3 0s, 8.5ms\n",
      "image 88/942 /kaggle/working/face-detection-5/test/images/13e8ed22d52dd935_jpg.rf.60449840f782f382baeb296eaafaf91c.jpg: 448x448 2 0s, 8.6ms\n",
      "image 89/942 /kaggle/working/face-detection-5/test/images/141d91e57239be06_jpg.rf.2309afee139c90b3ec18ca58bcbb6379.jpg: 448x448 1 0, 8.5ms\n",
      "image 90/942 /kaggle/working/face-detection-5/test/images/142d85ea77bd3a60_jpg.rf.c470b4ab16c2398e5698e3c2e64379bb.jpg: 448x448 10 0s, 8.4ms\n",
      "image 91/942 /kaggle/working/face-detection-5/test/images/144_jpg.rf.82903432bcff3321857ba48aa44adef1.jpg: 448x448 1 1, 8.4ms\n",
      "image 92/942 /kaggle/working/face-detection-5/test/images/147e517db3dcf0b8_jpg.rf.e34d563f580a12a86e805dca0bfea0a8.jpg: 448x448 2 0s, 8.5ms\n",
      "image 93/942 /kaggle/working/face-detection-5/test/images/156c5ae87d53967e_jpg.rf.a947f2212cb3d8ced4b32f22c08f60b4.jpg: 448x448 1 0, 8.8ms\n",
      "image 94/942 /kaggle/working/face-detection-5/test/images/157_jpg.rf.892ef4113da86964ed7f442eb5e9f97b.jpg: 448x448 1 1, 8.5ms\n",
      "image 95/942 /kaggle/working/face-detection-5/test/images/159_jpg.rf.761c5aa0b72ac42cada5604d917094c6.jpg: 448x448 1 1, 8.7ms\n",
      "image 96/942 /kaggle/working/face-detection-5/test/images/15a943d18792d270_jpg.rf.543ab8fcf82f85b68f39bef31c395fb8.jpg: 448x448 2 0s, 8.6ms\n",
      "image 97/942 /kaggle/working/face-detection-5/test/images/15aeeae8376158a9_jpg.rf.b7ed340ffec60abf4a7a4f31c5caf852.jpg: 448x448 7 0s, 8.5ms\n",
      "image 98/942 /kaggle/working/face-detection-5/test/images/15e2242ab5c934f5_jpg.rf.e5ebdba02198572d5881e32492ee1a53.jpg: 448x448 2 0s, 8.8ms\n",
      "image 99/942 /kaggle/working/face-detection-5/test/images/1699f9c3b14cac82_jpg.rf.da33e0f168797bf5519e61708ebffeab.jpg: 448x448 5 0s, 8.8ms\n",
      "image 100/942 /kaggle/working/face-detection-5/test/images/171_jpg.rf.8e52605c4a7af268eb6e3ed5e1e9ce1c.jpg: 448x448 1 1, 8.6ms\n",
      "image 101/942 /kaggle/working/face-detection-5/test/images/173a80172f697e59_jpg.rf.a69a38d58829e5b8a06e4bd6548e0e80.jpg: 448x448 4 0s, 9.8ms\n",
      "image 102/942 /kaggle/working/face-detection-5/test/images/17923dd818fccca4_jpg.rf.f615c03eea824bac404203c55c45fcf4.jpg: 448x448 1 0, 9.5ms\n",
      "image 103/942 /kaggle/working/face-detection-5/test/images/17a549fe8025120e_jpg.rf.958815f9601afb1dc288df59ae7a4917.jpg: 448x448 1 0, 9.4ms\n",
      "image 104/942 /kaggle/working/face-detection-5/test/images/1804487c5a3186c0_jpg.rf.b1507544965437476de955f4c285fb73.jpg: 448x448 4 0s, 9.0ms\n",
      "image 105/942 /kaggle/working/face-detection-5/test/images/18066dfab9ee71a4_jpg.rf.b3be04b4c63cfb7d89d2c3213ae0a840.jpg: 448x448 3 0s, 9.0ms\n",
      "image 106/942 /kaggle/working/face-detection-5/test/images/1815f94942da474b_jpg.rf.0a90e507295451b1b46fad63af3a4769.jpg: 448x448 (no detections), 8.8ms\n",
      "image 107/942 /kaggle/working/face-detection-5/test/images/181_jpg.rf.ea6a205f331609f179e8d66a55e55b35.jpg: 448x448 1 1, 8.5ms\n",
      "image 108/942 /kaggle/working/face-detection-5/test/images/181c55ce0a4d9f94_jpg.rf.54278467314c9589a25d0a59816641cc.jpg: 448x448 1 0, 8.5ms\n",
      "image 109/942 /kaggle/working/face-detection-5/test/images/18565ad908e32925_jpg.rf.2bccd3049141a239d6156c0e78f42afd.jpg: 448x448 11 0s, 8.6ms\n",
      "image 110/942 /kaggle/working/face-detection-5/test/images/18648488c4473638_jpg.rf.41c805c744d696a6fc865a0214df3415.jpg: 448x448 2 0s, 8.2ms\n",
      "image 111/942 /kaggle/working/face-detection-5/test/images/1890e77a0448e5b0_jpg.rf.dd7d878d5e9ba1d71d804f41c03d6dab.jpg: 448x448 1 0, 8.1ms\n",
      "image 112/942 /kaggle/working/face-detection-5/test/images/18bf025c26723ab1_jpg.rf.f9dfe28ee3332d47cf77b5656ce2a259.jpg: 448x448 2 0s, 8.4ms\n",
      "image 113/942 /kaggle/working/face-detection-5/test/images/18d6e3130e89382e_jpg.rf.fcbeef0caf124e37a1f990b5d28fc078.jpg: 448x448 1 0, 8.3ms\n",
      "image 114/942 /kaggle/working/face-detection-5/test/images/18e2ef032c66834c_jpg.rf.8c7df8f910940000d4c8049575e2f7aa.jpg: 448x448 2 0s, 8.4ms\n",
      "image 115/942 /kaggle/working/face-detection-5/test/images/19249e4915fa7d37_jpg.rf.a347619428acddb301b2c2d243d51173.jpg: 448x448 1 0, 8.4ms\n",
      "image 116/942 /kaggle/working/face-detection-5/test/images/192622955edfb072_jpg.rf.ad63748885a91849613dc637f90f729c.jpg: 448x448 6 0s, 8.3ms\n",
      "image 117/942 /kaggle/working/face-detection-5/test/images/1959cce0003337f8_jpg.rf.10153fdec5451741a70426335a18b4d4.jpg: 448x448 4 0s, 8.2ms\n",
      "image 118/942 /kaggle/working/face-detection-5/test/images/19687d6f21d16706_jpg.rf.1462be8b0e50aebb19f37290e6ea3383.jpg: 448x448 1 0, 8.4ms\n",
      "image 119/942 /kaggle/working/face-detection-5/test/images/1989ba8f12afa99e_jpg.rf.a0a41d12dc25e416a785728ea310b207.jpg: 448x448 9 0s, 8.1ms\n",
      "image 120/942 /kaggle/working/face-detection-5/test/images/19935a16f746b93b_jpg.rf.7a1dbc6245dde2935a4f07c4b3367612.jpg: 448x448 1 0, 8.1ms\n",
      "image 121/942 /kaggle/working/face-detection-5/test/images/1a06c438d885980d_jpg.rf.283b84d689a9d915e750e6c896562a3b.jpg: 448x448 2 0s, 8.4ms\n",
      "image 122/942 /kaggle/working/face-detection-5/test/images/1a14d804e3c1e31c_jpg.rf.4a3b8a1fe51843939551073246f4dd6d.jpg: 448x448 1 0, 8.7ms\n",
      "image 123/942 /kaggle/working/face-detection-5/test/images/1a1b134d46558ca6_jpg.rf.57ae00315897688a07ac42020156f9aa.jpg: 448x448 1 0, 8.3ms\n",
      "image 124/942 /kaggle/working/face-detection-5/test/images/1a25d17f40349da9_jpg.rf.3c669ec6eb1032d4c0590c6663b08a32.jpg: 448x448 15 0s, 8.0ms\n",
      "image 125/942 /kaggle/working/face-detection-5/test/images/1a345a5001a38b7a_jpg.rf.3913e72a4a6e57f157925c6426b60423.jpg: 448x448 5 0s, 8.4ms\n",
      "image 126/942 /kaggle/working/face-detection-5/test/images/1b0dceaaf35bca75_jpg.rf.ee251c68a8e1ad78ef107877b617a828.jpg: 448x448 1 0, 10.0ms\n",
      "image 127/942 /kaggle/working/face-detection-5/test/images/1b228f69e2a0e14f_jpg.rf.6d4309511efbf1c283a107a1beb4d893.jpg: 448x448 1 0, 8.8ms\n",
      "image 128/942 /kaggle/working/face-detection-5/test/images/1b52284d185bbda6_jpg.rf.657573476240ec39ed2edf2a0f0c459a.jpg: 448x448 3 0s, 8.6ms\n",
      "image 129/942 /kaggle/working/face-detection-5/test/images/1b5899d21f2f61d4_jpg.rf.0e6224f9e97793663cbb4714287919b8.jpg: 448x448 1 0, 8.7ms\n",
      "image 130/942 /kaggle/working/face-detection-5/test/images/1b987ca0ac4fbffc_jpg.rf.d0fbb1a6c7a4d6370942cb47ccc8a4e9.jpg: 448x448 1 0, 8.9ms\n",
      "image 131/942 /kaggle/working/face-detection-5/test/images/1ba6b7b2f60162ea_jpg.rf.f158f5e6049e59d93216c5a372d1d299.jpg: 448x448 1 0, 9.6ms\n",
      "image 132/942 /kaggle/working/face-detection-5/test/images/1bd33a2377a3b5ee_jpg.rf.b9a53212a5aa748ce376f7bc631b06eb.jpg: 448x448 1 0, 9.1ms\n",
      "image 133/942 /kaggle/working/face-detection-5/test/images/1be83fed7ee72018_jpg.rf.6183bb33e6392abbd3b8ecf411852be4.jpg: 448x448 7 0s, 8.9ms\n",
      "image 134/942 /kaggle/working/face-detection-5/test/images/1bf71c78226fa36f_jpg.rf.af2c19f26ae836a6d67554a5f38ee80e.jpg: 448x448 2 0s, 9.0ms\n",
      "image 135/942 /kaggle/working/face-detection-5/test/images/1c1c13ac58705501_jpg.rf.059231894224c8f8f1a829c715a0d1bd.jpg: 448x448 1 0, 8.7ms\n",
      "image 136/942 /kaggle/working/face-detection-5/test/images/1c84cfc7c9c453dd_jpg.rf.7c83147b38f42782b4de7aba04bb14f6.jpg: 448x448 3 0s, 8.7ms\n",
      "image 137/942 /kaggle/working/face-detection-5/test/images/1caba78fd0c35976_jpg.rf.f000093873a365962889a35396f13971.jpg: 448x448 1 0, 8.7ms\n",
      "image 138/942 /kaggle/working/face-detection-5/test/images/1d31375f4f59e039_jpg.rf.a949b37dd016b84597a209935099af3f.jpg: 448x448 4 0s, 8.0ms\n",
      "image 139/942 /kaggle/working/face-detection-5/test/images/1d71cd1acd039686_jpg.rf.cfa90d964dbad22b6457ff912ae23fc2.jpg: 448x448 19 0s, 8.1ms\n",
      "image 140/942 /kaggle/working/face-detection-5/test/images/1d7e46e599c393aa_jpg.rf.f2b6d68869d1fe8a53ba070507bbbdde.jpg: 448x448 4 0s, 8.0ms\n",
      "image 141/942 /kaggle/working/face-detection-5/test/images/1e84b6bc8da089cc_jpg.rf.20d36cc0daa35d2a2e90cd307f3a8377.jpg: 448x448 2 0s, 8.2ms\n",
      "image 142/942 /kaggle/working/face-detection-5/test/images/1f51cb5fc31553b4_jpg.rf.b02521e38aff7a2da30a9cb50dbd5639.jpg: 448x448 2 0s, 8.6ms\n",
      "image 143/942 /kaggle/working/face-detection-5/test/images/1f66ee2772a5552a_jpg.rf.ed23741dbcdd437966181928cfb25416.jpg: 448x448 1 0, 8.0ms\n",
      "image 144/942 /kaggle/working/face-detection-5/test/images/1fb3bd82786b6632_jpg.rf.68ba8f09aef924795df86b95b62d38f7.jpg: 448x448 3 0s, 8.3ms\n",
      "image 145/942 /kaggle/working/face-detection-5/test/images/1fb84be44944d549_jpg.rf.57c57dd6cae41412fb4c7b98092f7c51.jpg: 448x448 1 0, 8.8ms\n",
      "image 146/942 /kaggle/working/face-detection-5/test/images/1fd833dbf848f5ea_jpg.rf.4f2ff0fe3ebc3d49306d8f74f2f17840.jpg: 448x448 1 0, 11.1ms\n",
      "image 147/942 /kaggle/working/face-detection-5/test/images/203afa50c16d56ff_jpg.rf.39d0bde203a3a71461f13b9c60ef5eb0.jpg: 448x448 1 0, 9.1ms\n",
      "image 148/942 /kaggle/working/face-detection-5/test/images/2062fd3abc905428_jpg.rf.0bc6a7517419470b5f641d290d363f0c.jpg: 448x448 2 0s, 8.8ms\n",
      "image 149/942 /kaggle/working/face-detection-5/test/images/2079b0283fd3fb79_jpg.rf.4ee6edc878d3fbf7b5458de32d9520fc.jpg: 448x448 1 0, 9.2ms\n",
      "image 150/942 /kaggle/working/face-detection-5/test/images/20d618fa8ce50dd8_jpg.rf.d9d25afdd24077f5f701d808ad246071.jpg: 448x448 2 0s, 8.1ms\n",
      "image 151/942 /kaggle/working/face-detection-5/test/images/214a651d29fcf132_jpg.rf.be97ca959a0b7a521e3d1241cf0c631d.jpg: 448x448 1 0, 8.0ms\n",
      "image 152/942 /kaggle/working/face-detection-5/test/images/2185f443d43dc836_jpg.rf.0f2de93fe3381e7bc044b56c028c684f.jpg: 448x448 5 0s, 8.5ms\n",
      "image 153/942 /kaggle/working/face-detection-5/test/images/21ae4fe2c260c78b_jpg.rf.03cbf76579c5fb6a6b43f2e42b6e9e16.jpg: 448x448 1 0, 8.4ms\n",
      "image 154/942 /kaggle/working/face-detection-5/test/images/21ba32d80fc0dd45_jpg.rf.28a5cfd71e3bbd504d04fcc07e141cb9.jpg: 448x448 2 0s, 8.4ms\n",
      "image 155/942 /kaggle/working/face-detection-5/test/images/21c2d51bbb6ceaba_jpg.rf.ad0bb529e85283291d069f5cc8857957.jpg: 448x448 3 0s, 8.4ms\n",
      "image 156/942 /kaggle/working/face-detection-5/test/images/21dd21733d989594_jpg.rf.da65b7bef0cabbed13e918bfa77f99cf.jpg: 448x448 1 0, 8.4ms\n",
      "image 157/942 /kaggle/working/face-detection-5/test/images/21f1d8bf4b55aba4_jpg.rf.2ce808debb3191091faaf2ffeb3f8c28.jpg: 448x448 3 0s, 8.4ms\n",
      "image 158/942 /kaggle/working/face-detection-5/test/images/2224708fbdd769d8_jpg.rf.f3ba69e604e02ea58608333339fcf9c8.jpg: 448x448 2 0s, 8.6ms\n",
      "image 159/942 /kaggle/working/face-detection-5/test/images/222b7d7a07a79003_jpg.rf.90792fb72f4361cc6bbc9b57e728f5b4.jpg: 448x448 6 0s, 8.4ms\n",
      "image 160/942 /kaggle/working/face-detection-5/test/images/227913384baca0ad_jpg.rf.8bf84f415fda093ab2a6134e7f68e734.jpg: 448x448 1 0, 8.3ms\n",
      "image 161/942 /kaggle/working/face-detection-5/test/images/22cf29f1e880c888_jpg.rf.c1f025e967486200473fadcc89f7bbf9.jpg: 448x448 3 0s, 8.2ms\n",
      "image 162/942 /kaggle/working/face-detection-5/test/images/22ee5d2c6fa95508_jpg.rf.d71520a0cb6c61dcb213fbb2acb777b2.jpg: 448x448 1 0, 9.0ms\n",
      "image 163/942 /kaggle/working/face-detection-5/test/images/23987f2576730eb4_jpg.rf.c2dd58588b6c8f9140dc647beb6ed560.jpg: 448x448 1 0, 9.3ms\n",
      "image 164/942 /kaggle/working/face-detection-5/test/images/241b5dfa694820e2_jpg.rf.ca946b2678566a565c7582a64d6a1680.jpg: 448x448 16 0s, 9.0ms\n",
      "image 165/942 /kaggle/working/face-detection-5/test/images/242223f44b6c6956_jpg.rf.02bc1a5f679bb4563ce0b89435628adf.jpg: 448x448 1 0, 9.2ms\n",
      "image 166/942 /kaggle/working/face-detection-5/test/images/24b8b482e32ce060_jpg.rf.4e79df125786c81953b5f1b0ca2dc986.jpg: 448x448 4 0s, 8.8ms\n",
      "image 167/942 /kaggle/working/face-detection-5/test/images/24e0ae18c6193148_jpg.rf.341a04bfe1fd0391840664cce5b6153a.jpg: 448x448 2 0s, 8.5ms\n",
      "image 168/942 /kaggle/working/face-detection-5/test/images/25dc2bc64d8b3086_jpg.rf.3c5aeb3694e5cd393480da8cbbd3bfc8.jpg: 448x448 1 0, 9.6ms\n",
      "image 169/942 /kaggle/working/face-detection-5/test/images/269a0b2eeafc5255_jpg.rf.10acddda0fcbe5d1a06a75d4748b76e1.jpg: 448x448 7 0s, 10.8ms\n",
      "image 170/942 /kaggle/working/face-detection-5/test/images/26a2b07a3b2ba15d_jpg.rf.b4cd4174ea3149a10c5bf9b2e3eadf09.jpg: 448x448 2 0s, 11.1ms\n",
      "image 171/942 /kaggle/working/face-detection-5/test/images/26d0793d2a54529d_jpg.rf.24f1c08a791792e029fa16ba59688b76.jpg: 448x448 2 0s, 10.4ms\n",
      "image 172/942 /kaggle/working/face-detection-5/test/images/26d07aae99dc34a9_jpg.rf.06f97200495e57945817abdd776a6566.jpg: 448x448 1 0, 10.0ms\n",
      "image 173/942 /kaggle/working/face-detection-5/test/images/26eb2dc8ca51f6a9_jpg.rf.7a2d846a8abdbd4c5ac45d7ff2a21d57.jpg: 448x448 1 0, 10.5ms\n",
      "image 174/942 /kaggle/working/face-detection-5/test/images/27139fbcefae4eda_jpg.rf.e498e1877105d11b6f570a8d09093442.jpg: 448x448 1 0, 9.7ms\n",
      "image 175/942 /kaggle/working/face-detection-5/test/images/27532f8ad20e9fdc_jpg.rf.da8d78ce536f81cb7c93ed2ccb702d1c.jpg: 448x448 1 0, 9.6ms\n",
      "image 176/942 /kaggle/working/face-detection-5/test/images/27e797c53d058b6b_jpg.rf.62fbbeb6599cee7af02c93b8b6ce13dc.jpg: 448x448 2 0s, 9.6ms\n",
      "image 177/942 /kaggle/working/face-detection-5/test/images/28560ba297736434_jpg.rf.7bc2ddb4666e9325f30652e7e519e948.jpg: 448x448 4 0s, 9.7ms\n",
      "image 178/942 /kaggle/working/face-detection-5/test/images/286fa1b1f8877b02_jpg.rf.9f7f0392314c8dc4ecf35a6e3c5956bf.jpg: 448x448 2 0s, 9.4ms\n",
      "image 179/942 /kaggle/working/face-detection-5/test/images/28e3ea3e121af9ce_jpg.rf.5be801c8eb6f95506a39b909149f17ff.jpg: 448x448 6 0s, 9.6ms\n",
      "image 180/942 /kaggle/working/face-detection-5/test/images/2901449bad9d0fd0_jpg.rf.7441ccf2c964be09063f968699c10580.jpg: 448x448 1 0, 9.7ms\n",
      "image 181/942 /kaggle/working/face-detection-5/test/images/290715f9010abe4c_jpg.rf.88e0b71d6a57fcbf788b478e5162a7f2.jpg: 448x448 4 0s, 9.9ms\n",
      "image 182/942 /kaggle/working/face-detection-5/test/images/2955ce2db037b949_jpg.rf.e463a5282d8ba4fa4a948eef72a95b19.jpg: 448x448 2 0s, 10.1ms\n",
      "image 183/942 /kaggle/working/face-detection-5/test/images/298aa6a65477c840_jpg.rf.3182cca522b6897005498c1cb230c4df.jpg: 448x448 2 0s, 9.6ms\n",
      "image 184/942 /kaggle/working/face-detection-5/test/images/29a72acfb840c0ec_jpg.rf.aacb3663b2e55aed5bbf1899378aa10b.jpg: 448x448 1 0, 9.8ms\n",
      "image 185/942 /kaggle/working/face-detection-5/test/images/29cb2d2d84521104_jpg.rf.35f40c25afaf4dddd01e183fe38e018c.jpg: 448x448 6 0s, 9.6ms\n",
      "image 186/942 /kaggle/working/face-detection-5/test/images/2a295d886fcc11ba_jpg.rf.85c53dbca19126ea54809235e5aeb7c0.jpg: 448x448 2 0s, 8.4ms\n",
      "image 187/942 /kaggle/working/face-detection-5/test/images/2aa8d533cf45e3f0_jpg.rf.4e2d6a15a176eeb4b416fe1b3df121e6.jpg: 448x448 1 0, 8.8ms\n",
      "image 188/942 /kaggle/working/face-detection-5/test/images/2afeda7b06a299d0_jpg.rf.db343fcb6309b416114f86e8f60a495f.jpg: 448x448 1 0, 9.8ms\n",
      "image 189/942 /kaggle/working/face-detection-5/test/images/2b0cc44f87e9e0df_jpg.rf.8c0ebaa24b54be902fcbb89d51ce615c.jpg: 448x448 2 0s, 8.9ms\n",
      "image 190/942 /kaggle/working/face-detection-5/test/images/2cced0a1189c645f_jpg.rf.5a91ac4b9a54faef7da84df1b112d193.jpg: 448x448 2 0s, 8.9ms\n",
      "image 191/942 /kaggle/working/face-detection-5/test/images/2e250461b0a24275_jpg.rf.b7640d5359fccf93825cbf6c91121fb9.jpg: 448x448 3 0s, 9.0ms\n",
      "image 192/942 /kaggle/working/face-detection-5/test/images/2e91d90978d94ca8_jpg.rf.05ba538068602c49052bb0ed8ebc406b.jpg: 448x448 6 0s, 8.9ms\n",
      "image 193/942 /kaggle/working/face-detection-5/test/images/2f01ab41313f069f_jpg.rf.bae0f0dd7dd23dda6ef89e8e44b2ec02.jpg: 448x448 4 0s, 8.8ms\n",
      "image 194/942 /kaggle/working/face-detection-5/test/images/2f295300c57f22c1_jpg.rf.6c5b4289894f4d12c0afbf49685136fc.jpg: 448x448 4 0s, 8.7ms\n",
      "image 195/942 /kaggle/working/face-detection-5/test/images/2f92ea80cc66e598_jpg.rf.00f00a521eeb3ffe0ac65b9a3534f108.jpg: 448x448 1 0, 8.4ms\n",
      "image 196/942 /kaggle/working/face-detection-5/test/images/30396a38def6ed0a_jpg.rf.16b266468a54b7cf57b9880210ede6cb.jpg: 448x448 (no detections), 8.6ms\n",
      "image 197/942 /kaggle/working/face-detection-5/test/images/30b7c781b85b0244_jpg.rf.928f7b076501563920004cc19c83f7da.jpg: 448x448 5 0s, 8.4ms\n",
      "image 198/942 /kaggle/working/face-detection-5/test/images/3118e00f7796620c_jpg.rf.38d0fb17b84b914c5c510ec2a131404f.jpg: 448x448 1 0, 8.3ms\n",
      "image 199/942 /kaggle/working/face-detection-5/test/images/3134e08723e636f8_jpg.rf.72289dd8b76cb0dca0819bbfc892fde8.jpg: 448x448 15 0s, 8.1ms\n",
      "image 200/942 /kaggle/working/face-detection-5/test/images/319ea2fe0c8ed749_jpg.rf.e0af0fd53aa509b3a08cf5aab116e14a.jpg: 448x448 1 0, 8.2ms\n",
      "image 201/942 /kaggle/working/face-detection-5/test/images/32306ceb1392e5a7_jpg.rf.75afce1f611e412405ec6f4a88fe8746.jpg: 448x448 1 0, 8.1ms\n",
      "image 202/942 /kaggle/working/face-detection-5/test/images/328bbb73c99819d6_jpg.rf.811e7ba6c6e15491d804aabb77ce741d.jpg: 448x448 1 0, 8.1ms\n",
      "image 203/942 /kaggle/working/face-detection-5/test/images/32c772ecaa8239cd_jpg.rf.7682edd313d7ca784bbd3ae6168418e0.jpg: 448x448 8 0s, 9.0ms\n",
      "image 204/942 /kaggle/working/face-detection-5/test/images/331dac2e0efed60b_jpg.rf.461936866b2c4bda822a1604a34be4c2.jpg: 448x448 3 0s, 8.5ms\n",
      "image 205/942 /kaggle/working/face-detection-5/test/images/332c74b6f4e93e89_jpg.rf.dffc7460416db98b7ff8fdd160d4cfc0.jpg: 448x448 5 0s, 8.3ms\n",
      "image 206/942 /kaggle/working/face-detection-5/test/images/33779616ea36d7e9_jpg.rf.52a1f6072392acd6d5938df00f6634d4.jpg: 448x448 2 0s, 8.3ms\n",
      "image 207/942 /kaggle/working/face-detection-5/test/images/3378bbff1b0ad212_jpg.rf.15b8514b15ae8ea65ef1e3695945096f.jpg: 448x448 2 0s, 8.2ms\n",
      "image 208/942 /kaggle/working/face-detection-5/test/images/33821c3b5bce1daa_jpg.rf.b19ab39ed5098b792970c10672255b2d.jpg: 448x448 2 0s, 8.0ms\n",
      "image 209/942 /kaggle/working/face-detection-5/test/images/33ce264a1d45110c_jpg.rf.a65a1efeb24424c96131de331f42a38a.jpg: 448x448 1 0, 8.3ms\n",
      "image 210/942 /kaggle/working/face-detection-5/test/images/3414ebbe49892cc4_jpg.rf.ae84119d80e69cc778e92153216c5248.jpg: 448x448 1 0, 8.3ms\n",
      "image 211/942 /kaggle/working/face-detection-5/test/images/34d5a737bf674246_jpg.rf.cfda7209f4aaba65840a4572bf6b3112.jpg: 448x448 6 0s, 8.7ms\n",
      "image 212/942 /kaggle/working/face-detection-5/test/images/34da0d2f4bd36370_jpg.rf.fd014016e3742ee01ff672dcc9c22e6c.jpg: 448x448 6 0s, 8.5ms\n",
      "image 213/942 /kaggle/working/face-detection-5/test/images/351129f5f9ba2825_jpg.rf.078d0922cf406eb3962dfffdf797c998.jpg: 448x448 3 0s, 8.5ms\n",
      "image 214/942 /kaggle/working/face-detection-5/test/images/35673a3b1dea2434_jpg.rf.7dbb4871b9a1303a9f2300ebbd45835e.jpg: 448x448 1 0, 8.6ms\n",
      "image 215/942 /kaggle/working/face-detection-5/test/images/3576fbcff9bb7ffe_jpg.rf.2751e4133669902cb54c9c211c8105f9.jpg: 448x448 3 0s, 8.7ms\n",
      "image 216/942 /kaggle/working/face-detection-5/test/images/357abf16919e0757_jpg.rf.97a14b5050fb68cbb5d29ce0fa14951f.jpg: 448x448 4 0s, 8.7ms\n",
      "image 217/942 /kaggle/working/face-detection-5/test/images/3585a57f249c3a4a_jpg.rf.fa17563393d3756003b1e0e75c42360b.jpg: 448x448 2 0s, 8.3ms\n",
      "image 218/942 /kaggle/working/face-detection-5/test/images/35b0f677439430c2_jpg.rf.810ac9ec7b9ac10164da63fd9e25ab67.jpg: 448x448 1 0, 8.5ms\n",
      "image 219/942 /kaggle/working/face-detection-5/test/images/35b44d1c825720aa_jpg.rf.a5e4d2afe5c1475fa11349cfe0682dea.jpg: 448x448 1 0, 8.1ms\n",
      "image 220/942 /kaggle/working/face-detection-5/test/images/35bf87bc5fccc161_jpg.rf.8e508d86cd515aac74d21a06c811a11c.jpg: 448x448 1 0, 8.7ms\n",
      "image 221/942 /kaggle/working/face-detection-5/test/images/367f81620d35bd4d_jpg.rf.17f9eeeeb454c7fdeda7b231fa41d60c.jpg: 448x448 2 0s, 8.8ms\n",
      "image 222/942 /kaggle/working/face-detection-5/test/images/36afb5000634f293_jpg.rf.abf3bd4b63ca6489aa63757ef93f2237.jpg: 448x448 2 0s, 9.2ms\n",
      "image 223/942 /kaggle/working/face-detection-5/test/images/36dd508c2d23e63e_jpg.rf.16ba56b1dab38ca0be962547e61bb212.jpg: 448x448 1 0, 9.1ms\n",
      "image 224/942 /kaggle/working/face-detection-5/test/images/372293ca36b00ca8_jpg.rf.f9a57b84ad4d4bf4bdc0b489d54c0b58.jpg: 448x448 4 0s, 8.8ms\n",
      "image 225/942 /kaggle/working/face-detection-5/test/images/372a57aef5c47948_jpg.rf.13b6c669e996c3c0ff9634596b367d75.jpg: 448x448 10 0s, 8.5ms\n",
      "image 226/942 /kaggle/working/face-detection-5/test/images/372edfd8d83cb788_jpg.rf.bc473c077469faee0b039bfb23824fdb.jpg: 448x448 10 0s, 8.5ms\n",
      "image 227/942 /kaggle/working/face-detection-5/test/images/37373ca88cc98405_jpg.rf.88a0c2ee01d97704b418e21db5802079.jpg: 448x448 1 0, 8.7ms\n",
      "image 228/942 /kaggle/working/face-detection-5/test/images/3745f35dc5f3918e_jpg.rf.e42135176cd0f28c445b4297fa7416b8.jpg: 448x448 1 0, 8.4ms\n",
      "image 229/942 /kaggle/working/face-detection-5/test/images/378ebfb4c16a43da_jpg.rf.47b2f73158944e69b75a2dc04879897a.jpg: 448x448 1 0, 8.4ms\n",
      "image 230/942 /kaggle/working/face-detection-5/test/images/37_jpg.rf.03bd8991148eadc1b1be02cb9fcadecb.jpg: 448x448 1 1, 8.1ms\n",
      "image 231/942 /kaggle/working/face-detection-5/test/images/37e327d9864dc560_jpg.rf.c7bd8cd07197c38929e225d6e6abd7a4.jpg: 448x448 2 0s, 8.2ms\n",
      "image 232/942 /kaggle/working/face-detection-5/test/images/37ebfb367aa386ee_jpg.rf.3832b2519b1f1684a0f72e7b33e37078.jpg: 448x448 3 0s, 8.6ms\n",
      "image 233/942 /kaggle/working/face-detection-5/test/images/380c84fccef8a93f_jpg.rf.e9290f745ebd75228627f0d3a2397753.jpg: 448x448 2 0s, 8.4ms\n",
      "image 234/942 /kaggle/working/face-detection-5/test/images/38b7afd3aa9a28ca_jpg.rf.2b299d180d5b36a8bb1f87453ee1ba31.jpg: 448x448 1 0, 8.3ms\n",
      "image 235/942 /kaggle/working/face-detection-5/test/images/38ca9e26888f8139_jpg.rf.1d67ff51add08a69441c8d4bf088ed58.jpg: 448x448 1 0, 8.4ms\n",
      "image 236/942 /kaggle/working/face-detection-5/test/images/394197d84018210c_jpg.rf.6e6007f1d78daf1f8e51c55a221dcc65.jpg: 448x448 1 0, 8.9ms\n",
      "image 237/942 /kaggle/working/face-detection-5/test/images/395b6fc7a97c377f_jpg.rf.55020c2f860e90c1f9eb604ce72e4845.jpg: 448x448 2 0s, 8.2ms\n",
      "image 238/942 /kaggle/working/face-detection-5/test/images/39af01b83276d705_jpg.rf.abd1157c41cd3f8dbc04f63fecc1f134.jpg: 448x448 1 0, 8.5ms\n",
      "image 239/942 /kaggle/working/face-detection-5/test/images/39d2bb3a4c3dfc01_jpg.rf.fabec1a9ef7e08eafa361ec4b27496e1.jpg: 448x448 2 0s, 8.8ms\n",
      "image 240/942 /kaggle/working/face-detection-5/test/images/3a1a61d61db06b6e_jpg.rf.f498543d5692c9c923a3c26a91e10dd4.jpg: 448x448 4 0s, 8.6ms\n",
      "image 241/942 /kaggle/working/face-detection-5/test/images/3a1afc81896aca03_jpg.rf.435da19b4ce845cdb7f29fc824ef97af.jpg: 448x448 1 0, 8.6ms\n",
      "image 242/942 /kaggle/working/face-detection-5/test/images/3a336a3febad8569_jpg.rf.3b710c26e292d572f106e2cb365b56be.jpg: 448x448 1 0, 8.5ms\n",
      "image 243/942 /kaggle/working/face-detection-5/test/images/3aa997925756881e_jpg.rf.0eacb623c6126b3ff6376c520f326bda.jpg: 448x448 1 0, 8.8ms\n",
      "image 244/942 /kaggle/working/face-detection-5/test/images/3ad32f44eed1aad9_jpg.rf.fa32e0da907f3ce422bf9d100263685b.jpg: 448x448 1 0, 8.6ms\n",
      "image 245/942 /kaggle/working/face-detection-5/test/images/3aebe7f06fb95a9f_jpg.rf.ea836f9fa616a9a6e9540b54929ef95f.jpg: 448x448 4 0s, 8.4ms\n",
      "image 246/942 /kaggle/working/face-detection-5/test/images/3ba4cf7c5476fa92_jpg.rf.3b08b1b2d10a8d62f2db7cadfad35fff.jpg: 448x448 4 0s, 8.7ms\n",
      "image 247/942 /kaggle/working/face-detection-5/test/images/3bfd64f1acc78c56_jpg.rf.19941a17dc09a2926489cc5fab1188bf.jpg: 448x448 4 0s, 8.7ms\n",
      "image 248/942 /kaggle/working/face-detection-5/test/images/3c395270bb75be48_jpg.rf.710fee62e1671780bbb282c216efe2fc.jpg: 448x448 1 0, 8.9ms\n",
      "image 249/942 /kaggle/working/face-detection-5/test/images/3c47eef444f5da0c_jpg.rf.7579abd32cc61d7bdb5e709bec368a12.jpg: 448x448 1 0, 9.2ms\n",
      "image 250/942 /kaggle/working/face-detection-5/test/images/3c7a8bfe223fa14b_jpg.rf.4feb39bdd58f817cdd213b7ad52334f5.jpg: 448x448 1 0, 9.0ms\n",
      "image 251/942 /kaggle/working/face-detection-5/test/images/3cdf511fa044a168_jpg.rf.64abc0ca3f983f6e21380c11ef87d099.jpg: 448x448 1 0, 9.1ms\n",
      "image 252/942 /kaggle/working/face-detection-5/test/images/3cfbd85540773394_jpg.rf.c456e9011ea282dbaf332477de9298bd.jpg: 448x448 2 0s, 8.6ms\n",
      "image 253/942 /kaggle/working/face-detection-5/test/images/3d7de34ee6e891aa_jpg.rf.7bc68b50a189a3d6b110979984761ad5.jpg: 448x448 1 0, 9.8ms\n",
      "image 254/942 /kaggle/working/face-detection-5/test/images/3e40fb04a0c38a59_jpg.rf.c01a11aaaaa871f39c70f7961a3e20b0.jpg: 448x448 1 0, 8.6ms\n",
      "image 255/942 /kaggle/working/face-detection-5/test/images/3f1a6852e5c7891b_jpg.rf.146a3933849b10e88af76f2c23fe9ee1.jpg: 448x448 4 0s, 8.3ms\n",
      "image 256/942 /kaggle/working/face-detection-5/test/images/3fee4969137f163a_jpg.rf.4124c5fa0a605dc70b9812f59035603f.jpg: 448x448 3 0s, 8.2ms\n",
      "image 257/942 /kaggle/working/face-detection-5/test/images/40769bb9ce21ba58_jpg.rf.75dc8e5e2c564a8d7de2cac4c8610f03.jpg: 448x448 2 0s, 8.2ms\n",
      "image 258/942 /kaggle/working/face-detection-5/test/images/408654f49e1d3d63_jpg.rf.7dac0950dea5c9a068baa446becb1146.jpg: 448x448 4 0s, 8.1ms\n",
      "image 259/942 /kaggle/working/face-detection-5/test/images/40b689a50c7c6f7f_jpg.rf.831b995a583625dd2fb01685561d7ccf.jpg: 448x448 4 0s, 8.1ms\n",
      "image 260/942 /kaggle/working/face-detection-5/test/images/40dfb4565594ce74_jpg.rf.48b74f86174d41df55869a01925d5442.jpg: 448x448 3 0s, 8.4ms\n",
      "image 261/942 /kaggle/working/face-detection-5/test/images/410f0be70b3f0862_jpg.rf.1dcf5b1a9264adb585ac7432ce185e3e.jpg: 448x448 4 0s, 8.2ms\n",
      "image 262/942 /kaggle/working/face-detection-5/test/images/4124eb2420f016b6_jpg.rf.0556a9c9cb2f345fd9f968042e73305b.jpg: 448x448 5 0s, 8.1ms\n",
      "image 263/942 /kaggle/working/face-detection-5/test/images/4132474504316653_jpg.rf.0699023bfbcf15fa490f8f5cd9f519fa.jpg: 448x448 2 0s, 9.1ms\n",
      "image 264/942 /kaggle/working/face-detection-5/test/images/419eadaafb4bb753_jpg.rf.6370f261ce1c8f8f1d8c41e72b366054.jpg: 448x448 4 0s, 8.4ms\n",
      "image 265/942 /kaggle/working/face-detection-5/test/images/424d922cdb8fe1f8_jpg.rf.2d57131256a61f899ec4beca74fb30f2.jpg: 448x448 7 0s, 8.5ms\n",
      "image 266/942 /kaggle/working/face-detection-5/test/images/430430f6ecb11792_jpg.rf.b83b027e00361c6ff589deb8259f685c.jpg: 448x448 3 0s, 8.2ms\n",
      "image 267/942 /kaggle/working/face-detection-5/test/images/435060feff710062_jpg.rf.8a73ed8c50cae612a68d5981eec4d361.jpg: 448x448 2 0s, 8.4ms\n",
      "image 268/942 /kaggle/working/face-detection-5/test/images/43b3d80b27b988db_jpg.rf.5a8c787b9497721d2b0e7ec4084e583d.jpg: 448x448 2 0s, 8.4ms\n",
      "image 269/942 /kaggle/working/face-detection-5/test/images/43f4c5f2ed73460f_jpg.rf.da77b2684ef306ad4585c412865a5c42.jpg: 448x448 1 0, 8.3ms\n",
      "image 270/942 /kaggle/working/face-detection-5/test/images/43fe5d8014ced01a_jpg.rf.91d24ed022acd662f667eb512a8035b6.jpg: 448x448 2 0s, 8.3ms\n",
      "image 271/942 /kaggle/working/face-detection-5/test/images/4400e657a0621480_jpg.rf.79815339a4e0158565de4b261629953f.jpg: 448x448 1 0, 8.4ms\n",
      "image 272/942 /kaggle/working/face-detection-5/test/images/44446c0c825b6afd_jpg.rf.40e20f07455518d1a6f5baf561dc4bbf.jpg: 448x448 4 0s, 8.5ms\n",
      "image 273/942 /kaggle/working/face-detection-5/test/images/44c3ac88f06b8407_jpg.rf.b5c85d0bfffb83a591d32e7a5b5000a6.jpg: 448x448 (no detections), 8.7ms\n",
      "image 274/942 /kaggle/working/face-detection-5/test/images/44d27e6fa72d977e_jpg.rf.27f0aeb1827378abc6abb232ba147aab.jpg: 448x448 1 0, 8.7ms\n",
      "image 275/942 /kaggle/working/face-detection-5/test/images/4516d8b43326ea29_jpg.rf.5d0fd5afe3585f8d79c08e5c02d5912c.jpg: 448x448 1 0, 8.5ms\n",
      "image 276/942 /kaggle/working/face-detection-5/test/images/4522878150d953a2_jpg.rf.ba8742d2b3d482222b8b697425a37bfb.jpg: 448x448 1 0, 8.7ms\n",
      "image 277/942 /kaggle/working/face-detection-5/test/images/452843d05963fdef_jpg.rf.77fbbd54aec99e655e3bc8da22c7ec77.jpg: 448x448 2 0s, 8.9ms\n",
      "image 278/942 /kaggle/working/face-detection-5/test/images/4574a9ba3caab324_jpg.rf.8ff9f66fa0602a2df9819559b922ad95.jpg: 448x448 2 0s, 8.3ms\n",
      "image 279/942 /kaggle/working/face-detection-5/test/images/4579be8164550f34_jpg.rf.20efcd0fccdde11bdbb6ca8a6e5e2ab3.jpg: 448x448 5 0s, 8.4ms\n",
      "image 280/942 /kaggle/working/face-detection-5/test/images/45_jpg.rf.a372f5ae552885ca725f43e045ae8ac9.jpg: 448x448 1 1, 8.4ms\n",
      "image 281/942 /kaggle/working/face-detection-5/test/images/45a0d9958c20d306_jpg.rf.b9c27792ba8d4966850ebde594b59ad5.jpg: 448x448 2 0s, 9.3ms\n",
      "image 282/942 /kaggle/working/face-detection-5/test/images/45b64e960ab8ac93_jpg.rf.b68e6e7567b5f1b8f59c094694b21c63.jpg: 448x448 3 0s, 8.9ms\n",
      "image 283/942 /kaggle/working/face-detection-5/test/images/45d257c3431759fd_jpg.rf.d79c63ba3d8c2fff3f8843aa64eb140b.jpg: 448x448 1 0, 9.4ms\n",
      "image 284/942 /kaggle/working/face-detection-5/test/images/45efd99a37a0c1d5_jpg.rf.6e53e8c795a09a88244f284d2fe9262a.jpg: 448x448 2 0s, 9.0ms\n",
      "image 285/942 /kaggle/working/face-detection-5/test/images/46101b7d614a2773_jpg.rf.9c4ecfc366f4ea266a20ab51ef803f7a.jpg: 448x448 3 0s, 8.5ms\n",
      "image 286/942 /kaggle/working/face-detection-5/test/images/468655a67c82f3ea_jpg.rf.5a05267da4eebdfc842e95335c5b43df.jpg: 448x448 (no detections), 8.3ms\n",
      "image 287/942 /kaggle/working/face-detection-5/test/images/46d2d455a8618e46_jpg.rf.7c384c8775755e6567d7daf3c25a4459.jpg: 448x448 2 0s, 8.0ms\n",
      "image 288/942 /kaggle/working/face-detection-5/test/images/47421f2db782ff16_jpg.rf.ea0dd6210d7b084be57285904d03850c.jpg: 448x448 7 0s, 8.4ms\n",
      "image 289/942 /kaggle/working/face-detection-5/test/images/47825d5eac2fd6ea_jpg.rf.6bcc2e19abd1536136e9c9414b28b675.jpg: 448x448 1 0, 8.4ms\n",
      "image 290/942 /kaggle/working/face-detection-5/test/images/4795fc917abe5da7_jpg.rf.383172c90eb2af56b140071a4f37936a.jpg: 448x448 1 0, 8.2ms\n",
      "image 291/942 /kaggle/working/face-detection-5/test/images/47ae926d5048098a_jpg.rf.d1e954bb7ee855b2d8b965049f21b974.jpg: 448x448 4 0s, 8.5ms\n",
      "image 292/942 /kaggle/working/face-detection-5/test/images/47fec636d144f742_jpg.rf.6e4a43a9c0eea2b972117fa02b045c9f.jpg: 448x448 3 0s, 8.3ms\n",
      "image 293/942 /kaggle/working/face-detection-5/test/images/480318bab5089b74_jpg.rf.b97ad3d39f822046b3b405595e7ffc01.jpg: 448x448 2 0s, 8.2ms\n",
      "image 294/942 /kaggle/working/face-detection-5/test/images/480e318bd242ed89_jpg.rf.4275f051894b5b038eb5c3c1c2961ba0.jpg: 448x448 2 0s, 8.2ms\n",
      "image 295/942 /kaggle/working/face-detection-5/test/images/4977c6c066da3d33_jpg.rf.e653a656fec46b1e58fab7e781da62a3.jpg: 448x448 4 0s, 8.0ms\n",
      "image 296/942 /kaggle/working/face-detection-5/test/images/49c6193561348420_jpg.rf.02862f61544e325b4400ef9f86fe8b1e.jpg: 448x448 2 0s, 8.3ms\n",
      "image 297/942 /kaggle/working/face-detection-5/test/images/49f860fb53853f96_jpg.rf.57ded7671da493b5457d8a495d5c0bd4.jpg: 448x448 1 0, 8.1ms\n",
      "image 298/942 /kaggle/working/face-detection-5/test/images/4a339bea715eee61_jpg.rf.199d147250ce8d4958485aad95308d6b.jpg: 448x448 1 0, 8.0ms\n",
      "image 299/942 /kaggle/working/face-detection-5/test/images/4a4fff9fd5393c40_jpg.rf.0520d63e1654703781fec0ddccb12f45.jpg: 448x448 2 0s, 7.9ms\n",
      "image 300/942 /kaggle/working/face-detection-5/test/images/4a9c1e52dcb0d3b7_jpg.rf.755daf28b2389a776d9ca833436e7193.jpg: 448x448 1 0, 8.2ms\n",
      "image 301/942 /kaggle/working/face-detection-5/test/images/4b472e4cdc4f2be0_jpg.rf.2b808007c1b358f31b0f7faba00eb0af.jpg: 448x448 5 0s, 8.0ms\n",
      "image 302/942 /kaggle/working/face-detection-5/test/images/4b95732b46da9465_jpg.rf.6dc1bc76c7cee0fadba6deb44a433453.jpg: 448x448 1 0, 8.1ms\n",
      "image 303/942 /kaggle/working/face-detection-5/test/images/4bc3a4be455b3f29_jpg.rf.b1a3835e7f72a17988d9c831ab6d7d24.jpg: 448x448 2 0s, 9.0ms\n",
      "image 304/942 /kaggle/working/face-detection-5/test/images/4bf33b6eabbf15c4_jpg.rf.8373c832ef22714f6e554e1e3b5a921d.jpg: 448x448 2 0s, 8.3ms\n",
      "image 305/942 /kaggle/working/face-detection-5/test/images/4c5a6814277ee217_jpg.rf.d65dee4c486126a11fbea4b42f24c882.jpg: 448x448 3 0s, 8.3ms\n",
      "image 306/942 /kaggle/working/face-detection-5/test/images/4c73e8e34c83629b_jpg.rf.952505f7af637c5cee5025f7afafa1bf.jpg: 448x448 9 0s, 8.2ms\n",
      "image 307/942 /kaggle/working/face-detection-5/test/images/4ca7b2cae1b4649f_jpg.rf.46445ce899d16bab6e9b6b50ef925470.jpg: 448x448 11 0s, 8.0ms\n",
      "image 308/942 /kaggle/working/face-detection-5/test/images/4cdd88b6a5035988_jpg.rf.bf31fed958de22570265ae81277c8e5f.jpg: 448x448 1 0, 8.2ms\n",
      "image 309/942 /kaggle/working/face-detection-5/test/images/4d176209c77b8b60_jpg.rf.1fe135486dd287d1c1171f645fe21237.jpg: 448x448 1 0, 8.1ms\n",
      "image 310/942 /kaggle/working/face-detection-5/test/images/4d369d3e9ac2d448_jpg.rf.72b7b74330bd3cdd4e7d4fbd6522fce3.jpg: 448x448 1 0, 8.7ms\n",
      "image 311/942 /kaggle/working/face-detection-5/test/images/4d748c7a668427b6_jpg.rf.c229f31910ca6487247d546301c742ad.jpg: 448x448 1 0, 8.2ms\n",
      "image 312/942 /kaggle/working/face-detection-5/test/images/4dcd9819a81c25b9_jpg.rf.c0e08ea30e59d0525f5e907b60923a31.jpg: 448x448 1 0, 9.2ms\n",
      "image 313/942 /kaggle/working/face-detection-5/test/images/4e1c852efbb68cc3_jpg.rf.7281b1437c68d34a6c3dbf7863ef0605.jpg: 448x448 3 0s, 8.9ms\n",
      "image 314/942 /kaggle/working/face-detection-5/test/images/4e2bbfb79b64400e_jpg.rf.e3b0c51ac674f0a38be42e2e7360e64b.jpg: 448x448 1 0, 8.9ms\n",
      "image 315/942 /kaggle/working/face-detection-5/test/images/4e3048757cb02ac8_jpg.rf.d8c6fefce8e12bd9eb123271c67fd71c.jpg: 448x448 2 0s, 8.8ms\n",
      "image 316/942 /kaggle/working/face-detection-5/test/images/4e481c4bf9ac972e_jpg.rf.3c3f94fb9c5daa6b32aefc61ed99a11f.jpg: 448x448 2 0s, 9.1ms\n",
      "image 317/942 /kaggle/working/face-detection-5/test/images/4f0368210da9e9fe_jpg.rf.1fe3c11e1230c3d7f8937c60b22d9d5b.jpg: 448x448 1 0, 8.6ms\n",
      "image 318/942 /kaggle/working/face-detection-5/test/images/4f0881e24c6303bd_jpg.rf.c3d0f6a56c38e063a03ff1901701eb80.jpg: 448x448 1 0, 8.6ms\n",
      "image 319/942 /kaggle/working/face-detection-5/test/images/4f0e48e1e6384aa5_jpg.rf.43aa5227d7c2202b9d6c5ec71ad863ae.jpg: 448x448 (no detections), 8.4ms\n",
      "image 320/942 /kaggle/working/face-detection-5/test/images/4f3022169c46ab6c_jpg.rf.adbd8c32d57d428bad241c388d7ed79f.jpg: 448x448 2 0s, 8.7ms\n",
      "image 321/942 /kaggle/working/face-detection-5/test/images/4f3822f6ecfeef5e_jpg.rf.dbc3260bb062d1dc9fe4bb4b823c3b14.jpg: 448x448 1 0, 8.1ms\n",
      "image 322/942 /kaggle/working/face-detection-5/test/images/5020ad494ce7f67c_jpg.rf.3d6a923673bf7b0bce5f0c1d91b153a0.jpg: 448x448 3 0s, 8.5ms\n",
      "image 323/942 /kaggle/working/face-detection-5/test/images/506530d91f81ca65_jpg.rf.1f4f46938e42873a385e195a32d8847b.jpg: 448x448 1 0, 8.7ms\n",
      "image 324/942 /kaggle/working/face-detection-5/test/images/5098fe5341dd4f55_jpg.rf.ff4353bbfebe9c901e662772c8f470a9.jpg: 448x448 1 0, 8.4ms\n",
      "image 325/942 /kaggle/working/face-detection-5/test/images/50ef83941fe9dcaa_jpg.rf.b014e87515b46de01c97ac1ebcf170be.jpg: 448x448 1 0, 8.3ms\n",
      "image 326/942 /kaggle/working/face-detection-5/test/images/511506f65ec0a3ec_jpg.rf.61fa4902cabdf7e14287f65ca1598bfa.jpg: 448x448 4 0s, 8.4ms\n",
      "image 327/942 /kaggle/working/face-detection-5/test/images/51202c73cd7b8506_jpg.rf.9a6caa7fb2df9d0ed38064163ca78678.jpg: 448x448 4 0s, 8.2ms\n",
      "image 328/942 /kaggle/working/face-detection-5/test/images/5161745d06a789c5_jpg.rf.71b7f180fff92097531c23d99581ccb6.jpg: 448x448 5 0s, 8.2ms\n",
      "image 329/942 /kaggle/working/face-detection-5/test/images/518a5088705b3b6a_jpg.rf.0d206ed323635f809313dd3dd65e3e62.jpg: 448x448 7 0s, 8.2ms\n",
      "image 330/942 /kaggle/working/face-detection-5/test/images/5192b2741be6d953_jpg.rf.62560c69db5070248aada4923e280e5d.jpg: 448x448 1 0, 8.2ms\n",
      "image 331/942 /kaggle/working/face-detection-5/test/images/51983eb26b77ae70_jpg.rf.2474eab163373e499e2b947bcbe5a4fd.jpg: 448x448 1 0, 8.2ms\n",
      "image 332/942 /kaggle/working/face-detection-5/test/images/51_jpg.rf.14b7f0c59968c9692daf2f276211e984.jpg: 448x448 1 1, 8.9ms\n",
      "image 333/942 /kaggle/working/face-detection-5/test/images/51de8571d46d8bb4_jpg.rf.981311196172073e9bd68bb37d7cbb94.jpg: 448x448 2 0s, 9.0ms\n",
      "image 334/942 /kaggle/working/face-detection-5/test/images/51fb8ba72ce55abd_jpg.rf.1147bd884523104d634bd09dc201f293.jpg: 448x448 1 0, 8.5ms\n",
      "image 335/942 /kaggle/working/face-detection-5/test/images/52f1521e8caa4878_jpg.rf.2e1622cdfe63695a0c01c90c0d8f7368.jpg: 448x448 1 0, 8.6ms\n",
      "image 336/942 /kaggle/working/face-detection-5/test/images/551606913bb6ea56_jpg.rf.919491fee0f33a205b8ab9ddc52c596e.jpg: 448x448 1 0, 8.3ms\n",
      "image 337/942 /kaggle/working/face-detection-5/test/images/553713725361bb7d_jpg.rf.09a06f7f99e0c0cc2dcac8f8e738c7eb.jpg: 448x448 1 0, 8.2ms\n",
      "image 338/942 /kaggle/working/face-detection-5/test/images/558205d52b235921_jpg.rf.2b60a5e378c9aeadae20be63c804cdc6.jpg: 448x448 1 0, 8.2ms\n",
      "image 339/942 /kaggle/working/face-detection-5/test/images/55_jpg.rf.fde198832b3281450c367a8a56617e53.jpg: 448x448 1 1, 8.1ms\n",
      "image 340/942 /kaggle/working/face-detection-5/test/images/55b3526f371e5167_jpg.rf.cb812019024f6337476a9079c393c8e8.jpg: 448x448 1 0, 8.2ms\n",
      "image 341/942 /kaggle/working/face-detection-5/test/images/55e888e37c2e1c84_jpg.rf.da66185a6ec62c1fe099b89f9773ef23.jpg: 448x448 2 0s, 8.6ms\n",
      "image 342/942 /kaggle/working/face-detection-5/test/images/55f1f6b5fd6b9284_jpg.rf.c769657def0fe7911dbf228090218c48.jpg: 448x448 3 0s, 8.7ms\n",
      "image 343/942 /kaggle/working/face-detection-5/test/images/568a56ff602443d1_jpg.rf.f3d0074d717c1003eb4ffb7266ba16cf.jpg: 448x448 1 0, 9.2ms\n",
      "image 344/942 /kaggle/working/face-detection-5/test/images/56bc59d459bb0acf_jpg.rf.a8b992a99326d70dc96aec4fdfc1c7d3.jpg: 448x448 1 0, 9.1ms\n",
      "image 345/942 /kaggle/working/face-detection-5/test/images/56d60a79b512cd01_jpg.rf.ef0bd41fa47c66c0579472b0022709a1.jpg: 448x448 2 0s, 8.8ms\n",
      "image 346/942 /kaggle/working/face-detection-5/test/images/56f2fd66ad529b71_jpg.rf.f6a0a2bab5ba26f20e43e27be37d58ba.jpg: 448x448 (no detections), 8.6ms\n",
      "image 347/942 /kaggle/working/face-detection-5/test/images/571203f5d4297ab9_jpg.rf.1391d490784b0bfd9dca0b3b57d6d4b9.jpg: 448x448 5 0s, 8.5ms\n",
      "image 348/942 /kaggle/working/face-detection-5/test/images/580ae1c06350e4fe_jpg.rf.02bc105b02619f46b917b97d7ac21286.jpg: 448x448 1 0, 8.6ms\n",
      "image 349/942 /kaggle/working/face-detection-5/test/images/584bad06d826272a_jpg.rf.99aa5f4c06d2231bc0564a337a1d4b57.jpg: 448x448 1 0, 8.5ms\n",
      "image 350/942 /kaggle/working/face-detection-5/test/images/58838b88b978dd02_jpg.rf.21c5134553487b71386cd0c67d0cd5c2.jpg: 448x448 3 0s, 8.8ms\n",
      "image 351/942 /kaggle/working/face-detection-5/test/images/58d141fd1da0482e_jpg.rf.94b6f7be61f3066acc060a96c58be0bf.jpg: 448x448 1 0, 8.3ms\n",
      "image 352/942 /kaggle/working/face-detection-5/test/images/58f468542ee1883b_jpg.rf.117b96f6094ce08083eb267710e7f5c7.jpg: 448x448 1 0, 8.6ms\n",
      "image 353/942 /kaggle/working/face-detection-5/test/images/590cefd3434de9ac_jpg.rf.045c6ee8724d25b8f9d61bf01ed294ea.jpg: 448x448 1 0, 8.6ms\n",
      "image 354/942 /kaggle/working/face-detection-5/test/images/598b0bc6f490b5f6_jpg.rf.412fa0cb006d70aa418820f0f39abed7.jpg: 448x448 4 0s, 8.5ms\n",
      "image 355/942 /kaggle/working/face-detection-5/test/images/59ba3384ea50fe3d_jpg.rf.26fea3a1e4ed9345339a84323c4421a7.jpg: 448x448 2 0s, 8.3ms\n",
      "image 356/942 /kaggle/working/face-detection-5/test/images/5a59106612f9806a_jpg.rf.72d2a9a495da456a26ef0d087324b16e.jpg: 448x448 2 0s, 8.4ms\n",
      "image 357/942 /kaggle/working/face-detection-5/test/images/5a5febe474e98528_jpg.rf.56ead3fe9e38945b21fc40c705c0f2ba.jpg: 448x448 1 0, 8.4ms\n",
      "image 358/942 /kaggle/working/face-detection-5/test/images/5b898f93c9268329_jpg.rf.ef3415e95db30fa05ddee553f13eba3a.jpg: 448x448 2 0s, 8.2ms\n",
      "image 359/942 /kaggle/working/face-detection-5/test/images/5cdc79d61dd19741_jpg.rf.d980baad5f3c965f12fc1d2175b5cd1c.jpg: 448x448 1 0, 8.3ms\n",
      "image 360/942 /kaggle/working/face-detection-5/test/images/5cde41936e4863d7_jpg.rf.2b76ff67f11a4a03d1a980881be7f8d7.jpg: 448x448 4 0s, 9.1ms\n",
      "image 361/942 /kaggle/working/face-detection-5/test/images/5e178bb502a799b5_jpg.rf.507f30f2a76a08c48f33bd51cef6247c.jpg: 448x448 1 0, 8.6ms\n",
      "image 362/942 /kaggle/working/face-detection-5/test/images/5e18113ec4280666_jpg.rf.0e181458bb25a91dc420905fca60e7f2.jpg: 448x448 3 0s, 8.3ms\n",
      "image 363/942 /kaggle/working/face-detection-5/test/images/5f89bc6c767149e5_jpg.rf.6a76e2fc009d6954808dfe7b4980785f.jpg: 448x448 7 0s, 8.3ms\n",
      "image 364/942 /kaggle/working/face-detection-5/test/images/5f8cc07adb9772bb_jpg.rf.4de92857dce4524e90965fde8fac77e9.jpg: 448x448 10 0s, 8.3ms\n",
      "image 365/942 /kaggle/working/face-detection-5/test/images/5f9da6f3099cc847_jpg.rf.11b3ec48af7f36172703bc3f8f072426.jpg: 448x448 1 0, 8.4ms\n",
      "image 366/942 /kaggle/working/face-detection-5/test/images/5fb2d8e734956af0_jpg.rf.8557a164a60716fa92c5ed3d11797025.jpg: 448x448 3 0s, 8.4ms\n",
      "image 367/942 /kaggle/working/face-detection-5/test/images/5fcce71fb66e7068_jpg.rf.19fd64ecc0326ae36436e5151e6dcd6d.jpg: 448x448 2 0s, 8.5ms\n",
      "image 368/942 /kaggle/working/face-detection-5/test/images/604b37244c780c3e_jpg.rf.b84d8fa5121f838615008d7d9ffac266.jpg: 448x448 2 0s, 8.2ms\n",
      "image 369/942 /kaggle/working/face-detection-5/test/images/606b8a6904145c60_jpg.rf.4f4ba356fa33f7743f7122e2af08e68c.jpg: 448x448 2 0s, 9.1ms\n",
      "image 370/942 /kaggle/working/face-detection-5/test/images/6085b0c671f82e11_jpg.rf.dd784f1031f9ab90e238edbd17541ae0.jpg: 448x448 2 0s, 9.3ms\n",
      "image 371/942 /kaggle/working/face-detection-5/test/images/608f9bf75b5074c6_jpg.rf.714412d0dc8a57870dabeca14254d575.jpg: 448x448 1 0, 8.8ms\n",
      "image 372/942 /kaggle/working/face-detection-5/test/images/6137e72f4b9da9e6_jpg.rf.a57e4b68392a3e240f9034525bd69276.jpg: 448x448 2 0s, 8.6ms\n",
      "image 373/942 /kaggle/working/face-detection-5/test/images/61d888e40a486f08_jpg.rf.890fc3c4b88593c279bdce93c478d3e8.jpg: 448x448 3 0s, 8.6ms\n",
      "image 374/942 /kaggle/working/face-detection-5/test/images/61de2d1ba2338625_jpg.rf.11ba55aad1d7bfad23e049aa7a75227e.jpg: 448x448 1 0, 8.3ms\n",
      "image 375/942 /kaggle/working/face-detection-5/test/images/629dd840795bfaeb_jpg.rf.e7f9f4bd79777e16e696651b843c6ec2.jpg: 448x448 2 0s, 8.2ms\n",
      "image 376/942 /kaggle/working/face-detection-5/test/images/62c0269fa16d2bdf_jpg.rf.0964ca5f76991b06baf277f506d11f7d.jpg: 448x448 1 0, 8.1ms\n",
      "image 377/942 /kaggle/working/face-detection-5/test/images/62fa79739a5260c9_jpg.rf.84bf65bef0af649fd41609eb84e68109.jpg: 448x448 1 0, 8.0ms\n",
      "image 378/942 /kaggle/working/face-detection-5/test/images/63325d7b4a515231_jpg.rf.8e7e60ad1b7453f0c850800177fd9aab.jpg: 448x448 3 0s, 8.0ms\n",
      "image 379/942 /kaggle/working/face-detection-5/test/images/638ca721a82e53de_jpg.rf.ba06c883618d00560547bd0423f03cb4.jpg: 448x448 5 0s, 8.2ms\n",
      "image 380/942 /kaggle/working/face-detection-5/test/images/63ca94c35b5695ed_jpg.rf.485953b1a0dec253235306b85b677d6e.jpg: 448x448 3 0s, 8.1ms\n",
      "image 381/942 /kaggle/working/face-detection-5/test/images/64ef5eaa01039b96_jpg.rf.356483682b162e925cc645298a2e0820.jpg: 448x448 1 0, 8.1ms\n",
      "image 382/942 /kaggle/working/face-detection-5/test/images/65036b1daf41a3b8_jpg.rf.45b9afe1bf9a94cc1a9b358f4c3ed565.jpg: 448x448 3 0s, 8.1ms\n",
      "image 383/942 /kaggle/working/face-detection-5/test/images/657f19f4b9190305_jpg.rf.29bcdabf4d0786fefd6cfc593606d25a.jpg: 448x448 7 0s, 8.2ms\n",
      "image 384/942 /kaggle/working/face-detection-5/test/images/65_jpg.rf.40f5e6f99d7d1c9233255b7e6ff49d2c.jpg: 448x448 1 1, 8.4ms\n",
      "image 385/942 /kaggle/working/face-detection-5/test/images/65e50dcb46264738_jpg.rf.dc1f21a3c966ede07b13551ee3ced8cf.jpg: 448x448 1 0, 8.1ms\n",
      "image 386/942 /kaggle/working/face-detection-5/test/images/65fc095c98a62927_jpg.rf.bca854428cb56d9cf031a08b4eb584e1.jpg: 448x448 1 0, 8.4ms\n",
      "image 387/942 /kaggle/working/face-detection-5/test/images/6604abbbe072ea97_jpg.rf.c3be6e68f18d3106d51cfb7e1e654b3c.jpg: 448x448 1 0, 8.6ms\n",
      "image 388/942 /kaggle/working/face-detection-5/test/images/66b162fe634f2814_jpg.rf.26888303484438549767f2aef54edee8.jpg: 448x448 1 0, 8.2ms\n",
      "image 389/942 /kaggle/working/face-detection-5/test/images/6732751e649f2df6_jpg.rf.4fb0642d83d652837395af013ff6ac71.jpg: 448x448 1 0, 8.1ms\n",
      "image 390/942 /kaggle/working/face-detection-5/test/images/67396db4c9bf2f9e_jpg.rf.84ad803ab8baa0cf9153a6c5d4c62fe0.jpg: 448x448 1 0, 8.1ms\n",
      "image 391/942 /kaggle/working/face-detection-5/test/images/67be61df4b28aac3_jpg.rf.74148a21e287176d3764dbe3270d2f39.jpg: 448x448 3 0s, 8.1ms\n",
      "image 392/942 /kaggle/working/face-detection-5/test/images/67e6d69386f5ce1a_jpg.rf.9fc4844142c002d450310c2588ddec7d.jpg: 448x448 1 0, 8.1ms\n",
      "image 393/942 /kaggle/working/face-detection-5/test/images/680a4ccf47b06818_jpg.rf.41d03044db7b405eb751b2850bd5e056.jpg: 448x448 1 0, 8.1ms\n",
      "image 394/942 /kaggle/working/face-detection-5/test/images/680bc73b7937e69e_jpg.rf.2dc4e2f8ffc1a4d421f58bb2ed7aa3d1.jpg: 448x448 6 0s, 8.0ms\n",
      "image 395/942 /kaggle/working/face-detection-5/test/images/6849fda671624e3f_jpg.rf.c6f089c3d96ef13553061f23abde09ff.jpg: 448x448 1 0, 8.7ms\n",
      "image 396/942 /kaggle/working/face-detection-5/test/images/6871c53b1f7216f7_jpg.rf.33794ca840a11c62f5f9c95bbf7fefbd.jpg: 448x448 11 0s, 8.5ms\n",
      "image 397/942 /kaggle/working/face-detection-5/test/images/68ad6439258e2010_jpg.rf.418777213434387d2128ef95ad280b32.jpg: 448x448 1 0, 9.1ms\n",
      "image 398/942 /kaggle/working/face-detection-5/test/images/68bf434a79e9dbb6_jpg.rf.63f033119d4cb57f63e36d9b4b942386.jpg: 448x448 1 0, 8.5ms\n",
      "image 399/942 /kaggle/working/face-detection-5/test/images/6955ae5b4bd66472_jpg.rf.8535ba0524268615957870fdab07a848.jpg: 448x448 2 0s, 8.5ms\n",
      "image 400/942 /kaggle/working/face-detection-5/test/images/698796e3d27b6177_jpg.rf.2129aeb317e3e730aba045936e82fb92.jpg: 448x448 (no detections), 8.3ms\n",
      "image 401/942 /kaggle/working/face-detection-5/test/images/69a3092542edc36f_jpg.rf.51ba5697e27ff96c6ad2648bd2eede73.jpg: 448x448 4 0s, 8.3ms\n",
      "image 402/942 /kaggle/working/face-detection-5/test/images/6a38ac87ee6ce288_jpg.rf.147db05f428c8b26798f394c212da3f9.jpg: 448x448 1 0, 8.6ms\n",
      "image 403/942 /kaggle/working/face-detection-5/test/images/6aac5e116b75aa22_jpg.rf.0174e93d466ba56f2e5afeb94418d7df.jpg: 448x448 1 0, 8.8ms\n",
      "image 404/942 /kaggle/working/face-detection-5/test/images/6ab89496abb3c05a_jpg.rf.fecd19dc363087b0bf449610caae3841.jpg: 448x448 1 0, 9.7ms\n",
      "image 405/942 /kaggle/working/face-detection-5/test/images/6afa3ff854b83e6b_jpg.rf.455e477c2dad324c3f43ec6c67cb1446.jpg: 448x448 (no detections), 9.2ms\n",
      "image 406/942 /kaggle/working/face-detection-5/test/images/6b05f3f41f64c0da_jpg.rf.f4d581cd95f753ab9ef9260ef4623a67.jpg: 448x448 1 0, 8.7ms\n",
      "image 407/942 /kaggle/working/face-detection-5/test/images/6b230b4abb1eb31f_jpg.rf.169106f2175ba9af6f8400a985fc566b.jpg: 448x448 5 0s, 8.9ms\n",
      "image 408/942 /kaggle/working/face-detection-5/test/images/6b234c85e95a6ca4_jpg.rf.1ce0c2a8c99e7dbd54b4b25f64827578.jpg: 448x448 9 0s, 8.4ms\n",
      "image 409/942 /kaggle/working/face-detection-5/test/images/6b73ae091747b10b_jpg.rf.5ca446278963210dbbfc1fd836da0993.jpg: 448x448 8 0s, 8.3ms\n",
      "image 410/942 /kaggle/working/face-detection-5/test/images/6b83fa85aae83c8e_jpg.rf.c85fc47d836e21edcf720d0bc9a12d94.jpg: 448x448 1 0, 8.3ms\n",
      "image 411/942 /kaggle/working/face-detection-5/test/images/6bac0f86387681ba_jpg.rf.5706957afb3e53760410423cb753016d.jpg: 448x448 1 0, 8.0ms\n",
      "image 412/942 /kaggle/working/face-detection-5/test/images/6bd195446e8664a0_jpg.rf.6cb8b3e04d3234aaf14fb3698b640d98.jpg: 448x448 1 0, 8.2ms\n",
      "image 413/942 /kaggle/working/face-detection-5/test/images/6bf660bb3e71c252_jpg.rf.0ae95fdc060ebb98f0a21ceb7fce1b29.jpg: 448x448 2 0s, 7.9ms\n",
      "image 414/942 /kaggle/working/face-detection-5/test/images/6bfdbd0ffcf9dcd4_jpg.rf.3d16d92a6656111ee9e5867a76f48f49.jpg: 448x448 2 0s, 8.0ms\n",
      "image 415/942 /kaggle/working/face-detection-5/test/images/6c2ebe3a0321200b_jpg.rf.9958183391e12c6de15e21079a641cf8.jpg: 448x448 1 0, 8.3ms\n",
      "image 416/942 /kaggle/working/face-detection-5/test/images/6c38e1164bdc313d_jpg.rf.f761d8ea9052f6412699e556af4acd2c.jpg: 448x448 2 0s, 8.4ms\n",
      "image 417/942 /kaggle/working/face-detection-5/test/images/6c414838dedcd2f9_jpg.rf.8495ab07cbd2a9550e2cce33c540c9ba.jpg: 448x448 2 0s, 8.2ms\n",
      "image 418/942 /kaggle/working/face-detection-5/test/images/6cad1fa50af1c0f7_jpg.rf.369747fe51aa622397572d5107871c11.jpg: 448x448 4 0s, 8.2ms\n",
      "image 419/942 /kaggle/working/face-detection-5/test/images/6ceaade5d1c9c3fd_jpg.rf.ee1a93ffb5e15c025e5eba1b91384b59.jpg: 448x448 2 0s, 8.1ms\n",
      "image 420/942 /kaggle/working/face-detection-5/test/images/6d1eac0b922baf3a_jpg.rf.d29c3fa0c80f6e3dce3d043b6d647526.jpg: 448x448 4 0s, 8.8ms\n",
      "image 421/942 /kaggle/working/face-detection-5/test/images/6e1dc067d05aec1d_jpg.rf.4406dd6784148cb67d2df99444ee0fd6.jpg: 448x448 1 0, 8.3ms\n",
      "image 422/942 /kaggle/working/face-detection-5/test/images/6efbeae3c2051b7e_jpg.rf.448472b7e25d96ff957739c3a7ac646a.jpg: 448x448 6 0s, 8.1ms\n",
      "image 423/942 /kaggle/working/face-detection-5/test/images/6f3571099775fcce_jpg.rf.13972902d45e6b2aef3775544ab7dc3e.jpg: 448x448 3 0s, 8.1ms\n",
      "image 424/942 /kaggle/working/face-detection-5/test/images/6f7d02113f4e0624_jpg.rf.21bf1349536f304b1920dd85eec4f901.jpg: 448x448 2 0s, 8.2ms\n",
      "image 425/942 /kaggle/working/face-detection-5/test/images/6ff56f872d56a243_jpg.rf.48d6fbcb01f8e9965fe22fecaf2732bf.jpg: 448x448 1 0, 8.2ms\n",
      "image 426/942 /kaggle/working/face-detection-5/test/images/6ff6599c1fa01947_jpg.rf.a0c8b4b64b85369791c3b5219cc492a0.jpg: 448x448 1 0, 8.6ms\n",
      "image 427/942 /kaggle/working/face-detection-5/test/images/6ffa380d89ab1d87_jpg.rf.48fab9204af36fa2ac01e02f0a865a47.jpg: 448x448 1 0, 9.3ms\n",
      "image 428/942 /kaggle/working/face-detection-5/test/images/702a25d7c57f7187_jpg.rf.96649240bc79515e4e1a3e2fd3002acf.jpg: 448x448 2 0s, 8.9ms\n",
      "image 429/942 /kaggle/working/face-detection-5/test/images/7082f4e303e7bfed_jpg.rf.dcc0f8ad373d0155ce1b8dba26b04317.jpg: 448x448 3 0s, 9.0ms\n",
      "image 430/942 /kaggle/working/face-detection-5/test/images/70b6c2bd1f6a3124_jpg.rf.4b237022778d5ee2c8a8c34290c43916.jpg: 448x448 2 0s, 9.2ms\n",
      "image 431/942 /kaggle/working/face-detection-5/test/images/70da5972f987fca2_jpg.rf.5c68584603f31b6fe47eda69c69c9506.jpg: 448x448 3 0s, 9.2ms\n",
      "image 432/942 /kaggle/working/face-detection-5/test/images/716a4ffe4a137984_jpg.rf.e75db6040c491eaa5b552c095616bfc5.jpg: 448x448 1 0, 8.5ms\n",
      "image 433/942 /kaggle/working/face-detection-5/test/images/7182f37cd75675e5_jpg.rf.a034b419e0be9de40d2634230135484a.jpg: 448x448 2 0s, 8.9ms\n",
      "image 434/942 /kaggle/working/face-detection-5/test/images/71_jpg.rf.6348f6dcadfedd7f1c1805e1fbb5ca37.jpg: 448x448 1 1, 8.6ms\n",
      "image 435/942 /kaggle/working/face-detection-5/test/images/71d50f508d50e7b4_jpg.rf.73da47ee7a10d964d2925f93aa298d5a.jpg: 448x448 1 0, 8.4ms\n",
      "image 436/942 /kaggle/working/face-detection-5/test/images/723b52df77b5e455_jpg.rf.d355206d1d2fe7a85995734beac32e82.jpg: 448x448 2 0s, 8.4ms\n",
      "image 437/942 /kaggle/working/face-detection-5/test/images/72488cdb2e3cbe7c_jpg.rf.722f24134ff370affb000614ee2612fa.jpg: 448x448 1 0, 9.0ms\n",
      "image 438/942 /kaggle/working/face-detection-5/test/images/7266b7e00580ed82_jpg.rf.ac44593dff09c529d41a746b696dd046.jpg: 448x448 3 0s, 9.2ms\n",
      "image 439/942 /kaggle/working/face-detection-5/test/images/729095f3f13fd0f3_jpg.rf.3c6ba312f666b21b309daae601d25176.jpg: 448x448 1 0, 9.1ms\n",
      "image 440/942 /kaggle/working/face-detection-5/test/images/7298cc71a2a23923_jpg.rf.2de66f8080de1a526058beeeb80ef64d.jpg: 448x448 1 0, 8.9ms\n",
      "image 441/942 /kaggle/working/face-detection-5/test/images/72b8a17fdb171f74_jpg.rf.b5c31f5e328800949d817705d17a55aa.jpg: 448x448 1 0, 8.9ms\n",
      "image 442/942 /kaggle/working/face-detection-5/test/images/72f5547b65653bbf_jpg.rf.8c893276888749b4180a7c2938b4486b.jpg: 448x448 9 0s, 8.7ms\n",
      "image 443/942 /kaggle/working/face-detection-5/test/images/732d77e8cce87486_jpg.rf.71941d274c247ef06d25572ddd4783ef.jpg: 448x448 1 0, 8.9ms\n",
      "image 444/942 /kaggle/working/face-detection-5/test/images/735f598cdf517ffe_jpg.rf.26258b6e82998f1dc258ed88c832ded1.jpg: 448x448 2 0s, 9.0ms\n",
      "image 445/942 /kaggle/working/face-detection-5/test/images/737183ef1f63abb0_jpg.rf.4794d04d0675bb76b4ad43cfd3646fe9.jpg: 448x448 1 0, 9.1ms\n",
      "image 446/942 /kaggle/working/face-detection-5/test/images/737c9507cc9ed324_jpg.rf.15323670b1b6ba03abc2d3ae4dccbf14.jpg: 448x448 4 0s, 8.7ms\n",
      "image 447/942 /kaggle/working/face-detection-5/test/images/7409c4c11b871f1b_jpg.rf.04dc621ce4a3355f5d1cfda3ae123328.jpg: 448x448 5 0s, 8.9ms\n",
      "image 448/942 /kaggle/working/face-detection-5/test/images/7417c773d53e7ec5_jpg.rf.727c65baa36b783a5549e57f615217cc.jpg: 448x448 1 0, 9.2ms\n",
      "image 449/942 /kaggle/working/face-detection-5/test/images/744ed03bc5445c5c_jpg.rf.90e07173402d46a50d69e3ac1896db3e.jpg: 448x448 2 0s, 9.2ms\n",
      "image 450/942 /kaggle/working/face-detection-5/test/images/74_jpg.rf.1d1af0f3ce896ff75bdba28edd1889ba.jpg: 448x448 1 1, 9.8ms\n",
      "image 451/942 /kaggle/working/face-detection-5/test/images/74df3805a750562f_jpg.rf.c37b878d16f273dcb554f639d2406c99.jpg: 448x448 1 0, 8.9ms\n",
      "image 452/942 /kaggle/working/face-detection-5/test/images/74ec97a911769db7_jpg.rf.a6eded40a33457cdd360a31dbf756abe.jpg: 448x448 4 0s, 8.9ms\n",
      "image 453/942 /kaggle/working/face-detection-5/test/images/74f2875846311a1a_jpg.rf.00bdede4c1774e0a876760a3444e2d28.jpg: 448x448 (no detections), 9.1ms\n",
      "image 454/942 /kaggle/working/face-detection-5/test/images/76cf6c68533f959d_jpg.rf.f190aa610d114c75bb298ce951281549.jpg: 448x448 1 0, 8.4ms\n",
      "image 455/942 /kaggle/working/face-detection-5/test/images/77_jpg.rf.5e8525ae681f6ae5d492bcd53ae9c0d8.jpg: 448x448 1 1, 8.4ms\n",
      "image 456/942 /kaggle/working/face-detection-5/test/images/77d1e825bdf98338_jpg.rf.50653cb115060de66ef20af38a76e078.jpg: 448x448 2 0s, 8.3ms\n",
      "image 457/942 /kaggle/working/face-detection-5/test/images/78_jpg.rf.d3fc00ebb9c69f05b44698ee39374d62.jpg: 448x448 1 1, 8.5ms\n",
      "image 458/942 /kaggle/working/face-detection-5/test/images/78d2b36ed33fef95_jpg.rf.221b560bfbb27155e0eabfb26bdca82f.jpg: 448x448 2 0s, 8.4ms\n",
      "image 459/942 /kaggle/working/face-detection-5/test/images/793abc565dbe876d_jpg.rf.84e34cd9d204438da171e251b7617bee.jpg: 448x448 7 0s, 8.8ms\n",
      "image 460/942 /kaggle/working/face-detection-5/test/images/7949b31c1a207106_jpg.rf.e3f2224730659f5ef6c42b134b431a13.jpg: 448x448 2 0s, 8.6ms\n",
      "image 461/942 /kaggle/working/face-detection-5/test/images/7986b3c7de368e0b_jpg.rf.30ce1cc999979b7fc0e4d2a314bc8937.jpg: 448x448 3 0s, 8.4ms\n",
      "image 462/942 /kaggle/working/face-detection-5/test/images/7a2b680a401857c2_jpg.rf.5319fa7d22fbda1e45f783fbdbad0d7b.jpg: 448x448 1 0, 8.5ms\n",
      "image 463/942 /kaggle/working/face-detection-5/test/images/7a57666b979882cf_jpg.rf.c44a6a2d65942a3bb591757c60a693e4.jpg: 448x448 1 0, 8.5ms\n",
      "image 464/942 /kaggle/working/face-detection-5/test/images/7a5f32beac752a5b_jpg.rf.9fc12e6909720be8b92a393277e2473c.jpg: 448x448 1 0, 8.9ms\n",
      "image 465/942 /kaggle/working/face-detection-5/test/images/7afc8861a9c7d201_jpg.rf.91a8da05a50cbea24e939f01044c147c.jpg: 448x448 2 0s, 8.6ms\n",
      "image 466/942 /kaggle/working/face-detection-5/test/images/7b0aa1e5dcc62adc_jpg.rf.8d4111a527834ba9fda87e876e085946.jpg: 448x448 1 0, 9.1ms\n",
      "image 467/942 /kaggle/working/face-detection-5/test/images/7b255bbf0ebe321e_jpg.rf.8058b6140afb006460d5ae38f320bf6e.jpg: 448x448 3 0s, 8.7ms\n",
      "image 468/942 /kaggle/working/face-detection-5/test/images/7b346b7df103fa8c_jpg.rf.86e227ed8976b9239e2876f897f6d96c.jpg: 448x448 2 0s, 8.5ms\n",
      "image 469/942 /kaggle/working/face-detection-5/test/images/7b34866c12b53e50_jpg.rf.8e66c7b9465629747803ea61d2dff168.jpg: 448x448 1 0, 8.7ms\n",
      "image 470/942 /kaggle/working/face-detection-5/test/images/7b38c1a3b3ed3ad3_jpg.rf.d383a82db232e684acb94399d1dbd836.jpg: 448x448 1 0, 8.6ms\n",
      "image 471/942 /kaggle/working/face-detection-5/test/images/7b91fc898dced083_jpg.rf.5211647b544ebc06e36833aabda79b7a.jpg: 448x448 2 0s, 8.2ms\n",
      "image 472/942 /kaggle/working/face-detection-5/test/images/7c22c15aee7432f5_jpg.rf.c229280198098a3da2d595fa499954fb.jpg: 448x448 1 0, 8.4ms\n",
      "image 473/942 /kaggle/working/face-detection-5/test/images/7d14207d25278af2_jpg.rf.e027f0d7c7e48c1b7e9cd3010378c435.jpg: 448x448 8 0s, 8.3ms\n",
      "image 474/942 /kaggle/working/face-detection-5/test/images/7d4e23b9c1006826_jpg.rf.fef48e9f802286ab2d3c3d48fe8e0f0f.jpg: 448x448 1 0, 8.3ms\n",
      "image 475/942 /kaggle/working/face-detection-5/test/images/7d528c68acf0cf36_jpg.rf.7cb7c97d6fc766039de153a122a82105.jpg: 448x448 4 0s, 8.3ms\n",
      "image 476/942 /kaggle/working/face-detection-5/test/images/7dbc753136402b2e_jpg.rf.2e4587849ea325a5f9715994b9d4e05a.jpg: 448x448 1 0, 8.6ms\n",
      "image 477/942 /kaggle/working/face-detection-5/test/images/7dee3fa2e0b3bc1c_jpg.rf.344736c41af7f20bb1094e42e4b7df9f.jpg: 448x448 1 0, 8.5ms\n",
      "image 478/942 /kaggle/working/face-detection-5/test/images/7df7199348b0b6e9_jpg.rf.0af06a8d0a096aa9448d969fe13e1f83.jpg: 448x448 1 0, 8.3ms\n",
      "image 479/942 /kaggle/working/face-detection-5/test/images/7e1de4ef69d0b3f7_jpg.rf.f0721eeb88022f8225bc29b867537237.jpg: 448x448 1 0, 8.4ms\n",
      "image 480/942 /kaggle/working/face-detection-5/test/images/7f495a8e2d7c557e_jpg.rf.b8ee7bd2979fd4773623b2decddd0744.jpg: 448x448 3 0s, 8.5ms\n",
      "image 481/942 /kaggle/working/face-detection-5/test/images/7f6143c83b4c269e_jpg.rf.d1ec685194b8d6ce1a85fd0997890652.jpg: 448x448 1 0, 8.5ms\n",
      "image 482/942 /kaggle/working/face-detection-5/test/images/7ff1a03a7e99ff0b_jpg.rf.85abfd9a18608eff6e5d525c81d9f269.jpg: 448x448 1 0, 8.7ms\n",
      "image 483/942 /kaggle/working/face-detection-5/test/images/7fff07dae2620878_jpg.rf.4d4f0670956c71ad8597dd8fb28abdc7.jpg: 448x448 2 0s, 8.6ms\n",
      "image 484/942 /kaggle/working/face-detection-5/test/images/8042162a25d5e2b3_jpg.rf.2b5b2d59f3c901fcf5d47a360d3fa6df.jpg: 448x448 2 0s, 8.6ms\n",
      "image 485/942 /kaggle/working/face-detection-5/test/images/80aae3cf28bbbaf2_jpg.rf.6883737146b3459bc6a95f5c15299e11.jpg: 448x448 1 0, 8.9ms\n",
      "image 486/942 /kaggle/working/face-detection-5/test/images/80c819bca6ea1b19_jpg.rf.affcfa17c8e561628bd60fc63fed4406.jpg: 448x448 1 0, 8.7ms\n",
      "image 487/942 /kaggle/working/face-detection-5/test/images/80fac8793a1a2e09_jpg.rf.48757a89c65d7866c2d3a81c9f770b53.jpg: 448x448 2 0s, 8.6ms\n",
      "image 488/942 /kaggle/working/face-detection-5/test/images/8112b75422260ea5_jpg.rf.9742be60a3d86a5b7aab7c95e0292ed0.jpg: 448x448 1 0, 8.9ms\n",
      "image 489/942 /kaggle/working/face-detection-5/test/images/81c806e55e02e549_jpg.rf.b191461f0932aeee1a96006003fc10c7.jpg: 448x448 1 0, 8.6ms\n",
      "image 490/942 /kaggle/working/face-detection-5/test/images/81eb6a0d0e6942cd_jpg.rf.b5273842f5178ad97fed10f6151e18f6.jpg: 448x448 1 0, 9.4ms\n",
      "image 491/942 /kaggle/working/face-detection-5/test/images/820dc1019e164904_jpg.rf.a79ccbff8aa3a19cc5908e1552e4c292.jpg: 448x448 6 0s, 8.6ms\n",
      "image 492/942 /kaggle/working/face-detection-5/test/images/82639d37c51f3730_jpg.rf.dbaf3a2f73c2f2feac8cbeecbed319e3.jpg: 448x448 2 0s, 9.4ms\n",
      "image 493/942 /kaggle/working/face-detection-5/test/images/8293f666582556dd_jpg.rf.c1490bd4f3d09d1e56c61f96a7f224a0.jpg: 448x448 2 0s, 8.4ms\n",
      "image 494/942 /kaggle/working/face-detection-5/test/images/82e556cdb6186ed9_jpg.rf.ea26c0451abc90dbe4b418427c4d560b.jpg: 448x448 2 0s, 8.3ms\n",
      "image 495/942 /kaggle/working/face-detection-5/test/images/83683194f202114f_jpg.rf.25a1673a69529b0af90aaad9c7963320.jpg: 448x448 1 0, 8.8ms\n",
      "image 496/942 /kaggle/working/face-detection-5/test/images/836b6bf2125879b0_jpg.rf.15976ff98460d1d4e27842ccfe71f617.jpg: 448x448 2 0s, 8.5ms\n",
      "image 497/942 /kaggle/working/face-detection-5/test/images/84106314e0abd688_jpg.rf.1ec66e2e03f84e602f92c22a023f6460.jpg: 448x448 1 0, 8.3ms\n",
      "image 498/942 /kaggle/working/face-detection-5/test/images/844b6ecb9020fc66_jpg.rf.64f534c97d158a2d9b1972a4b500fe58.jpg: 448x448 1 0, 8.9ms\n",
      "image 499/942 /kaggle/working/face-detection-5/test/images/8467d4b756bb475f_jpg.rf.e2d457a2b7fce2a8be5b85847da5b9ea.jpg: 448x448 3 0s, 9.0ms\n",
      "image 500/942 /kaggle/working/face-detection-5/test/images/847761423e91b5c6_jpg.rf.70c5ba06faba9113e1808c96b2f604f5.jpg: 448x448 7 0s, 8.4ms\n",
      "image 501/942 /kaggle/working/face-detection-5/test/images/8537f2db1fd6b705_jpg.rf.12d942161bc97d85d2c0a03a8f24756a.jpg: 448x448 1 0, 8.9ms\n",
      "image 502/942 /kaggle/working/face-detection-5/test/images/853926f8968765d8_jpg.rf.1f81f1ce48743677302357e29ca4e346.jpg: 448x448 4 0s, 8.8ms\n",
      "image 503/942 /kaggle/working/face-detection-5/test/images/85591f5ebe83bfb6_jpg.rf.997441c49853ad42433710df593ad680.jpg: 448x448 2 0s, 8.8ms\n",
      "image 504/942 /kaggle/working/face-detection-5/test/images/8581a7030b14d220_jpg.rf.4d647fee808e2151b9151238e3f466c3.jpg: 448x448 3 0s, 9.1ms\n",
      "image 505/942 /kaggle/working/face-detection-5/test/images/8586ba085efdd55f_jpg.rf.0b776d409c3dae4d5ef49a84db21f371.jpg: 448x448 1 0, 8.8ms\n",
      "image 506/942 /kaggle/working/face-detection-5/test/images/85d1ddf23e9070b8_jpg.rf.e932ffc3b86b9d86d416600da13d40a0.jpg: 448x448 1 0, 8.8ms\n",
      "image 507/942 /kaggle/working/face-detection-5/test/images/85eb85fa89fdc8ac_jpg.rf.0696bd557f541ebb1871ce038e4186fa.jpg: 448x448 2 0s, 8.8ms\n",
      "image 508/942 /kaggle/working/face-detection-5/test/images/85f664989cc8fa6b_jpg.rf.01189e86b2def5783fd5fcb870beb669.jpg: 448x448 1 0, 8.9ms\n",
      "image 509/942 /kaggle/working/face-detection-5/test/images/862e9f5808ee3e38_jpg.rf.42fd8094b28ad67d8f06840c554b58f5.jpg: 448x448 2 0s, 8.8ms\n",
      "image 510/942 /kaggle/working/face-detection-5/test/images/866ea45dc7c2c492_jpg.rf.f2f28a5bcd204c6ff4f015e6d2e4e194.jpg: 448x448 2 0s, 8.8ms\n",
      "image 511/942 /kaggle/working/face-detection-5/test/images/867ba164a8d82800_jpg.rf.078bf3da31cbc6e0fd7f76b0e62edd8e.jpg: 448x448 1 0, 9.0ms\n",
      "image 512/942 /kaggle/working/face-detection-5/test/images/86808a6db0bf4d15_jpg.rf.a05d1f349564af599bd1b274268fbf5d.jpg: 448x448 1 0, 8.6ms\n",
      "image 513/942 /kaggle/working/face-detection-5/test/images/86b6d96851e10871_jpg.rf.3c27eb8a1475cd910cbb4268067d36c5.jpg: 448x448 4 0s, 10.7ms\n",
      "image 514/942 /kaggle/working/face-detection-5/test/images/86ee259ea6bd7967_jpg.rf.9466c69b2fb4ca3e31326746217bab0b.jpg: 448x448 22 0s, 10.4ms\n",
      "image 515/942 /kaggle/working/face-detection-5/test/images/8732241c65f75572_jpg.rf.ec5937f14a2e7502357f2761bd991430.jpg: 448x448 4 0s, 10.2ms\n",
      "image 516/942 /kaggle/working/face-detection-5/test/images/8746526113c40d5a_jpg.rf.bea4313e80befa06a5eca098c36dd7fc.jpg: 448x448 1 0, 11.6ms\n",
      "image 517/942 /kaggle/working/face-detection-5/test/images/8780d81ffc4d7de5_jpg.rf.b03bd412cc65a648fbd95b98cefe4065.jpg: 448x448 3 0s, 11.5ms\n",
      "image 518/942 /kaggle/working/face-detection-5/test/images/87e635e08f04a17b_jpg.rf.95dce7a710e2d0c156f06e60a75921ff.jpg: 448x448 2 0s, 8.9ms\n",
      "image 519/942 /kaggle/working/face-detection-5/test/images/882edf2d15dd81e7_jpg.rf.b19702f16ae4500d0e7ba155154d3041.jpg: 448x448 1 0, 9.1ms\n",
      "image 520/942 /kaggle/working/face-detection-5/test/images/8889353A-A770-4064-BECB-1E104E82352B_jpg.rf.55558ccee887b9b1ed8bc32cfd42f381.jpg: 448x448 1 1, 9.1ms\n",
      "image 521/942 /kaggle/working/face-detection-5/test/images/88bb2bf8eb295a54_jpg.rf.bdd1e66f04865e8c823d55bbcce95261.jpg: 448x448 1 0, 9.1ms\n",
      "image 522/942 /kaggle/working/face-detection-5/test/images/88e731a1cd3202ae_jpg.rf.150d53916ac1660822c09971d205241e.jpg: 448x448 3 0s, 9.3ms\n",
      "image 523/942 /kaggle/working/face-detection-5/test/images/89679a821471a96d_jpg.rf.85c75374937bd305b249a9c9520485d8.jpg: 448x448 1 0, 9.1ms\n",
      "image 524/942 /kaggle/working/face-detection-5/test/images/8994ce896850939f_jpg.rf.3c73739fd7a187582648acfc0e04fe49.jpg: 448x448 3 0s, 9.1ms\n",
      "image 525/942 /kaggle/working/face-detection-5/test/images/89b9cdac40ae7aaf_jpg.rf.5c3ffeaabc902181face91f133aa5016.jpg: 448x448 2 0s, 9.5ms\n",
      "image 526/942 /kaggle/working/face-detection-5/test/images/89fd8be1ee2a5c90_jpg.rf.8d44934ecaa88038336655bc26297952.jpg: 448x448 8 0s, 8.8ms\n",
      "image 527/942 /kaggle/working/face-detection-5/test/images/89fe82d0277bdcf3_jpg.rf.1bba8c02f3e89e0b5e62c071bbae9156.jpg: 448x448 1 0, 9.0ms\n",
      "image 528/942 /kaggle/working/face-detection-5/test/images/8a0e8ec3f01f41f4_jpg.rf.54decbf7254ff6afd69e05a6e2b3c7ca.jpg: 448x448 1 0, 8.8ms\n",
      "image 529/942 /kaggle/working/face-detection-5/test/images/8a1f3ac8e2932142_jpg.rf.67b3bcb2e1aed57ae27783988a13b0d8.jpg: 448x448 1 0, 9.0ms\n",
      "image 530/942 /kaggle/working/face-detection-5/test/images/8a20177a9f691ef9_jpg.rf.749c529a419f104a26f01ec77978bd6a.jpg: 448x448 2 0s, 8.8ms\n",
      "image 531/942 /kaggle/working/face-detection-5/test/images/8a39a8d68a1fd2cf_jpg.rf.b464f8ce64a7b4fd45514b9a9691f93d.jpg: 448x448 2 0s, 8.8ms\n",
      "image 532/942 /kaggle/working/face-detection-5/test/images/8aa46f3b45dba377_jpg.rf.37507a5991d74a4d80f8bb4287f125c7.jpg: 448x448 12 0s, 8.7ms\n",
      "image 533/942 /kaggle/working/face-detection-5/test/images/8b3b66b6247bf28b_jpg.rf.6f8fcd81dcf5e3d3fbaa6220a38c4e9a.jpg: 448x448 2 0s, 9.2ms\n",
      "image 534/942 /kaggle/working/face-detection-5/test/images/8b87828dada405aa_jpg.rf.86ecc7605f23d96b50fafdfa06132761.jpg: 448x448 1 0, 8.9ms\n",
      "image 535/942 /kaggle/working/face-detection-5/test/images/8b9b7698298ae5e2_jpg.rf.9fb9de916ce2370e5862ace1d0811fb0.jpg: 448x448 3 0s, 11.1ms\n",
      "image 536/942 /kaggle/working/face-detection-5/test/images/8b9f72f0903c82e5_jpg.rf.41bdb14bfcf016a2ec2a6f36044139b1.jpg: 448x448 1 0, 9.3ms\n",
      "image 537/942 /kaggle/working/face-detection-5/test/images/8bf48f5b152e7513_jpg.rf.3970d54cc061912c343616fd23623731.jpg: 448x448 1 0, 9.1ms\n",
      "image 538/942 /kaggle/working/face-detection-5/test/images/8c02be70de37124d_jpg.rf.ce9c7bd9a7fbd781cdfffd3d25b4f109.jpg: 448x448 3 0s, 8.7ms\n",
      "image 539/942 /kaggle/working/face-detection-5/test/images/8c4d2aa2be025b7b_jpg.rf.be794ae359cb5bc297bc696554b67cc5.jpg: 448x448 3 0s, 9.2ms\n",
      "image 540/942 /kaggle/working/face-detection-5/test/images/8ca6c665fbbee2f5_jpg.rf.15903dffb40638be41e150c80fd35e21.jpg: 448x448 1 0, 9.0ms\n",
      "image 541/942 /kaggle/working/face-detection-5/test/images/8cb020c8cfcd291e_jpg.rf.4c6a32260ed09126b98bc37f6edf587f.jpg: 448x448 3 0s, 9.0ms\n",
      "image 542/942 /kaggle/working/face-detection-5/test/images/8cf8cede133f8839_jpg.rf.3aaf27f2b3dca9b794f58ff74bd66715.jpg: 448x448 3 0s, 8.9ms\n",
      "image 543/942 /kaggle/working/face-detection-5/test/images/8d2129a91bd1fa6e_jpg.rf.65fee24cf23e6a1b628aee04db8cab3e.jpg: 448x448 1 0, 9.1ms\n",
      "image 544/942 /kaggle/working/face-detection-5/test/images/8dd084bb8fa10f37_jpg.rf.0bedca58bc525c81ac4094cbfefc5640.jpg: 448x448 1 0, 8.8ms\n",
      "image 545/942 /kaggle/working/face-detection-5/test/images/8e4f20275f5b27df_jpg.rf.eba810c525c5f44bfe0bb1e118ffaf92.jpg: 448x448 1 0, 9.0ms\n",
      "image 546/942 /kaggle/working/face-detection-5/test/images/8e523fa8ccd15d49_jpg.rf.dfac33c9590c2ac3d98fb65507fead83.jpg: 448x448 5 0s, 8.9ms\n",
      "image 547/942 /kaggle/working/face-detection-5/test/images/8e98df9a53cb5d27_jpg.rf.ce7d5a9bae2a85f318944b719f127884.jpg: 448x448 1 0, 9.1ms\n",
      "image 548/942 /kaggle/working/face-detection-5/test/images/8ea2c189ec0a056e_jpg.rf.d5b64c1de70a7b6e8fccd14808cf792e.jpg: 448x448 7 0s, 8.9ms\n",
      "image 549/942 /kaggle/working/face-detection-5/test/images/8f01d67fe5333a5e_jpg.rf.866dc7be8bdd7ce9f024453b2f0def3a.jpg: 448x448 3 0s, 9.0ms\n",
      "image 550/942 /kaggle/working/face-detection-5/test/images/8f810d975068bb88_jpg.rf.6c11637080143224db2bc5cea298f0f2.jpg: 448x448 4 0s, 9.0ms\n",
      "image 551/942 /kaggle/working/face-detection-5/test/images/906b464468b45f8a_jpg.rf.fe459732c0aa93cc3a7ef4a5c44d2b63.jpg: 448x448 1 0, 8.7ms\n",
      "image 552/942 /kaggle/working/face-detection-5/test/images/912673d37e33ce1b_jpg.rf.7d611dcc3c06473f59ef4d8327a5c6ae.jpg: 448x448 2 0s, 9.1ms\n",
      "image 553/942 /kaggle/working/face-detection-5/test/images/91bd465f710089f0_jpg.rf.d3b6022a63c1336afc228c4a5a689eac.jpg: 448x448 4 0s, 9.0ms\n",
      "image 554/942 /kaggle/working/face-detection-5/test/images/91e002188bf8db74_jpg.rf.2bdebc5f9745d2fea192ca105be34ec4.jpg: 448x448 1 0, 9.6ms\n",
      "image 555/942 /kaggle/working/face-detection-5/test/images/9229cf3c1e124d25_jpg.rf.81f49faeec9c1c69cb723ee763f373cc.jpg: 448x448 2 0s, 8.9ms\n",
      "image 556/942 /kaggle/working/face-detection-5/test/images/92562df4e9adf14f_jpg.rf.36509ad03e43810c2ab798727a5d4c04.jpg: 448x448 2 0s, 9.0ms\n",
      "image 557/942 /kaggle/working/face-detection-5/test/images/92abd07a019e9239_jpg.rf.ecc3e1dc9b65b018502382a7c5675b8a.jpg: 448x448 1 0, 9.4ms\n",
      "image 558/942 /kaggle/working/face-detection-5/test/images/92dd332935ff2c45_jpg.rf.ae265599c2e75ae30b2af61296fe5745.jpg: 448x448 1 0, 9.1ms\n",
      "image 559/942 /kaggle/working/face-detection-5/test/images/92e342a53c89d606_jpg.rf.e5f13e1920230636aa5376ded3ef08cb.jpg: 448x448 7 0s, 8.9ms\n",
      "image 560/942 /kaggle/working/face-detection-5/test/images/92faa666bfd8ebb3_jpg.rf.b2860bbdf39f016f9c59b072fdec9034.jpg: 448x448 2 0s, 9.2ms\n",
      "image 561/942 /kaggle/working/face-detection-5/test/images/9309849f5d8da191_jpg.rf.3004b6ee838e121b0de38ebe2e367d9c.jpg: 448x448 2 0s, 8.9ms\n",
      "image 562/942 /kaggle/working/face-detection-5/test/images/93237fe0ec38dc87_jpg.rf.d9f9d47065157359dfe4ea838a85f8ca.jpg: 448x448 1 0, 8.8ms\n",
      "image 563/942 /kaggle/working/face-detection-5/test/images/9347f0ea39630df9_jpg.rf.cd57bca5f8037bafb2b4085fcf6f06e7.jpg: 448x448 5 0s, 8.9ms\n",
      "image 564/942 /kaggle/working/face-detection-5/test/images/944fab6cb5280539_jpg.rf.7c81cbdfa9b0784dfe747fe7c373406f.jpg: 448x448 1 0, 9.0ms\n",
      "image 565/942 /kaggle/working/face-detection-5/test/images/9459b76fc198394a_jpg.rf.5fc459ccf7aa021763fbfca8cb5dff34.jpg: 448x448 3 0s, 9.0ms\n",
      "image 566/942 /kaggle/working/face-detection-5/test/images/9465ec675f0868f5_jpg.rf.ffa430918d1edb94b2b783324cd88de2.jpg: 448x448 2 0s, 9.2ms\n",
      "image 567/942 /kaggle/working/face-detection-5/test/images/94c4b18c2f521dc6_jpg.rf.f1d46703a162dccf635c5c5ec0e85373.jpg: 448x448 2 0s, 9.2ms\n",
      "image 568/942 /kaggle/working/face-detection-5/test/images/94cf06ce0dd16779_jpg.rf.cf2d5706820e6d17d614f4e581c48d66.jpg: 448x448 7 0s, 8.9ms\n",
      "image 569/942 /kaggle/working/face-detection-5/test/images/951ff2c9b8b37a5e_jpg.rf.4c6ecd9eff88c7688aa23128c16aaa85.jpg: 448x448 1 0, 8.9ms\n",
      "image 570/942 /kaggle/working/face-detection-5/test/images/954e74b26b59eab0_jpg.rf.38247de9a917608baee1b5f2b12fa0fe.jpg: 448x448 17 0s, 9.1ms\n",
      "image 571/942 /kaggle/working/face-detection-5/test/images/95508519abad76fa_jpg.rf.ca619565d9eb0872748f89d80b35caf7.jpg: 448x448 13 0s, 8.8ms\n",
      "image 572/942 /kaggle/working/face-detection-5/test/images/95a015e98578454d_jpg.rf.f803c8583febb3363c487c08f6e3f860.jpg: 448x448 3 0s, 8.8ms\n",
      "image 573/942 /kaggle/working/face-detection-5/test/images/9653ba027582b500_jpg.rf.3300663bbcb299ae430651aabd148b50.jpg: 448x448 6 0s, 8.8ms\n",
      "image 574/942 /kaggle/working/face-detection-5/test/images/96e58ffbdaaf2fcc_jpg.rf.cc0f478722de6dc5e776cbb3e18744f1.jpg: 448x448 1 0, 9.0ms\n",
      "image 575/942 /kaggle/working/face-detection-5/test/images/96ec7bdf094cb8e8_jpg.rf.de22218294b8c54968ba2a3a60d9495d.jpg: 448x448 4 0s, 9.0ms\n",
      "image 576/942 /kaggle/working/face-detection-5/test/images/975d5a74c8f0cf65_jpg.rf.880656bdd479c84de1d631017e421dc5.jpg: 448x448 3 0s, 9.2ms\n",
      "image 577/942 /kaggle/working/face-detection-5/test/images/9761e31b257b6892_jpg.rf.8d8d90d3b963f99211f4f81ce8fb564e.jpg: 448x448 2 0s, 9.3ms\n",
      "image 578/942 /kaggle/working/face-detection-5/test/images/97955c855ae930b5_jpg.rf.52b2af66bfa863686931ee0c2ddd2545.jpg: 448x448 2 0s, 9.0ms\n",
      "image 579/942 /kaggle/working/face-detection-5/test/images/97e079b24d6d9df0_jpg.rf.7db777b4c297bb2d26ad3bc58148f475.jpg: 448x448 1 0, 8.7ms\n",
      "image 580/942 /kaggle/working/face-detection-5/test/images/980513eaa7dc3d2d_jpg.rf.b96303e87e2d8fb10e13d3e964d9cb6f.jpg: 448x448 2 0s, 10.9ms\n",
      "image 581/942 /kaggle/working/face-detection-5/test/images/984cc6ca35ae55db_jpg.rf.92b4cad8aad95874dc175f1b13406a5a.jpg: 448x448 4 0s, 9.0ms\n",
      "image 582/942 /kaggle/working/face-detection-5/test/images/987c97089944f619_jpg.rf.335f1450bdfaaa1430a258a721f190b8.jpg: 448x448 2 0s, 8.8ms\n",
      "image 583/942 /kaggle/working/face-detection-5/test/images/98937e5c9207d1b3_jpg.rf.54feb03a3cbed72be8fe514317b94845.jpg: 448x448 5 0s, 8.9ms\n",
      "image 584/942 /kaggle/working/face-detection-5/test/images/989bcd26c322a82b_jpg.rf.4a7a8dc3a024799a67a85a5da4471553.jpg: 448x448 2 0s, 9.1ms\n",
      "image 585/942 /kaggle/working/face-detection-5/test/images/98a48b193e647e6c_jpg.rf.48caac8ea7ead289e3428348ebb2ef9a.jpg: 448x448 1 0, 9.4ms\n",
      "image 586/942 /kaggle/working/face-detection-5/test/images/98b46b5c76b38fa7_jpg.rf.1f2efba8598ca9c45b2d4d9b0e9808f8.jpg: 448x448 4 0s, 8.8ms\n",
      "image 587/942 /kaggle/working/face-detection-5/test/images/98c0797b18f6f29c_jpg.rf.2190245de99bcd5bf9679315daa55b4d.jpg: 448x448 1 0, 9.1ms\n",
      "image 588/942 /kaggle/working/face-detection-5/test/images/991e757318730469_jpg.rf.8ea702f95824e2764cbedd757c2903eb.jpg: 448x448 3 0s, 10.8ms\n",
      "image 589/942 /kaggle/working/face-detection-5/test/images/9a07a578de148516_jpg.rf.61682ddff79653db8254f1fce37586f8.jpg: 448x448 2 0s, 11.2ms\n",
      "image 590/942 /kaggle/working/face-detection-5/test/images/9b084ea20d33ff06_jpg.rf.875f2c14690a8ff72a79258f3cebbe42.jpg: 448x448 1 0, 14.2ms\n",
      "image 591/942 /kaggle/working/face-detection-5/test/images/9b0f5271b6048bdf_jpg.rf.88eef57cf5f9262f36125330fa0c5c99.jpg: 448x448 1 0, 15.7ms\n",
      "image 592/942 /kaggle/working/face-detection-5/test/images/9b192b346ea650a0_jpg.rf.8bec22ac225a6682738ae5d9404eb3d9.jpg: 448x448 (no detections), 9.7ms\n",
      "image 593/942 /kaggle/working/face-detection-5/test/images/9b3f5d0974acd546_jpg.rf.86ebb85307a49f9d4f7dc5bae72722ba.jpg: 448x448 1 0, 8.9ms\n",
      "image 594/942 /kaggle/working/face-detection-5/test/images/9bb8d1f22eeb7f90_jpg.rf.5f10748f93b40ab9aa86f40b5a12b4cf.jpg: 448x448 6 0s, 8.8ms\n",
      "image 595/942 /kaggle/working/face-detection-5/test/images/9bd4835c0f4d51a9_jpg.rf.d190ce6f9d4da1bf4ca80e826886da8c.jpg: 448x448 1 0, 8.8ms\n",
      "image 596/942 /kaggle/working/face-detection-5/test/images/9be5c3d2e4dcfa57_jpg.rf.e98ad3278ee7d502b921635904e83224.jpg: 448x448 3 0s, 8.7ms\n",
      "image 597/942 /kaggle/working/face-detection-5/test/images/9c1b4d761c54ea33_jpg.rf.1eb200e6b3a146d6957e1ad1f373e6dc.jpg: 448x448 3 0s, 8.9ms\n",
      "image 598/942 /kaggle/working/face-detection-5/test/images/9c4187053b1beedf_jpg.rf.9973541e53853093691005c67df7f6b7.jpg: 448x448 1 0, 8.8ms\n",
      "image 599/942 /kaggle/working/face-detection-5/test/images/9c773463989843dd_jpg.rf.9c2c67c86140698d04374f35fd323f8c.jpg: 448x448 1 0, 9.1ms\n",
      "image 600/942 /kaggle/working/face-detection-5/test/images/9ca767646c8e25f0_jpg.rf.a33bb225264a6b53382b6c623d1181c6.jpg: 448x448 1 0, 9.0ms\n",
      "image 601/942 /kaggle/working/face-detection-5/test/images/9d74060a4e942adf_jpg.rf.37aced30d3a96eb43b37fdc510d59638.jpg: 448x448 1 0, 9.5ms\n",
      "image 602/942 /kaggle/working/face-detection-5/test/images/9d931f18d1409d58_jpg.rf.9273414fa3d59c96616562462042d91b.jpg: 448x448 4 0s, 9.1ms\n",
      "image 603/942 /kaggle/working/face-detection-5/test/images/9da47573f7c41406_jpg.rf.9163a76e66f17a6b32a4fffa384c3bdb.jpg: 448x448 15 0s, 9.3ms\n",
      "image 604/942 /kaggle/working/face-detection-5/test/images/9e0ed79714893938_jpg.rf.04290e698c3c018193c09652882032dd.jpg: 448x448 1 0, 9.1ms\n",
      "image 605/942 /kaggle/working/face-detection-5/test/images/9e48a9b369f97ae1_jpg.rf.044c39d73cd4a044346f1113e894a53a.jpg: 448x448 1 0, 9.0ms\n",
      "image 606/942 /kaggle/working/face-detection-5/test/images/9e9af0a1f96a4bd6_jpg.rf.9eb4f950f9473d8478d9c54a9715893d.jpg: 448x448 1 0, 8.8ms\n",
      "image 607/942 /kaggle/working/face-detection-5/test/images/9eb2e7e4435aa708_jpg.rf.fdf8cf5934d2c08888287bc81e9159cb.jpg: 448x448 1 0, 9.3ms\n",
      "image 608/942 /kaggle/working/face-detection-5/test/images/9ee85e4725670eb6_jpg.rf.850cda31a1e048a24db37cbf2e4ab179.jpg: 448x448 4 0s, 8.7ms\n",
      "image 609/942 /kaggle/working/face-detection-5/test/images/9fd8e87f0e787459_jpg.rf.663b19d2eb40305b00f089ea12215688.jpg: 448x448 4 0s, 9.1ms\n",
      "image 610/942 /kaggle/working/face-detection-5/test/images/IMG_5010_jpg.rf.3a5fbfc352f09d4c3ba1111c1dc2033c.jpg: 448x448 1 1, 8.7ms\n",
      "image 611/942 /kaggle/working/face-detection-5/test/images/IMG_8479_jpg.rf.14eefbfa0c9898f33569b406b7857bce.jpg: 448x448 1 0, 1 1, 8.8ms\n",
      "image 612/942 /kaggle/working/face-detection-5/test/images/IMG_8641_jpg.rf.e289d109fc6cf89d83ba4a0ec8610288.jpg: 448x448 1 1, 9.1ms\n",
      "image 613/942 /kaggle/working/face-detection-5/test/images/a035cdd1b3f91f47_jpg.rf.3b0f0eb618c80fe1a3d25a894e7174d9.jpg: 448x448 11 0s, 9.7ms\n",
      "image 614/942 /kaggle/working/face-detection-5/test/images/a0c167ff0b020712_jpg.rf.755868ca06102da885017d9c44b4bb4e.jpg: 448x448 3 0s, 8.9ms\n",
      "image 615/942 /kaggle/working/face-detection-5/test/images/a0cf3814fd0fd797_jpg.rf.243179b9e25e6fd7f2dff1a366436b07.jpg: 448x448 4 0s, 8.9ms\n",
      "image 616/942 /kaggle/working/face-detection-5/test/images/a0f8fd797fda424e_jpg.rf.8499144f8a3d4180cc9a1b4bc8e84d7b.jpg: 448x448 1 0, 8.9ms\n",
      "image 617/942 /kaggle/working/face-detection-5/test/images/a0fe5e7e95f4041c_jpg.rf.3829b446865641e80515b74a43be47f9.jpg: 448x448 6 0s, 9.2ms\n",
      "image 618/942 /kaggle/working/face-detection-5/test/images/a104d59536a9f12e_jpg.rf.24950e6747b6824b5d41feb548a99e91.jpg: 448x448 1 0, 9.0ms\n",
      "image 619/942 /kaggle/working/face-detection-5/test/images/a188906245ad76a0_jpg.rf.42c7260ef59d5a134efcf81f5d0c5eae.jpg: 448x448 3 0s, 9.0ms\n",
      "image 620/942 /kaggle/working/face-detection-5/test/images/a1fe98dd4828d125_jpg.rf.44644081ed3619fb1c798832a10dee35.jpg: 448x448 1 0, 8.8ms\n",
      "image 621/942 /kaggle/working/face-detection-5/test/images/a21ba237acaeec42_jpg.rf.eb228fb733180b92bfaee3bb66c8f2cc.jpg: 448x448 2 0s, 8.7ms\n",
      "image 622/942 /kaggle/working/face-detection-5/test/images/a2cbb8eee4042b33_jpg.rf.4b1f8448553e5f3898ed06697262ab1e.jpg: 448x448 3 0s, 9.0ms\n",
      "image 623/942 /kaggle/working/face-detection-5/test/images/a2dca88863626e0f_jpg.rf.8356296bbb492f21bc5a24ab76fc70c6.jpg: 448x448 4 0s, 8.9ms\n",
      "image 624/942 /kaggle/working/face-detection-5/test/images/a35df35e6f02b6f5_jpg.rf.0b5e166a33847ce7581d7d9f695e59bc.jpg: 448x448 4 0s, 9.1ms\n",
      "image 625/942 /kaggle/working/face-detection-5/test/images/a36e8f0a0350f0cb_jpg.rf.c405b33901500e6adc02782257e5ba73.jpg: 448x448 3 0s, 9.1ms\n",
      "image 626/942 /kaggle/working/face-detection-5/test/images/a38128e459b3d869_jpg.rf.27c1be2a68e476fbc10e9a55cce581cf.jpg: 448x448 5 0s, 8.8ms\n",
      "image 627/942 /kaggle/working/face-detection-5/test/images/a3a4c26ec2a8aae0_jpg.rf.1373ebea42a2850d086d580e1b78626f.jpg: 448x448 3 0s, 9.1ms\n",
      "image 628/942 /kaggle/working/face-detection-5/test/images/a3a81f24b7d22cdf_jpg.rf.cbaf0be3a322924ff9b93325e83715d5.jpg: 448x448 8 0s, 9.2ms\n",
      "image 629/942 /kaggle/working/face-detection-5/test/images/a3d461d03f56a2b5_jpg.rf.2437a43bbedeba528ff10cd9b5f16a89.jpg: 448x448 1 0, 9.0ms\n",
      "image 630/942 /kaggle/working/face-detection-5/test/images/a3d90af92444264b_jpg.rf.81784bdf0f4d59b34aa935c2aeca34c4.jpg: 448x448 2 0s, 8.8ms\n",
      "image 631/942 /kaggle/working/face-detection-5/test/images/a3f8d7dfe785aaf1_jpg.rf.c53bf1c9fe6ee3ae9d3dedd6315ad6c6.jpg: 448x448 3 0s, 9.2ms\n",
      "image 632/942 /kaggle/working/face-detection-5/test/images/a4147dcdbf44f7b9_jpg.rf.04bebc0c09bd283ceccb977155c11996.jpg: 448x448 3 0s, 8.8ms\n",
      "image 633/942 /kaggle/working/face-detection-5/test/images/a5543ff988aba780_jpg.rf.d502ccbce786c897301cefb23f778a6a.jpg: 448x448 1 0, 8.9ms\n",
      "image 634/942 /kaggle/working/face-detection-5/test/images/a573efb054708372_jpg.rf.420562a67b1cb90b487f91b80417eec3.jpg: 448x448 4 0s, 8.9ms\n",
      "image 635/942 /kaggle/working/face-detection-5/test/images/a5ca79007575593b_jpg.rf.ccbb2b3ddbb00a196ca12e6e94a4f6db.jpg: 448x448 2 0s, 8.6ms\n",
      "image 636/942 /kaggle/working/face-detection-5/test/images/a5dd4a8fbb7be195_jpg.rf.49a500d3bb8cf05925403aaa4f2284ef.jpg: 448x448 7 0s, 8.9ms\n",
      "image 637/942 /kaggle/working/face-detection-5/test/images/a67050dc602d0d00_jpg.rf.012b29e1aa7885bcc55234d7ec5fab75.jpg: 448x448 1 0, 8.9ms\n",
      "image 638/942 /kaggle/working/face-detection-5/test/images/a6a9429a3033a9d6_jpg.rf.016180b70248a9aa9064e20227b9be57.jpg: 448x448 4 0s, 9.1ms\n",
      "image 639/942 /kaggle/working/face-detection-5/test/images/a6fca772c22830a8_jpg.rf.d59ad998163d66eef86a0762a18f8591.jpg: 448x448 17 0s, 9.5ms\n",
      "image 640/942 /kaggle/working/face-detection-5/test/images/a71ac3c9563929d8_jpg.rf.34088b83ad25b4a10039b4a1d4962d07.jpg: 448x448 1 0, 8.8ms\n",
      "image 641/942 /kaggle/working/face-detection-5/test/images/a776ca11fbb59363_jpg.rf.f32f1661829275fd0eccc2fa8c50973a.jpg: 448x448 2 0s, 12.6ms\n",
      "image 642/942 /kaggle/working/face-detection-5/test/images/a79833b5cc121ca3_jpg.rf.2abfcc9c96342106872161f4d332a02d.jpg: 448x448 (no detections), 9.9ms\n",
      "image 643/942 /kaggle/working/face-detection-5/test/images/a8204583ee395825_jpg.rf.21c98c40c83e03cec0dfed05976ec87b.jpg: 448x448 1 0, 12.3ms\n",
      "image 644/942 /kaggle/working/face-detection-5/test/images/a8f457a3519d30e5_jpg.rf.eef45b072d9b90c543ab98886d995ea6.jpg: 448x448 2 0s, 12.8ms\n",
      "image 645/942 /kaggle/working/face-detection-5/test/images/a9669c6554bf099b_jpg.rf.588e8b0ce8c584c8c5e51187bc946b28.jpg: 448x448 2 0s, 9.5ms\n",
      "image 646/942 /kaggle/working/face-detection-5/test/images/aa37e9b869cf4a10_jpg.rf.22664e68db8653fc222c13901e2060e8.jpg: 448x448 (no detections), 9.2ms\n",
      "image 647/942 /kaggle/working/face-detection-5/test/images/aa499892209f158a_jpg.rf.ac33d124cf5622abb43c4404a8168b16.jpg: 448x448 4 0s, 8.8ms\n",
      "image 648/942 /kaggle/working/face-detection-5/test/images/aa56c777dde9ecf0_jpg.rf.14218a0f2b57a5979cc8f6c4f3b41e6a.jpg: 448x448 3 0s, 9.1ms\n",
      "image 649/942 /kaggle/working/face-detection-5/test/images/aa583effa92df3c6_jpg.rf.c163a06a760c4b846a30118233095648.jpg: 448x448 1 0, 9.3ms\n",
      "image 650/942 /kaggle/working/face-detection-5/test/images/aaa871f4889d1c5f_jpg.rf.f6a7506af8076b6e0fdd3c95c6fa8f28.jpg: 448x448 4 0s, 9.1ms\n",
      "image 651/942 /kaggle/working/face-detection-5/test/images/aad6f76407516194_jpg.rf.f6a7cafcbcf81b44f0b45289cd23bc86.jpg: 448x448 5 0s, 10.1ms\n",
      "image 652/942 /kaggle/working/face-detection-5/test/images/aaebff400c72d4ad_jpg.rf.15301de1424ef1486c5084d1286e9450.jpg: 448x448 4 0s, 9.1ms\n",
      "image 653/942 /kaggle/working/face-detection-5/test/images/ab663876164e9d95_jpg.rf.c76d6646f6efe040b1209b7986813b95.jpg: 448x448 4 0s, 9.6ms\n",
      "image 654/942 /kaggle/working/face-detection-5/test/images/ab8f28fe14ddea59_jpg.rf.40ef85cd2238a2cc5e440fd06a45aaf4.jpg: 448x448 1 0, 14.6ms\n",
      "image 655/942 /kaggle/working/face-detection-5/test/images/ac30de6d70f2dcc9_jpg.rf.92337bed625c91e5b9e9d7752ec87495.jpg: 448x448 3 0s, 9.5ms\n",
      "image 656/942 /kaggle/working/face-detection-5/test/images/ac3769301fd5f93b_jpg.rf.ff4f59d998dd28acad3dd20d3ec493fa.jpg: 448x448 2 0s, 14.8ms\n",
      "image 657/942 /kaggle/working/face-detection-5/test/images/ac3fa0862daf47d5_jpg.rf.fb73f352c7101eade609073d89af6678.jpg: 448x448 1 0, 9.5ms\n",
      "image 658/942 /kaggle/working/face-detection-5/test/images/acc2ef5b5044806e_jpg.rf.8b7a64ffc6a0d01818583eb1b703ae11.jpg: 448x448 2 0s, 9.2ms\n",
      "image 659/942 /kaggle/working/face-detection-5/test/images/adabe522befdd7f4_jpg.rf.09224a0274561c532191afc9be4f433e.jpg: 448x448 8 0s, 9.7ms\n",
      "image 660/942 /kaggle/working/face-detection-5/test/images/adb97662e5390deb_jpg.rf.279121b3e8746c1c179aaa2eb7501be6.jpg: 448x448 1 0, 8.8ms\n",
      "image 661/942 /kaggle/working/face-detection-5/test/images/adf3ef51ec3e4536_jpg.rf.0092d618746b156fc60f23b3d9afeb8f.jpg: 448x448 1 0, 9.4ms\n",
      "image 662/942 /kaggle/working/face-detection-5/test/images/aed1e83071004028_jpg.rf.cf117b07854308e1a49c15e23a66d849.jpg: 448x448 3 0s, 9.4ms\n",
      "image 663/942 /kaggle/working/face-detection-5/test/images/af012edbdcedcae5_jpg.rf.8978fe3508da8ef0e3a66a346ffaa3b6.jpg: 448x448 2 0s, 9.2ms\n",
      "image 664/942 /kaggle/working/face-detection-5/test/images/af1f0b5eb4e83032_jpg.rf.31d883d858ec57efb48e1a9e45a1c96f.jpg: 448x448 5 0s, 10.3ms\n",
      "image 665/942 /kaggle/working/face-detection-5/test/images/af23c7d434170add_jpg.rf.f76406b6447aceab93b39609d13f6afe.jpg: 448x448 1 0, 11.7ms\n",
      "image 666/942 /kaggle/working/face-detection-5/test/images/af75ca5159cde5fe_jpg.rf.dce2fd377ce2e8e14088957e32cf7f2e.jpg: 448x448 1 0, 9.5ms\n",
      "image 667/942 /kaggle/working/face-detection-5/test/images/afb34b796d726f97_jpg.rf.eb07e217b8bdf7ef094673075722653e.jpg: 448x448 31 0s, 8.9ms\n",
      "image 668/942 /kaggle/working/face-detection-5/test/images/afdb17fdf65e3592_jpg.rf.65da456ba1cf9e2f43b9cf6b6252b8df.jpg: 448x448 1 0, 9.1ms\n",
      "image 669/942 /kaggle/working/face-detection-5/test/images/b0571700eff2b484_jpg.rf.17151eadc235ab9b2e00421fdc22f95c.jpg: 448x448 (no detections), 9.5ms\n",
      "image 670/942 /kaggle/working/face-detection-5/test/images/b06d854b526b66cc_jpg.rf.0bd8cee8f6a6f670bbe6c51458b631a6.jpg: 448x448 6 0s, 9.1ms\n",
      "image 671/942 /kaggle/working/face-detection-5/test/images/b07356f5ec693a94_jpg.rf.e8d21fb7d5ecb29bef0a6699a00f6dd4.jpg: 448x448 1 0, 9.8ms\n",
      "image 672/942 /kaggle/working/face-detection-5/test/images/b084a83fed6a1fa6_jpg.rf.caf6d89db8801bed28f7269a951b427d.jpg: 448x448 (no detections), 9.3ms\n",
      "image 673/942 /kaggle/working/face-detection-5/test/images/b0ed683107bd066d_jpg.rf.189072e6272fb467280d6203281c16e1.jpg: 448x448 3 0s, 9.1ms\n",
      "image 674/942 /kaggle/working/face-detection-5/test/images/b16948682c696844_jpg.rf.e16320267094730a227be5220c28c366.jpg: 448x448 35 0s, 9.3ms\n",
      "image 675/942 /kaggle/working/face-detection-5/test/images/b187e32505dca89e_jpg.rf.49e3bd2059e72632b76150f5c62aa554.jpg: 448x448 2 0s, 9.7ms\n",
      "image 676/942 /kaggle/working/face-detection-5/test/images/b1948aed8307f3cb_jpg.rf.9d34e59b702cf64fa54431179b2cda06.jpg: 448x448 1 0, 9.4ms\n",
      "image 677/942 /kaggle/working/face-detection-5/test/images/b195454cf4677e1c_jpg.rf.3c90cc62cfc0e9be40940095cc8b8ef6.jpg: 448x448 1 0, 9.6ms\n",
      "image 678/942 /kaggle/working/face-detection-5/test/images/b19e83eee37a3d0f_jpg.rf.e23c1ec2baab8af4fe82dea673550ccc.jpg: 448x448 2 0s, 9.6ms\n",
      "image 679/942 /kaggle/working/face-detection-5/test/images/b1b9ebdcd981a9d5_jpg.rf.d59a1943960780f858b4fbbdddbe2a65.jpg: 448x448 2 0s, 9.4ms\n",
      "image 680/942 /kaggle/working/face-detection-5/test/images/b1efc8d2811df602_jpg.rf.a39683a3aac96b5aafbca631ee8b3d6c.jpg: 448x448 2 0s, 9.1ms\n",
      "image 681/942 /kaggle/working/face-detection-5/test/images/b22f7e40d1621f33_jpg.rf.25673752c72b00e4d6f001f809552e47.jpg: 448x448 3 0s, 9.3ms\n",
      "image 682/942 /kaggle/working/face-detection-5/test/images/b26275ea58c7d854_jpg.rf.af08c5adad386abdb200c08e5e63e9a7.jpg: 448x448 1 0, 9.1ms\n",
      "image 683/942 /kaggle/working/face-detection-5/test/images/b2a77ac6e090cbf2_jpg.rf.ca6e35b78c29c291aa0135125dbf7dc6.jpg: 448x448 1 0, 9.3ms\n",
      "image 684/942 /kaggle/working/face-detection-5/test/images/b2c474819002df26_jpg.rf.10a4d17aa36c9634d941b4a020ea83e4.jpg: 448x448 1 0, 9.3ms\n",
      "image 685/942 /kaggle/working/face-detection-5/test/images/b3191f3d01023630_jpg.rf.81816e92f05ade9701f96ff231de2118.jpg: 448x448 1 0, 12.3ms\n",
      "image 686/942 /kaggle/working/face-detection-5/test/images/b34a4a171a48bcc7_jpg.rf.971b8147057b7872a99cbed4de5ab16d.jpg: 448x448 2 0s, 9.9ms\n",
      "image 687/942 /kaggle/working/face-detection-5/test/images/b3747818187f3710_jpg.rf.7589b79c716926e8f7fb73c090057754.jpg: 448x448 1 0, 9.2ms\n",
      "image 688/942 /kaggle/working/face-detection-5/test/images/b38048fad770c730_jpg.rf.caefa31059203da57c8b5b4f15c41c35.jpg: 448x448 14 0s, 9.0ms\n",
      "image 689/942 /kaggle/working/face-detection-5/test/images/b4ba2f724657c34c_jpg.rf.a8979dcc3b1610678d7bf514f6afd3ab.jpg: 448x448 4 0s, 8.7ms\n",
      "image 690/942 /kaggle/working/face-detection-5/test/images/b58f7ee06d00321c_jpg.rf.43ea96849d7ce0766685b48488e1fdb3.jpg: 448x448 1 0, 12.1ms\n",
      "image 691/942 /kaggle/working/face-detection-5/test/images/b5a3fec87303ab84_jpg.rf.73f41f09e6fa9b5974b08fe9ebac1742.jpg: 448x448 5 0s, 9.6ms\n",
      "image 692/942 /kaggle/working/face-detection-5/test/images/b5bcd5ad58ae077d_jpg.rf.987d8fceee41b09f13c9b5d0d51448c7.jpg: 448x448 3 0s, 9.4ms\n",
      "image 693/942 /kaggle/working/face-detection-5/test/images/b6e39076df6afc30_jpg.rf.8aa159637d41fcd0653529730d9a46de.jpg: 448x448 4 0s, 11.2ms\n",
      "image 694/942 /kaggle/working/face-detection-5/test/images/b73629bd9dcdaa66_jpg.rf.c0a1ba9ec84d5c276bd23ed54198bf3a.jpg: 448x448 1 0, 9.7ms\n",
      "image 695/942 /kaggle/working/face-detection-5/test/images/b78599721b8fbf5c_jpg.rf.62c9de9ddea55cfb912051c20cd49501.jpg: 448x448 3 0s, 8.8ms\n",
      "image 696/942 /kaggle/working/face-detection-5/test/images/b7d775a9bc45b283_jpg.rf.8f228c837b08f0f5bb8d11595ec6e0ac.jpg: 448x448 2 0s, 9.2ms\n",
      "image 697/942 /kaggle/working/face-detection-5/test/images/b89ed8c0c484e9d1_jpg.rf.1b3cd277fb1f25fa2e4babbcdb92b12c.jpg: 448x448 2 0s, 9.0ms\n",
      "image 698/942 /kaggle/working/face-detection-5/test/images/b946e616781d599d_jpg.rf.dc2cfe045726866acaa8975f71724381.jpg: 448x448 2 0s, 8.8ms\n",
      "image 699/942 /kaggle/working/face-detection-5/test/images/b948bf82a3ad85c7_jpg.rf.4b2c68c8f66dc3a90d75730e8056a1e7.jpg: 448x448 2 0s, 8.7ms\n",
      "image 700/942 /kaggle/working/face-detection-5/test/images/b98f4c22dbb06bd9_jpg.rf.b63802d9404292a32c3db9535a90af74.jpg: 448x448 1 0, 9.2ms\n",
      "image 701/942 /kaggle/working/face-detection-5/test/images/b997b6f5d6448592_jpg.rf.7bfd28185847753e0fabaa5d5c1f2c40.jpg: 448x448 11 0s, 8.7ms\n",
      "image 702/942 /kaggle/working/face-detection-5/test/images/b9ac8e723414c30b_jpg.rf.f356eb416a30153f6feb760e2f713b88.jpg: 448x448 3 0s, 8.6ms\n",
      "image 703/942 /kaggle/working/face-detection-5/test/images/b9af810ad381a0b3_jpg.rf.9b2f6c34fa4c42e77a1e33365adc29c5.jpg: 448x448 3 0s, 8.9ms\n",
      "image 704/942 /kaggle/working/face-detection-5/test/images/b9bc8a2efed99c63_jpg.rf.2ce72a09d19db92cf73562e4bb0c5ad7.jpg: 448x448 2 0s, 8.6ms\n",
      "image 705/942 /kaggle/working/face-detection-5/test/images/b9bda58ef7222512_jpg.rf.b4af150bc6d13501141d8b4f9a06c4ec.jpg: 448x448 3 0s, 8.4ms\n",
      "image 706/942 /kaggle/working/face-detection-5/test/images/b9ed5f2d15b1d79a_jpg.rf.2d53807eb88235cd52f741fe99e5d124.jpg: 448x448 2 0s, 8.4ms\n",
      "image 707/942 /kaggle/working/face-detection-5/test/images/ba565a94512379fd_jpg.rf.2ae40e9b0362620a7b75ba7db6109247.jpg: 448x448 5 0s, 8.4ms\n",
      "image 708/942 /kaggle/working/face-detection-5/test/images/ba601c375ed926c4_jpg.rf.a4b3df8c483c3a60f934af334c7d226c.jpg: 448x448 1 0, 8.4ms\n",
      "image 709/942 /kaggle/working/face-detection-5/test/images/bb3851d139ec5eff_jpg.rf.faee3bab9c9a20f11365e7ad6e54a906.jpg: 448x448 1 0, 8.4ms\n",
      "image 710/942 /kaggle/working/face-detection-5/test/images/bb4f2376a156aa97_jpg.rf.5163f5dfb30c3611441f154a791e0d7b.jpg: 448x448 4 0s, 8.2ms\n",
      "image 711/942 /kaggle/working/face-detection-5/test/images/bbd5ad272a02ab82_jpg.rf.8dfcf68c1d07b1c50662f73e7261f996.jpg: 448x448 5 0s, 8.6ms\n",
      "image 712/942 /kaggle/working/face-detection-5/test/images/bc4ba67c86ef91ad_jpg.rf.3ef2811526e003bdf7702a9cd4769124.jpg: 448x448 2 0s, 8.5ms\n",
      "image 713/942 /kaggle/working/face-detection-5/test/images/bca3e196217ec125_jpg.rf.5cebfae20da702163ae20586bada6972.jpg: 448x448 12 0s, 8.5ms\n",
      "image 714/942 /kaggle/working/face-detection-5/test/images/bccacb8796751115_jpg.rf.a4750d83d896cb733466a666492adad0.jpg: 448x448 4 0s, 8.4ms\n",
      "image 715/942 /kaggle/working/face-detection-5/test/images/bcf7c001b39369f4_jpg.rf.481361fdb067e5537eba8a2b4f989091.jpg: 448x448 2 0s, 8.5ms\n",
      "image 716/942 /kaggle/working/face-detection-5/test/images/bd17609e1fe6d49c_jpg.rf.c6fac84f3a4444deec8e383f35e883b8.jpg: 448x448 2 0s, 8.6ms\n",
      "image 717/942 /kaggle/working/face-detection-5/test/images/bd2528fecd5c0a57_jpg.rf.08886c28987e3ae291b2ee7ab69e24a9.jpg: 448x448 12 0s, 8.1ms\n",
      "image 718/942 /kaggle/working/face-detection-5/test/images/bd5d217fdc075e1d_jpg.rf.70a2ac1bbb0f8a2c1c4cb61ae2358e3d.jpg: 448x448 2 0s, 8.1ms\n",
      "image 719/942 /kaggle/working/face-detection-5/test/images/bdb60105cf5475d6_jpg.rf.78daa15559b70e048db964144e313fdb.jpg: 448x448 4 0s, 8.1ms\n",
      "image 720/942 /kaggle/working/face-detection-5/test/images/bded9bcf24fcf188_jpg.rf.f7d44af9234cc597c0262319548b6f10.jpg: 448x448 2 0s, 8.2ms\n",
      "image 721/942 /kaggle/working/face-detection-5/test/images/bed44a37eb9eed6d_jpg.rf.4fe2200a0668ae1bc82dbbac04553e62.jpg: 448x448 1 0, 8.2ms\n",
      "image 722/942 /kaggle/working/face-detection-5/test/images/bee336e14d519fd9_jpg.rf.5b7502dcb785ebcd52bc3b5a539bd305.jpg: 448x448 7 0s, 8.1ms\n",
      "image 723/942 /kaggle/working/face-detection-5/test/images/beed61e18b56968c_jpg.rf.061cb2b153ad298b82c7c1fff5ba0b98.jpg: 448x448 1 0, 8.1ms\n",
      "image 724/942 /kaggle/working/face-detection-5/test/images/bf59259229131bf3_jpg.rf.174a9cb453fa9f08a642e65bda7b3b65.jpg: 448x448 1 0, 8.2ms\n",
      "image 725/942 /kaggle/working/face-detection-5/test/images/bf70d67a75207502_jpg.rf.4f889a9f85432189c0c9bb1d32c8b154.jpg: 448x448 1 0, 8.2ms\n",
      "image 726/942 /kaggle/working/face-detection-5/test/images/bf789d06c8f6ad0f_jpg.rf.5251d4aed5116dd758f64e81142962a7.jpg: 448x448 3 0s, 8.8ms\n",
      "image 727/942 /kaggle/working/face-detection-5/test/images/bfd43f53cddfd2aa_jpg.rf.8f2506476ae6b9c86af4815ea9aaaf60.jpg: 448x448 3 0s, 8.2ms\n",
      "image 728/942 /kaggle/working/face-detection-5/test/images/c03459213c821414_jpg.rf.e8e8aa8ba3d662d12d0db6042d2a9d59.jpg: 448x448 1 0, 8.0ms\n",
      "image 729/942 /kaggle/working/face-detection-5/test/images/c0470e6b78461ffc_jpg.rf.371a6850dbf02bf52ebc375c02826e5f.jpg: 448x448 1 0, 8.8ms\n",
      "image 730/942 /kaggle/working/face-detection-5/test/images/c0cd91afb8924ded_jpg.rf.c75ca7d94555f0913515ec060f51ee5f.jpg: 448x448 7 0s, 8.1ms\n",
      "image 731/942 /kaggle/working/face-detection-5/test/images/c0cdd1e2906262f1_jpg.rf.791bb4cc94e89e3d32427a0708e2ccc2.jpg: 448x448 2 0s, 8.3ms\n",
      "image 732/942 /kaggle/working/face-detection-5/test/images/c0d4e1ee93636256_jpg.rf.b6e2a35530e5854bf51553e80b61c798.jpg: 448x448 1 0, 8.8ms\n",
      "image 733/942 /kaggle/working/face-detection-5/test/images/c16c5c68166b4a84_jpg.rf.c2c685a420fbd9d6ffda67c0e8092c2c.jpg: 448x448 1 0, 8.3ms\n",
      "image 734/942 /kaggle/working/face-detection-5/test/images/c183e064287eba43_jpg.rf.f86d8ac7dbbf76264d3b072a58aa6b58.jpg: 448x448 8 0s, 9.1ms\n",
      "image 735/942 /kaggle/working/face-detection-5/test/images/c1c582b020589646_jpg.rf.a3d8589dd6e9b2b307b7babd96839a65.jpg: 448x448 3 0s, 9.0ms\n",
      "image 736/942 /kaggle/working/face-detection-5/test/images/c1f59771934980c3_jpg.rf.680d11bd7e36a68c5139a628b503ddfb.jpg: 448x448 4 0s, 8.8ms\n",
      "image 737/942 /kaggle/working/face-detection-5/test/images/c2418082128a6930_jpg.rf.31735e142d6f3e16f03ffd5e01a83f89.jpg: 448x448 5 0s, 8.7ms\n",
      "image 738/942 /kaggle/working/face-detection-5/test/images/c25a7c9a6edc7976_jpg.rf.2f491d478f47105912ce61648da8b938.jpg: 448x448 1 0, 8.6ms\n",
      "image 739/942 /kaggle/working/face-detection-5/test/images/c25cefe5d3528167_jpg.rf.98c03404476e0b2aaacf26aade218b40.jpg: 448x448 2 0s, 8.4ms\n",
      "image 740/942 /kaggle/working/face-detection-5/test/images/c3971da49ef46df0_jpg.rf.373f446ccea1969ef73f5b79b348d9e8.jpg: 448x448 12 0s, 9.0ms\n",
      "image 741/942 /kaggle/working/face-detection-5/test/images/c40d3d3560239841_jpg.rf.0de65bb484748ceae17fe792e3aaf3d7.jpg: 448x448 11 0s, 8.2ms\n",
      "image 742/942 /kaggle/working/face-detection-5/test/images/c41aef39ff1ea994_jpg.rf.40692393b8bf856d533a89524117816c.jpg: 448x448 3 0s, 8.2ms\n",
      "image 743/942 /kaggle/working/face-detection-5/test/images/c4367db5e8c73a01_jpg.rf.c7c4b495ff0d566ba599abaa45198880.jpg: 448x448 2 0s, 8.2ms\n",
      "image 744/942 /kaggle/working/face-detection-5/test/images/c450df908fc5c739_jpg.rf.02c4f6918ecfbaf04b7cdc61bf47b7f3.jpg: 448x448 2 0s, 8.2ms\n",
      "image 745/942 /kaggle/working/face-detection-5/test/images/c4a1acb14a3d3a04_jpg.rf.59263994144e4725e2059ec0f3a2b2af.jpg: 448x448 1 0, 8.4ms\n",
      "image 746/942 /kaggle/working/face-detection-5/test/images/c5b04bbec6059b0c_jpg.rf.79ba25755c387c6dea6b88aff088e55d.jpg: 448x448 1 0, 8.1ms\n",
      "image 747/942 /kaggle/working/face-detection-5/test/images/c5c3e200a2ccf61e_jpg.rf.d9891d3d23b53802d1cae103057196c6.jpg: 448x448 (no detections), 8.1ms\n",
      "image 748/942 /kaggle/working/face-detection-5/test/images/c5d2c7459585f489_jpg.rf.c4e198395b323148ba4af270df14d7ae.jpg: 448x448 2 0s, 8.5ms\n",
      "image 749/942 /kaggle/working/face-detection-5/test/images/c6271eb5ee188efd_jpg.rf.3a3a534e3794f9b253883ac9dd74f1a4.jpg: 448x448 1 0, 8.0ms\n",
      "image 750/942 /kaggle/working/face-detection-5/test/images/c66ce9c9468a1932_jpg.rf.b89433e3ab49834a8d4534f392ff916e.jpg: 448x448 1 0, 8.1ms\n",
      "image 751/942 /kaggle/working/face-detection-5/test/images/c66f2c99417275d6_jpg.rf.fad01c86df7d07e833dc1ff32a1230be.jpg: 448x448 4 0s, 8.1ms\n",
      "image 752/942 /kaggle/working/face-detection-5/test/images/c6702ad2502f4608_jpg.rf.c7cdd54f386737c21df851f34e7dbb37.jpg: 448x448 3 0s, 8.3ms\n",
      "image 753/942 /kaggle/working/face-detection-5/test/images/c684d8b7a6e8cae8_jpg.rf.ff87d88b9290e1b63294abd54e40bc25.jpg: 448x448 1 0, 8.2ms\n",
      "image 754/942 /kaggle/working/face-detection-5/test/images/c686e12f82cae576_jpg.rf.6ff4841d49afdf42acd2070745a8eb53.jpg: 448x448 1 0, 8.5ms\n",
      "image 755/942 /kaggle/working/face-detection-5/test/images/c6bf000002ea9c1f_jpg.rf.42dc382b498feca419119c50744408c3.jpg: 448x448 3 0s, 8.0ms\n",
      "image 756/942 /kaggle/working/face-detection-5/test/images/c6c52b3fbab68d48_jpg.rf.4a7d3c6b9806dd1245bf24a7bbc4f9e4.jpg: 448x448 8 0s, 8.6ms\n",
      "image 757/942 /kaggle/working/face-detection-5/test/images/c779df308ecdeee2_jpg.rf.8ac351a660fc4c4d6c86985ce98e381b.jpg: 448x448 3 0s, 8.1ms\n",
      "image 758/942 /kaggle/working/face-detection-5/test/images/c7a6aaa50da4d474_jpg.rf.fae19ae697f10bf697d83ed8ed34cb80.jpg: 448x448 1 0, 8.1ms\n",
      "image 759/942 /kaggle/working/face-detection-5/test/images/c800f3605748d99b_jpg.rf.e41f7f1f49a1b6ac90b047bfd611389c.jpg: 448x448 3 0s, 8.0ms\n",
      "image 760/942 /kaggle/working/face-detection-5/test/images/c8ae662f2c37d5a6_jpg.rf.70844bbbc63981b543134f9c6f2e8d63.jpg: 448x448 1 0, 8.0ms\n",
      "image 761/942 /kaggle/working/face-detection-5/test/images/c8e8845479c40180_jpg.rf.7d563e249f74c232fe7de84e0ec70ace.jpg: 448x448 1 0, 8.1ms\n",
      "image 762/942 /kaggle/working/face-detection-5/test/images/c9dfb65a96772864_jpg.rf.2b8cd434eacb23704ff5b47f5c1b221d.jpg: 448x448 1 0, 8.1ms\n",
      "image 763/942 /kaggle/working/face-detection-5/test/images/c9f84486be6b1c11_jpg.rf.d9a3b7a85485da99df652480fd241b56.jpg: 448x448 1 0, 8.0ms\n",
      "image 764/942 /kaggle/working/face-detection-5/test/images/c9ff04ad189914da_jpg.rf.2858c6ea2cbc48dad52aadd20ad22ce1.jpg: 448x448 2 0s, 8.0ms\n",
      "image 765/942 /kaggle/working/face-detection-5/test/images/ca0537418ecf23cb_jpg.rf.dbb49a0e13d187f88d6e56210b34840d.jpg: 448x448 1 0, 8.1ms\n",
      "image 766/942 /kaggle/working/face-detection-5/test/images/ca3eba2619783b73_jpg.rf.9d406521423bd615a5d024a00485ac46.jpg: 448x448 1 0, 8.1ms\n",
      "image 767/942 /kaggle/working/face-detection-5/test/images/ca96307b4658b6e2_jpg.rf.d3cffdb4cc9840887d30d6a5d0a3823c.jpg: 448x448 7 0s, 8.2ms\n",
      "image 768/942 /kaggle/working/face-detection-5/test/images/cb27bd144345832f_jpg.rf.500c1f25994abfe21fe353cf06c264f9.jpg: 448x448 1 0, 7.9ms\n",
      "image 769/942 /kaggle/working/face-detection-5/test/images/cbd08f47c6705b95_jpg.rf.56489738697f006a0015c9888c6de4e1.jpg: 448x448 2 0s, 8.0ms\n",
      "image 770/942 /kaggle/working/face-detection-5/test/images/cbdb4e0afd300b51_jpg.rf.13b675ec4c7449e370186afddfdf4152.jpg: 448x448 2 0s, 7.9ms\n",
      "image 771/942 /kaggle/working/face-detection-5/test/images/cc37678d73e500a0_jpg.rf.0a2915a75b37e66083a0e71250854000.jpg: 448x448 1 0, 7.8ms\n",
      "image 772/942 /kaggle/working/face-detection-5/test/images/cc3dcd639726f35d_jpg.rf.4ea933f59e8f202a442051f669267a14.jpg: 448x448 3 0s, 7.9ms\n",
      "image 773/942 /kaggle/working/face-detection-5/test/images/cc3fb86c0d070653_jpg.rf.82ae2aea09dd2535a8ec125b8fb96144.jpg: 448x448 (no detections), 7.8ms\n",
      "image 774/942 /kaggle/working/face-detection-5/test/images/cc508e8510d62521_jpg.rf.fdb8a021cc2ba546b2f2569085670fe9.jpg: 448x448 1 0, 7.9ms\n",
      "image 775/942 /kaggle/working/face-detection-5/test/images/cd55aeb1723dcaca_jpg.rf.09e47407dad20d23f766c0c717bcf4cf.jpg: 448x448 2 0s, 8.3ms\n",
      "image 776/942 /kaggle/working/face-detection-5/test/images/cd799f6ac94bc90e_jpg.rf.fca0e1e9c6361a9ccc1f41a633e2e808.jpg: 448x448 6 0s, 7.9ms\n",
      "image 777/942 /kaggle/working/face-detection-5/test/images/ce0993a9d7ce96bc_jpg.rf.a31ea8a6af1a26129c1307cae8f27252.jpg: 448x448 2 0s, 7.9ms\n",
      "image 778/942 /kaggle/working/face-detection-5/test/images/ce4fc599e2a6597e_jpg.rf.0f1a0a62fa47c453f695de091b4b47f0.jpg: 448x448 2 0s, 7.9ms\n",
      "image 779/942 /kaggle/working/face-detection-5/test/images/ce9e4e6b9e130efd_jpg.rf.905643397ebb5293d622c06648536e86.jpg: 448x448 6 0s, 7.9ms\n",
      "image 780/942 /kaggle/working/face-detection-5/test/images/cea9d33a870b3905_jpg.rf.4bd594e19dbc4f3a760bfae58ba01c4e.jpg: 448x448 1 0, 7.8ms\n",
      "image 781/942 /kaggle/working/face-detection-5/test/images/cebba6fa2f186790_jpg.rf.9bfc896f52a694d035cb7e8e46a642af.jpg: 448x448 2 0s, 7.8ms\n",
      "image 782/942 /kaggle/working/face-detection-5/test/images/cf5835a0d2993ef0_jpg.rf.79e25a1e26808b3b816a46f613c13a1e.jpg: 448x448 3 0s, 8.8ms\n",
      "image 783/942 /kaggle/working/face-detection-5/test/images/cf6302313f5b6a8b_jpg.rf.ccb6792e023bd59d8ed857f2432a77cc.jpg: 448x448 2 0s, 7.9ms\n",
      "image 784/942 /kaggle/working/face-detection-5/test/images/cfac89a5ae7b5658_jpg.rf.358182ef4b047b46559c34a854bfb21f.jpg: 448x448 1 0, 7.9ms\n",
      "image 785/942 /kaggle/working/face-detection-5/test/images/d0c5b7872809ff1d_jpg.rf.04450be9b6f4186eb2bda01e71737a41.jpg: 448x448 1 0, 8.2ms\n",
      "image 786/942 /kaggle/working/face-detection-5/test/images/d13f2fb57464921a_jpg.rf.385c8e8eedd80e4b3b3db2772e8add8b.jpg: 448x448 2 0s, 7.9ms\n",
      "image 787/942 /kaggle/working/face-detection-5/test/images/d1a2ee66968541b2_jpg.rf.d1af7603d32f2b29b290cab546d688ba.jpg: 448x448 10 0s, 7.9ms\n",
      "image 788/942 /kaggle/working/face-detection-5/test/images/d1c76d50e8870207_jpg.rf.4e1d370d3dcdd5ee44fe3ea3a82aba9a.jpg: 448x448 2 0s, 7.8ms\n",
      "image 789/942 /kaggle/working/face-detection-5/test/images/d1e0a565bf9c3fb2_jpg.rf.a7192bdb9cad1199bec7a47fb0d7ce5b.jpg: 448x448 1 0, 8.2ms\n",
      "image 790/942 /kaggle/working/face-detection-5/test/images/d23fe281d6e1778a_jpg.rf.6af6b2711734b42a5796f85c9b5c66b8.jpg: 448x448 1 0, 7.8ms\n",
      "image 791/942 /kaggle/working/face-detection-5/test/images/d2aeab662ec9cfc5_jpg.rf.13f8cd4025798210f69fec4ca325a04c.jpg: 448x448 5 0s, 7.8ms\n",
      "image 792/942 /kaggle/working/face-detection-5/test/images/d2fd1e773f47293c_jpg.rf.e9406fff890f1fe4e1dfa3d58e9c7282.jpg: 448x448 4 0s, 8.0ms\n",
      "image 793/942 /kaggle/working/face-detection-5/test/images/d315eb4871f0b61c_jpg.rf.52a4911bddba6cb1fcbd1bed1cda376f.jpg: 448x448 1 0, 7.8ms\n",
      "image 794/942 /kaggle/working/face-detection-5/test/images/d329f0d8ef399bb4_jpg.rf.e119402b784a2d590e83826ed9d03648.jpg: 448x448 2 0s, 7.8ms\n",
      "image 795/942 /kaggle/working/face-detection-5/test/images/d3397997ef5c73c5_jpg.rf.184d8cc0de22ec8dfbabee35a41d1069.jpg: 448x448 2 0s, 7.9ms\n",
      "image 796/942 /kaggle/working/face-detection-5/test/images/d3a3132e8cc24bf5_jpg.rf.07b04727bce50df086043dd3347bfbe7.jpg: 448x448 1 0, 8.3ms\n",
      "image 797/942 /kaggle/working/face-detection-5/test/images/d3ba165585bff90a_jpg.rf.a3c6fad587c23d4212d660ae22532cdc.jpg: 448x448 5 0s, 7.9ms\n",
      "image 798/942 /kaggle/working/face-detection-5/test/images/d3fff1df6b21c9ad_jpg.rf.14d126b7d330a3246ef4c5147a6c3e00.jpg: 448x448 1 0, 8.0ms\n",
      "image 799/942 /kaggle/working/face-detection-5/test/images/d44162ef9c72624c_jpg.rf.c9525c0dc8e08b0ff49286fed8abfa07.jpg: 448x448 1 0, 8.1ms\n",
      "image 800/942 /kaggle/working/face-detection-5/test/images/d46dac06cdb073f8_jpg.rf.65aea3487eac810dbf22b00e4f2ed40a.jpg: 448x448 2 0s, 7.9ms\n",
      "image 801/942 /kaggle/working/face-detection-5/test/images/d475663345e7c072_jpg.rf.0625c10a1f2f3e658e6bf3dadb0b2d87.jpg: 448x448 1 0, 8.3ms\n",
      "image 802/942 /kaggle/working/face-detection-5/test/images/d4a759b8d9eeaf36_jpg.rf.793aad4ac16ee51cf29d01b96e5034ae.jpg: 448x448 1 0, 8.0ms\n",
      "image 803/942 /kaggle/working/face-detection-5/test/images/d4dbfa0e0cc97ed3_jpg.rf.3a3d9f7372e0d21bb694975a1acceb8d.jpg: 448x448 21 0s, 8.2ms\n",
      "image 804/942 /kaggle/working/face-detection-5/test/images/d50448925285a255_jpg.rf.71e93dc72afa63911e852bdffa4e8db8.jpg: 448x448 1 0, 7.9ms\n",
      "image 805/942 /kaggle/working/face-detection-5/test/images/d5d4ad55bad917fc_jpg.rf.5b4be3279834530d1b30487024cddb41.jpg: 448x448 1 0, 7.9ms\n",
      "image 806/942 /kaggle/working/face-detection-5/test/images/d63f64cbc7ffdb21_jpg.rf.e67384dcfeb9c79e5612ed756d61acc6.jpg: 448x448 3 0s, 7.8ms\n",
      "image 807/942 /kaggle/working/face-detection-5/test/images/d66e8be757fde31c_jpg.rf.b6e7e6866ccaececfb3278557b96a15b.jpg: 448x448 3 0s, 7.9ms\n",
      "image 808/942 /kaggle/working/face-detection-5/test/images/d6f5f0cb3e0f25c7_jpg.rf.a986bb6ac62ae90790433a325a204f52.jpg: 448x448 2 0s, 8.0ms\n",
      "image 809/942 /kaggle/working/face-detection-5/test/images/d73cd14e88289368_jpg.rf.005ecc6a0a1d8f173b8d6d7413dcb0dc.jpg: 448x448 (no detections), 8.0ms\n",
      "image 810/942 /kaggle/working/face-detection-5/test/images/d77d846ade8563aa_jpg.rf.ecaa35f78f1dbaa2fa79b018ae28a313.jpg: 448x448 1 0, 8.1ms\n",
      "image 811/942 /kaggle/working/face-detection-5/test/images/d7a11db5b64b9ddc_jpg.rf.fa0d4f297f121910a9c475364925d27d.jpg: 448x448 1 0, 8.0ms\n",
      "image 812/942 /kaggle/working/face-detection-5/test/images/d8297f518a645564_jpg.rf.41d25ff210bc6ebf84bf6ce01737676c.jpg: 448x448 (no detections), 8.4ms\n",
      "image 813/942 /kaggle/working/face-detection-5/test/images/d867cb4a9c1bfe77_jpg.rf.480c717f929b173259ead3ed64e120d8.jpg: 448x448 1 0, 8.4ms\n",
      "image 814/942 /kaggle/working/face-detection-5/test/images/d8cc1fa2fa5f221a_jpg.rf.f5132cdfcdb3e73f9db6c7b5b1e86390.jpg: 448x448 5 0s, 8.8ms\n",
      "image 815/942 /kaggle/working/face-detection-5/test/images/d8dfbf685da0c49d_jpg.rf.56a2e29ff58e1d9348f1d6aaefb73517.jpg: 448x448 2 0s, 8.0ms\n",
      "image 816/942 /kaggle/working/face-detection-5/test/images/d926acfa09919a3c_jpg.rf.31155449fc2e7a333c97e1b071f757f4.jpg: 448x448 1 0, 8.1ms\n",
      "image 817/942 /kaggle/working/face-detection-5/test/images/d9e6242458e185f9_jpg.rf.6a1c236e6be1c8388639ac7fc6c90c69.jpg: 448x448 10 0s, 8.1ms\n",
      "image 818/942 /kaggle/working/face-detection-5/test/images/da018599ad7b094f_jpg.rf.d264dfecf0eda569bb985c003172c701.jpg: 448x448 1 0, 8.1ms\n",
      "image 819/942 /kaggle/working/face-detection-5/test/images/da4c8295556307a1_jpg.rf.d2cb518845a80dc25eb4bfce66d9c53d.jpg: 448x448 1 0, 8.3ms\n",
      "image 820/942 /kaggle/working/face-detection-5/test/images/da6466c1ea6d2bb7_jpg.rf.cf415abb039a82a0c5b281f2dc35d599.jpg: 448x448 5 0s, 8.3ms\n",
      "image 821/942 /kaggle/working/face-detection-5/test/images/dae876b560cfe9a8_jpg.rf.33e4a33de19a79a3e2e725c82eed2f65.jpg: 448x448 8 0s, 8.3ms\n",
      "image 822/942 /kaggle/working/face-detection-5/test/images/db11ee859972e09f_jpg.rf.a3a51c40800f790b4c8df97eb45c3b3c.jpg: 448x448 1 0, 8.2ms\n",
      "image 823/942 /kaggle/working/face-detection-5/test/images/dbe8c564938c64c3_jpg.rf.4b6bafbaf184f5a8e563f04c1b92a2e8.jpg: 448x448 6 0s, 9.1ms\n",
      "image 824/942 /kaggle/working/face-detection-5/test/images/dc45ee2e9db043b1_jpg.rf.8178cbbd7e2287a321dac0dd5ef0e603.jpg: 448x448 1 0, 9.0ms\n",
      "image 825/942 /kaggle/working/face-detection-5/test/images/dc9838d09c004814_jpg.rf.87819bd50f32f08540e604d3660b66bf.jpg: 448x448 2 0s, 8.6ms\n",
      "image 826/942 /kaggle/working/face-detection-5/test/images/dcac815d0c961d12_jpg.rf.f835adf99699514301b650d3fc74f56a.jpg: 448x448 1 0, 8.4ms\n",
      "image 827/942 /kaggle/working/face-detection-5/test/images/dcda0badfa578ba7_jpg.rf.5f5ceb2ad019eb297ea9ee3d89f04c9e.jpg: 448x448 4 0s, 8.2ms\n",
      "image 828/942 /kaggle/working/face-detection-5/test/images/dcda2dbf4fb47cbd_jpg.rf.d2cabee57d1295d923cc1b64e8f9fdad.jpg: 448x448 3 0s, 9.3ms\n",
      "image 829/942 /kaggle/working/face-detection-5/test/images/dd14df873bac7bf4_jpg.rf.c80388d2f0d44e62a97d6c526483d0f5.jpg: 448x448 1 0, 8.1ms\n",
      "image 830/942 /kaggle/working/face-detection-5/test/images/dd23d821de9a209b_jpg.rf.a589cdafa748471ed83adc2e187c155a.jpg: 448x448 1 0, 8.1ms\n",
      "image 831/942 /kaggle/working/face-detection-5/test/images/ddacbd40487f5fb4_jpg.rf.0aa388b50ac8c86ee374bba8f31167b9.jpg: 448x448 1 0, 8.5ms\n",
      "image 832/942 /kaggle/working/face-detection-5/test/images/de7e15f9b7111df0_jpg.rf.49fe18b5232e4ad1d2e712dda66357f6.jpg: 448x448 3 0s, 8.3ms\n",
      "image 833/942 /kaggle/working/face-detection-5/test/images/df07757016352d6c_jpg.rf.d7cf02c15456d3193c11d4254d33e289.jpg: 448x448 1 0, 8.1ms\n",
      "image 834/942 /kaggle/working/face-detection-5/test/images/dfbf46c9242e1e84_jpg.rf.146a5f7d3647a5018c371d64428fb53e.jpg: 448x448 2 0s, 8.1ms\n",
      "image 835/942 /kaggle/working/face-detection-5/test/images/e00a1e72e11a585a_jpg.rf.4f2bf659fe67d3d6c8731bd8c3384384.jpg: 448x448 3 0s, 8.3ms\n",
      "image 836/942 /kaggle/working/face-detection-5/test/images/e0211f137ccee513_jpg.rf.f19db6455b9a36193e8e94ccca97792c.jpg: 448x448 7 0s, 8.0ms\n",
      "image 837/942 /kaggle/working/face-detection-5/test/images/e058798c72077f31_jpg.rf.8f89aeb0e5f799a0e1882f24cb10d049.jpg: 448x448 1 0, 7.9ms\n",
      "image 838/942 /kaggle/working/face-detection-5/test/images/e0e84d670882420e_jpg.rf.b760570881889be25a50d169b6ec3e81.jpg: 448x448 1 0, 8.3ms\n",
      "image 839/942 /kaggle/working/face-detection-5/test/images/e1b018bb5c715e54_jpg.rf.ecf4b5900e4f108c8624b065ac42700f.jpg: 448x448 1 0, 7.9ms\n",
      "image 840/942 /kaggle/working/face-detection-5/test/images/e1d07a3ec270b62e_jpg.rf.fe2a3bb04535763060b0c83fecd9d789.jpg: 448x448 3 0s, 8.5ms\n",
      "image 841/942 /kaggle/working/face-detection-5/test/images/e1deb670fef0e1a0_jpg.rf.43e4d70a22d7e2a1a94d075b2f719531.jpg: 448x448 2 0s, 8.1ms\n",
      "image 842/942 /kaggle/working/face-detection-5/test/images/e1e9d4a13d66aba3_jpg.rf.5d680607ce1e4947e01988ddd54401e5.jpg: 448x448 10 0s, 8.3ms\n",
      "image 843/942 /kaggle/working/face-detection-5/test/images/e20bf7d5b6d91713_jpg.rf.b4547252b4beaaa83613994536a575ca.jpg: 448x448 1 0, 8.3ms\n",
      "image 844/942 /kaggle/working/face-detection-5/test/images/e227ac40ab8c6a2a_jpg.rf.a76ed2d5d6b2e4606e2f2363a7fbbedd.jpg: 448x448 1 0, 8.1ms\n",
      "image 845/942 /kaggle/working/face-detection-5/test/images/e24c77e900dffd1c_jpg.rf.335d6913562b500f4d4f2b3cb14b3557.jpg: 448x448 1 0, 8.4ms\n",
      "image 846/942 /kaggle/working/face-detection-5/test/images/e28ff54e352c4e52_jpg.rf.0861d1e13ac4d45c2c16649b47409b6f.jpg: 448x448 6 0s, 8.0ms\n",
      "image 847/942 /kaggle/working/face-detection-5/test/images/e2d419046160dc6a_jpg.rf.8d2dd100017c7a54e6cb5e411a476f5e.jpg: 448x448 1 0, 8.1ms\n",
      "image 848/942 /kaggle/working/face-detection-5/test/images/e2d83a1afd61f988_jpg.rf.311a6aa257c8ed6081c2533e980b6922.jpg: 448x448 1 0, 7.9ms\n",
      "image 849/942 /kaggle/working/face-detection-5/test/images/e2e877fe5952abdf_jpg.rf.96d0ceb0bcd7f0c18a490d748d5b52c4.jpg: 448x448 1 0, 7.9ms\n",
      "image 850/942 /kaggle/working/face-detection-5/test/images/e3bcfe06c77e3206_jpg.rf.966a4a201f5a4e61995b0e238ff4b7ae.jpg: 448x448 1 0, 7.9ms\n",
      "image 851/942 /kaggle/working/face-detection-5/test/images/e3e8a9e5ab436c9f_jpg.rf.3b637bf1d3e2b5433940bb7826045d8f.jpg: 448x448 3 0s, 8.2ms\n",
      "image 852/942 /kaggle/working/face-detection-5/test/images/e5808d83f987f9fb_jpg.rf.33f00e82d8a89d3da449b1da5a799668.jpg: 448x448 4 0s, 8.2ms\n",
      "image 853/942 /kaggle/working/face-detection-5/test/images/e5f16279555951a7_jpg.rf.548ef4c0713b0ddacf74fadee80282fc.jpg: 448x448 3 0s, 7.8ms\n",
      "image 854/942 /kaggle/working/face-detection-5/test/images/e6872c1d48a26c13_jpg.rf.674f421635c36ea0c620244db9fda6a4.jpg: 448x448 1 0, 8.0ms\n",
      "image 855/942 /kaggle/working/face-detection-5/test/images/e6f2beac36ad48fc_jpg.rf.b33248378770f929e7b93a44712f590a.jpg: 448x448 1 0, 7.8ms\n",
      "image 856/942 /kaggle/working/face-detection-5/test/images/e774c073c3d62295_jpg.rf.6bfd353aa7cb437c37030037dafdd9d8.jpg: 448x448 5 0s, 8.1ms\n",
      "image 857/942 /kaggle/working/face-detection-5/test/images/e7acbd5ac8d713d7_jpg.rf.4b015503820d87d8afe9429fba98ba88.jpg: 448x448 (no detections), 8.1ms\n",
      "image 858/942 /kaggle/working/face-detection-5/test/images/e7bc0c4ddefa36b3_jpg.rf.dae43dcadd16421ba2fc1f9553b27f88.jpg: 448x448 2 0s, 7.9ms\n",
      "image 859/942 /kaggle/working/face-detection-5/test/images/e80b4e7b23f9817b_jpg.rf.f4eff4f3009170bbd00020f2135e3757.jpg: 448x448 1 0, 8.1ms\n",
      "image 860/942 /kaggle/working/face-detection-5/test/images/e8a407a971f699e6_jpg.rf.5c9a199000925b53548ce1c77562881a.jpg: 448x448 5 0s, 8.2ms\n",
      "image 861/942 /kaggle/working/face-detection-5/test/images/e95b195fed0e6755_jpg.rf.f0d51c316b6dda234903c9889118c9ee.jpg: 448x448 4 0s, 8.1ms\n",
      "image 862/942 /kaggle/working/face-detection-5/test/images/e97992551f6882d1_jpg.rf.321cbe1682c41d6984aebab9017e61f7.jpg: 448x448 1 0, 8.1ms\n",
      "image 863/942 /kaggle/working/face-detection-5/test/images/e991479b8b9220cb_jpg.rf.7e64008c3d68060c9818d752540ce7ea.jpg: 448x448 2 0s, 8.0ms\n",
      "image 864/942 /kaggle/working/face-detection-5/test/images/ea64fb275ee38a22_jpg.rf.61b0b15537f82040432ee2b72b792e41.jpg: 448x448 6 0s, 8.0ms\n",
      "image 865/942 /kaggle/working/face-detection-5/test/images/eb2618c6274a9560_jpg.rf.296658c95f6f353d9a89042086e126a6.jpg: 448x448 1 0, 7.9ms\n",
      "image 866/942 /kaggle/working/face-detection-5/test/images/eb445cd886d2ba36_jpg.rf.002749dd7dd95800de534d5799405a36.jpg: 448x448 2 0s, 8.1ms\n",
      "image 867/942 /kaggle/working/face-detection-5/test/images/eb5f5ec016609db4_jpg.rf.d880671707a78895c16357915db87b24.jpg: 448x448 2 0s, 8.0ms\n",
      "image 868/942 /kaggle/working/face-detection-5/test/images/eb6b76877b59d65c_jpg.rf.780cfcc93efe40ff1e97c97c969441f2.jpg: 448x448 3 0s, 8.0ms\n",
      "image 869/942 /kaggle/working/face-detection-5/test/images/ec22a598d53c5f54_jpg.rf.4107d54e73c424766c69ac42b5e6e566.jpg: 448x448 1 0, 8.0ms\n",
      "image 870/942 /kaggle/working/face-detection-5/test/images/ec6817910a5d6862_jpg.rf.604ca255b93e08ddd49160791bb95c47.jpg: 448x448 2 0s, 8.4ms\n",
      "image 871/942 /kaggle/working/face-detection-5/test/images/ec83607275270028_jpg.rf.d23534b23a20586495f44ec02125ebb8.jpg: 448x448 (no detections), 8.1ms\n",
      "image 872/942 /kaggle/working/face-detection-5/test/images/ec8a7fb6e8536410_jpg.rf.5942912ea9a7b9e09e155133c9f8d587.jpg: 448x448 2 0s, 8.1ms\n",
      "image 873/942 /kaggle/working/face-detection-5/test/images/ec8eca7fa71abd15_jpg.rf.61d656ce987f7835419a5971889a4162.jpg: 448x448 4 0s, 8.1ms\n",
      "image 874/942 /kaggle/working/face-detection-5/test/images/eca440a58acdfa8e_jpg.rf.7bc2c81f17e7f8e6484c9b0d9a13ed7c.jpg: 448x448 4 0s, 8.1ms\n",
      "image 875/942 /kaggle/working/face-detection-5/test/images/ecc91e0f7bd4eaf3_jpg.rf.4f0551d4efc502153158a5f653cf158f.jpg: 448x448 6 0s, 8.1ms\n",
      "image 876/942 /kaggle/working/face-detection-5/test/images/ecfd54a4f16ebf98_jpg.rf.c05d56c3adda5d01477ed469b73cc948.jpg: 448x448 2 0s, 8.1ms\n",
      "image 877/942 /kaggle/working/face-detection-5/test/images/ed40c89d67d08592_jpg.rf.4f73c9294805925e85aeb6b0d1c06b8d.jpg: 448x448 1 0, 8.0ms\n",
      "image 878/942 /kaggle/working/face-detection-5/test/images/ed53ad82dcead4cb_jpg.rf.2f03e104813599e01d79216006113615.jpg: 448x448 2 0s, 8.1ms\n",
      "image 879/942 /kaggle/working/face-detection-5/test/images/ed72f3d4cf0644ae_jpg.rf.6f71593b9b47a8db03d8728cb04bce9a.jpg: 448x448 5 0s, 8.0ms\n",
      "image 880/942 /kaggle/working/face-detection-5/test/images/edb7196833c2f566_jpg.rf.c045c2255e5c95baec41b0c6534f271f.jpg: 448x448 1 0, 8.0ms\n",
      "image 881/942 /kaggle/working/face-detection-5/test/images/edb9ad3991096ad7_jpg.rf.f5a9f70f3a0a5c7d34cab1fc701958e5.jpg: 448x448 2 0s, 8.7ms\n",
      "image 882/942 /kaggle/working/face-detection-5/test/images/edbc792b9139bdb4_jpg.rf.af3a02cf47157802b0f35a5a19a7df29.jpg: 448x448 2 0s, 8.6ms\n",
      "image 883/942 /kaggle/working/face-detection-5/test/images/ee663b1c89f78e77_jpg.rf.983e98ed855ee55e34268fa0253d2dd2.jpg: 448x448 7 0s, 8.0ms\n",
      "image 884/942 /kaggle/working/face-detection-5/test/images/ee9d31c2db54b100_jpg.rf.54f4b7225c9e6b4a8783f1fc4e6ed433.jpg: 448x448 7 0s, 7.9ms\n",
      "image 885/942 /kaggle/working/face-detection-5/test/images/eec23b44876f900f_jpg.rf.e300b2e580cd5d391db818a74d0ebeb2.jpg: 448x448 6 0s, 8.1ms\n",
      "image 886/942 /kaggle/working/face-detection-5/test/images/eed2d7c00801b3b9_jpg.rf.be6720ea19ed88aeacae0b9dd110ecb1.jpg: 448x448 1 0, 8.1ms\n",
      "image 887/942 /kaggle/working/face-detection-5/test/images/ef8bccdc62163c29_jpg.rf.8801543bbda0bd21f01dd0ea36b54376.jpg: 448x448 1 0, 8.0ms\n",
      "image 888/942 /kaggle/working/face-detection-5/test/images/efc9a93a4669a4e8_jpg.rf.5c69af722933bca2926c660ea2c2ab74.jpg: 448x448 2 0s, 8.0ms\n",
      "image 889/942 /kaggle/working/face-detection-5/test/images/f030366feb0ba525_jpg.rf.eafb09a81d2c2d5cca14e7eb3cabb1d4.jpg: 448x448 2 0s, 8.0ms\n",
      "image 890/942 /kaggle/working/face-detection-5/test/images/f0650a5f6191dadc_jpg.rf.1a81643c8cb7abcb5a6ecc462d123189.jpg: 448x448 1 0, 8.2ms\n",
      "image 891/942 /kaggle/working/face-detection-5/test/images/f152185d6deb72ed_jpg.rf.d109377b87994215a4ffdeddef26c4fb.jpg: 448x448 8 0s, 8.1ms\n",
      "image 892/942 /kaggle/working/face-detection-5/test/images/f163b2fa66fb9933_jpg.rf.0757045aed3f73eb09f670cc2a04cd4a.jpg: 448x448 4 0s, 8.1ms\n",
      "image 893/942 /kaggle/working/face-detection-5/test/images/f1b4be76291eda31_jpg.rf.e6b1e142cabf5b12f805a1334bdb3723.jpg: 448x448 4 0s, 7.9ms\n",
      "image 894/942 /kaggle/working/face-detection-5/test/images/f275e556e6fe41c6_jpg.rf.d37db520e25f505393cd9621020afd38.jpg: 448x448 2 0s, 8.1ms\n",
      "image 895/942 /kaggle/working/face-detection-5/test/images/f27d1350c96d96ee_jpg.rf.0f1ae1bb3388d1cce9ccff18cada2149.jpg: 448x448 7 0s, 8.2ms\n",
      "image 896/942 /kaggle/working/face-detection-5/test/images/f2bef0679cb82282_jpg.rf.5ee319d1255232ec0a230dd394a33143.jpg: 448x448 6 0s, 8.2ms\n",
      "image 897/942 /kaggle/working/face-detection-5/test/images/f3426b0cea1a61b3_jpg.rf.8301325af64f1b65c5ded73e705bef49.jpg: 448x448 4 0s, 8.1ms\n",
      "image 898/942 /kaggle/working/face-detection-5/test/images/f34857a530630162_jpg.rf.7859fab8ced75d42ea7a1ba2316a7167.jpg: 448x448 1 0, 9.5ms\n",
      "image 899/942 /kaggle/working/face-detection-5/test/images/f3a7d7b83c2d44f7_jpg.rf.aca4ac3a3c072989c9bb9cd16bc2d20e.jpg: 448x448 1 0, 8.0ms\n",
      "image 900/942 /kaggle/working/face-detection-5/test/images/f428e5f87eed722f_jpg.rf.4bcc3a7eaa06457657bf27a152fdb0bd.jpg: 448x448 1 0, 8.2ms\n",
      "image 901/942 /kaggle/working/face-detection-5/test/images/f47ada59ace43744_jpg.rf.471b6e5f7ac9f0d47e836e00fc9a5777.jpg: 448x448 1 0, 8.2ms\n",
      "image 902/942 /kaggle/working/face-detection-5/test/images/f4cb7d9e9087d003_jpg.rf.8ce96942cadb856ee6b955dd8b6468e8.jpg: 448x448 1 0, 8.0ms\n",
      "image 903/942 /kaggle/working/face-detection-5/test/images/f510d9479cb88939_jpg.rf.2338d458c6a03ed205c67a4db1894aa0.jpg: 448x448 2 0s, 8.1ms\n",
      "image 904/942 /kaggle/working/face-detection-5/test/images/f56f817b6668d3e5_jpg.rf.5335c4529f82fcdcbab18c04ad04f1bd.jpg: 448x448 2 0s, 8.2ms\n",
      "image 905/942 /kaggle/working/face-detection-5/test/images/f57133529936bf24_jpg.rf.331553bb0f3685c2e5681b93a9ba2e1c.jpg: 448x448 3 0s, 8.3ms\n",
      "image 906/942 /kaggle/working/face-detection-5/test/images/f63036e480b70edd_jpg.rf.19a6219c7e7ae9c8a7fad78a3654c28c.jpg: 448x448 1 0, 8.2ms\n",
      "image 907/942 /kaggle/working/face-detection-5/test/images/f6304202f5dd589f_jpg.rf.4a0c8f5e19405d3136a0024a2687f60d.jpg: 448x448 2 0s, 8.2ms\n",
      "image 908/942 /kaggle/working/face-detection-5/test/images/f65cd920309b1b0a_jpg.rf.5c7ae0c2decd39c48cbdefea9d2d8eff.jpg: 448x448 2 0s, 8.0ms\n",
      "image 909/942 /kaggle/working/face-detection-5/test/images/f682b09fa8999ffd_jpg.rf.80effcd2361ce356ac70ee41e5d53528.jpg: 448x448 2 0s, 8.1ms\n",
      "image 910/942 /kaggle/working/face-detection-5/test/images/f6ad6fea8d584033_jpg.rf.3e039a4c27978fe46ff6199bb98cf862.jpg: 448x448 1 0, 8.1ms\n",
      "image 911/942 /kaggle/working/face-detection-5/test/images/f6c3160fea9972d3_jpg.rf.a183a03a72fe2e1bb7b37208158bf76a.jpg: 448x448 1 0, 8.0ms\n",
      "image 912/942 /kaggle/working/face-detection-5/test/images/f70b3fa316daea12_jpg.rf.045325a0e9630301758c221d525c69d6.jpg: 448x448 4 0s, 7.8ms\n",
      "image 913/942 /kaggle/working/face-detection-5/test/images/f802ce7efca98c21_jpg.rf.ad34edf1ec08176aab0e95a7c71754b2.jpg: 448x448 1 0, 8.0ms\n",
      "image 914/942 /kaggle/working/face-detection-5/test/images/f8106c21458fb740_jpg.rf.994b70f16939350b3430883fc65197a7.jpg: 448x448 3 0s, 7.9ms\n",
      "image 915/942 /kaggle/working/face-detection-5/test/images/f86201bd0e6dbba2_jpg.rf.b5dc1f5ba416e013d5ec8382df402162.jpg: 448x448 2 0s, 7.9ms\n",
      "image 916/942 /kaggle/working/face-detection-5/test/images/f8e0c91343793073_jpg.rf.a37b27554dc0ebdf312804979b384687.jpg: 448x448 1 0, 8.3ms\n",
      "image 917/942 /kaggle/working/face-detection-5/test/images/f94dfe2d0c5a0313_jpg.rf.4be64c0b94d6be38b4638ef281ffff2b.jpg: 448x448 1 0, 8.1ms\n",
      "image 918/942 /kaggle/working/face-detection-5/test/images/f953abf92518f59a_jpg.rf.2be14f20f016b8ade7444210115e18a6.jpg: 448x448 1 0, 8.0ms\n",
      "image 919/942 /kaggle/working/face-detection-5/test/images/fa1534e3e57a6cc3_jpg.rf.67ca56823c84f966bb979f8389411f15.jpg: 448x448 1 0, 8.1ms\n",
      "image 920/942 /kaggle/working/face-detection-5/test/images/fa27886c70b67206_jpg.rf.816a7a4e89c3db900ab0cf8875de7af6.jpg: 448x448 2 0s, 8.5ms\n",
      "image 921/942 /kaggle/working/face-detection-5/test/images/fa30a677a5a4346a_jpg.rf.7e0f1576f23190351ff68f2945ecb7ae.jpg: 448x448 7 0s, 8.2ms\n",
      "image 922/942 /kaggle/working/face-detection-5/test/images/fa6b58354f7873d8_jpg.rf.a6e4f41c983ebd9431bf21cf6511fc47.jpg: 448x448 3 0s, 8.2ms\n",
      "image 923/942 /kaggle/working/face-detection-5/test/images/fa6c33661af8e54b_jpg.rf.56d2f0ef31ddcc5a975853373cbd0432.jpg: 448x448 4 0s, 8.1ms\n",
      "image 924/942 /kaggle/working/face-detection-5/test/images/fa814cf606827c48_jpg.rf.c1e920b1364a57a00ab78cfeaacab27d.jpg: 448x448 8 0s, 8.0ms\n",
      "image 925/942 /kaggle/working/face-detection-5/test/images/faa825b67af45be8_jpg.rf.27115e606ef1e12e7577159e19ab01c9.jpg: 448x448 4 0s, 8.2ms\n",
      "image 926/942 /kaggle/working/face-detection-5/test/images/fad062f699dab607_jpg.rf.e2743f972390386d50d3866708ff7d45.jpg: 448x448 4 0s, 8.0ms\n",
      "image 927/942 /kaggle/working/face-detection-5/test/images/faf8e37a9e6156c5_jpg.rf.3d939d538138536a2646a0bfd33e2c21.jpg: 448x448 7 0s, 8.5ms\n",
      "image 928/942 /kaggle/working/face-detection-5/test/images/fb1c09d078a99a51_jpg.rf.6a0f9bdcb608673b413ecdc70c64e8f0.jpg: 448x448 2 0s, 7.9ms\n",
      "image 929/942 /kaggle/working/face-detection-5/test/images/fb5e2ed451642389_jpg.rf.199cfb735bf4aee200ab6c4fdf3bee5b.jpg: 448x448 4 0s, 8.0ms\n",
      "image 930/942 /kaggle/working/face-detection-5/test/images/fb76d2a0275b1c1c_jpg.rf.d85b416231cb4558d881616aeeba0fa6.jpg: 448x448 7 0s, 7.9ms\n",
      "image 931/942 /kaggle/working/face-detection-5/test/images/fc094ded2658695d_jpg.rf.83ea3437e585cad2474fe939f80fdb6c.jpg: 448x448 3 0s, 8.0ms\n",
      "image 932/942 /kaggle/working/face-detection-5/test/images/fd0ecda44328a0b2_jpg.rf.55e5bb0db63fb29e1b81ee83ce84070b.jpg: 448x448 2 0s, 7.9ms\n",
      "image 933/942 /kaggle/working/face-detection-5/test/images/fd291861293e0601_jpg.rf.7d0acaf38ce38252e83535660c8b8b2e.jpg: 448x448 1 0, 8.0ms\n",
      "image 934/942 /kaggle/working/face-detection-5/test/images/fd2e54b685de4f41_jpg.rf.9ea63634955a4b4a9a945425c304c3a1.jpg: 448x448 2 0s, 8.1ms\n",
      "image 935/942 /kaggle/working/face-detection-5/test/images/fe4fd7f04f647e76_jpg.rf.d26c39e5eb551186c5be881f9e4d6434.jpg: 448x448 1 0, 8.4ms\n",
      "image 936/942 /kaggle/working/face-detection-5/test/images/fed8da44f6732527_jpg.rf.adcf98d9ecdbcfb84e742c2bcfcef314.jpg: 448x448 1 0, 8.3ms\n",
      "image 937/942 /kaggle/working/face-detection-5/test/images/fef292d372cc79f7_jpg.rf.bd5e43cb264340e8e38e2a8f6b838b44.jpg: 448x448 1 0, 8.0ms\n",
      "image 938/942 /kaggle/working/face-detection-5/test/images/ff3516912360bf79_jpg.rf.b870cb9d3acac4ece855769a49fa2cbd.jpg: 448x448 1 0, 8.2ms\n",
      "image 939/942 /kaggle/working/face-detection-5/test/images/ffa6b8e0d6de0af2_jpg.rf.8dd9f6b54fa7574076226f2dc966ae5c.jpg: 448x448 1 0, 8.4ms\n",
      "image 940/942 /kaggle/working/face-detection-5/test/images/ffac33c4a6d7eaa5_jpg.rf.67e83bfa8ab8b48b11f1660d86efdd35.jpg: 448x448 1 0, 8.0ms\n",
      "image 941/942 /kaggle/working/face-detection-5/test/images/ffb970c7dd047d55_jpg.rf.ddfce47fa666bf21723288f3fc27eb13.jpg: 448x448 4 0s, 7.9ms\n",
      "image 942/942 /kaggle/working/face-detection-5/test/images/ffcb6e60bc651c99_jpg.rf.eff9e313b15b40281d31157cce8cc335.jpg: 448x448 1 0, 7.9ms\n",
      "Speed: 1.2ms preprocess, 8.7ms inference, 1.2ms postprocess per image at shape (1, 3, 448, 448)\n",
      "Results saved to \u001b[1mruns/detect/predict\u001b[0m\n"
     ]
    },
    {
     "data": {
      "image/jpeg": "[encoded data removed]",
      "text/plain": [
       "<IPython.core.display.Image object>"
      ]
     },
     "metadata": {
      "image/jpeg": {
       "height": 500,
       "width": 500
      }
     },
     "output_type": "display_data"
    },
    {
     "data": {
      "image/jpeg": "[encoded data removed]",
      "text/plain": [
       "<IPython.core.display.Image object>"
      ]
     },
     "metadata": {
      "image/jpeg": {
       "height": 500,
       "width": 500
      }
     },
     "output_type": "display_data"
    },
    {
     "data": {
      "image/jpeg": "[encoded data removed]",
      "text/plain": [
       "<IPython.core.display.Image object>"
      ]
     },
     "metadata": {
      "image/jpeg": {
       "height": 500,
       "width": 500
      }
     },
     "output_type": "display_data"
    },
    {
     "data": {
      "image/jpeg": "[encoded data removed]",
      "text/plain": [
       "<IPython.core.display.Image object>"
      ]
     },
     "metadata": {
      "image/jpeg": {
       "height": 500,
       "width": 500
      }
     },
     "output_type": "display_data"
    },
    {
     "data": {
      "image/jpeg": "[encoded data removed]",
      "text/plain": [
       "<IPython.core.display.Image object>"
      ]
     },
     "metadata": {
      "image/jpeg": {
       "height": 500,
       "width": 500
      }
     },
     "output_type": "display_data"
    }
   ],
   "source": [
    "yolo11_model_segmentation=YOLO('YOLO_weights/face-detection-5output/weights/best.pt')  #weights do treino\n",
    "yolo11_model_segmentation.predict(source='face-detection-5/test/images', save=True )\n",
    "\n",
    "res_path = 'runs/detect/predict'\n",
    "for image in os.listdir(res_path)[-5:]:\n",
    "    display(Image(filename=os.path.join(res_path, image), height=500, width=500))"
   ]
  }
 ],
 "metadata": {
  "kaggle": {
   "accelerator": "nvidiaTeslaT4",
   "dataSources": [],
   "dockerImageVersionId": 30762,
   "isGpuEnabled": true,
   "isInternetEnabled": true,
   "language": "python",
   "sourceType": "notebook"
  },
  "kernelspec": {
   "display_name": "Python 3",
   "language": "python",
   "name": "python3"
  },
  "language_info": {
   "codemirror_mode": {
    "name": "ipython",
    "version": 3
   },
   "file_extension": ".py",
   "mimetype": "text/x-python",
   "name": "python",
   "nbconvert_exporter": "python",
   "pygments_lexer": "ipython3",
   "version": "3.10.14"
  }
 },
 "nbformat": 4,
 "nbformat_minor": 4
}
